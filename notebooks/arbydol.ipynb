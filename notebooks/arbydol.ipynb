{
 "cells": [
  {
   "cell_type": "markdown",
   "metadata": {},
   "source": [
    "# Analyse arbitrage data we have"
   ]
  },
  {
   "cell_type": "markdown",
   "metadata": {},
   "source": [
    "<h1 id=\"tocheading\">Table of Contents</h1>\n",
    "<div id=\"toc\"></div>"
   ]
  },
  {
   "cell_type": "code",
   "execution_count": 1,
   "metadata": {},
   "outputs": [
    {
     "data": {
      "application/javascript": [
       "$.getScript('https://kmahelona.github.io/ipython_notebook_goodies/ipython_notebook_toc.js')\n"
      ],
      "text/plain": [
       "<IPython.core.display.Javascript object>"
      ]
     },
     "metadata": {},
     "output_type": "display_data"
    }
   ],
   "source": [
    "%%javascript\n",
    "$.getScript('https://kmahelona.github.io/ipython_notebook_goodies/ipython_notebook_toc.js')"
   ]
  },
  {
   "cell_type": "markdown",
   "metadata": {},
   "source": [
    "## Install stuff"
   ]
  },
  {
   "cell_type": "code",
   "execution_count": 2,
   "metadata": {},
   "outputs": [
    {
     "name": "stdout",
     "output_type": "stream",
     "text": [
      "Requirement already satisfied: pandas in /Users/az/.pyenv/versions/3.7.7/lib/python3.7/site-packages (1.0.5)\n",
      "Requirement already satisfied: numpy>=1.13.3 in /Users/az/.pyenv/versions/3.7.7/lib/python3.7/site-packages (from pandas) (1.19.0)\n",
      "Requirement already satisfied: pytz>=2017.2 in /Users/az/.pyenv/versions/3.7.7/lib/python3.7/site-packages (from pandas) (2020.1)\n",
      "Requirement already satisfied: python-dateutil>=2.6.1 in /Users/az/.pyenv/versions/3.7.7/lib/python3.7/site-packages (from pandas) (2.8.1)\n",
      "Requirement already satisfied: six>=1.5 in /Users/az/.pyenv/versions/3.7.7/lib/python3.7/site-packages (from python-dateutil>=2.6.1->pandas) (1.15.0)\n",
      "\u001b[33mWARNING: You are using pip version 19.2.3, however version 21.1.1 is available.\n",
      "You should consider upgrading via the 'pip install --upgrade pip' command.\u001b[0m\n"
     ]
    }
   ],
   "source": [
    "!pip install pandas"
   ]
  },
  {
   "cell_type": "code",
   "execution_count": 3,
   "metadata": {
    "pycharm": {
     "name": "#%%\n"
    }
   },
   "outputs": [
    {
     "name": "stdout",
     "output_type": "stream",
     "text": [
      "Requirement already satisfied: matplotlib in /Users/az/.pyenv/versions/3.7.7/lib/python3.7/site-packages (3.3.2)\n",
      "Requirement already satisfied: pyparsing!=2.0.4,!=2.1.2,!=2.1.6,>=2.0.3 in /Users/az/.pyenv/versions/3.7.7/lib/python3.7/site-packages (from matplotlib) (2.4.7)\n",
      "Requirement already satisfied: pillow>=6.2.0 in /Users/az/.pyenv/versions/3.7.7/lib/python3.7/site-packages (from matplotlib) (7.2.0)\n",
      "Requirement already satisfied: cycler>=0.10 in /Users/az/.pyenv/versions/3.7.7/lib/python3.7/site-packages (from matplotlib) (0.10.0)\n",
      "Requirement already satisfied: certifi>=2020.06.20 in /Users/az/.pyenv/versions/3.7.7/lib/python3.7/site-packages (from matplotlib) (2020.6.20)\n",
      "Requirement already satisfied: numpy>=1.15 in /Users/az/.pyenv/versions/3.7.7/lib/python3.7/site-packages (from matplotlib) (1.19.0)\n",
      "Requirement already satisfied: kiwisolver>=1.0.1 in /Users/az/.pyenv/versions/3.7.7/lib/python3.7/site-packages (from matplotlib) (1.2.0)\n",
      "Requirement already satisfied: python-dateutil>=2.1 in /Users/az/.pyenv/versions/3.7.7/lib/python3.7/site-packages (from matplotlib) (2.8.1)\n",
      "Requirement already satisfied: six in /Users/az/.pyenv/versions/3.7.7/lib/python3.7/site-packages (from cycler>=0.10->matplotlib) (1.15.0)\n",
      "\u001b[33mWARNING: You are using pip version 19.2.3, however version 21.1.1 is available.\n",
      "You should consider upgrading via the 'pip install --upgrade pip' command.\u001b[0m\n"
     ]
    }
   ],
   "source": [
    "!pip install matplotlib"
   ]
  },
  {
   "cell_type": "code",
   "execution_count": 4,
   "metadata": {
    "pycharm": {
     "name": "#%%\n"
    }
   },
   "outputs": [
    {
     "name": "stdout",
     "output_type": "stream",
     "text": [
      "Requirement already satisfied: sqlalchemy in /Users/az/.pyenv/versions/3.7.7/lib/python3.7/site-packages (1.4.14)\n",
      "Requirement already satisfied: greenlet!=0.4.17; python_version >= \"3\" in /Users/az/.pyenv/versions/3.7.7/lib/python3.7/site-packages (from sqlalchemy) (1.1.0)\n",
      "Requirement already satisfied: importlib-metadata; python_version < \"3.8\" in /Users/az/.pyenv/versions/3.7.7/lib/python3.7/site-packages (from sqlalchemy) (4.0.1)\n",
      "Requirement already satisfied: typing-extensions>=3.6.4; python_version < \"3.8\" in /Users/az/.pyenv/versions/3.7.7/lib/python3.7/site-packages (from importlib-metadata; python_version < \"3.8\"->sqlalchemy) (3.7.4.3)\n",
      "Requirement already satisfied: zipp>=0.5 in /Users/az/.pyenv/versions/3.7.7/lib/python3.7/site-packages (from importlib-metadata; python_version < \"3.8\"->sqlalchemy) (3.3.0)\n",
      "\u001b[33mWARNING: You are using pip version 19.2.3, however version 21.1.1 is available.\n",
      "You should consider upgrading via the 'pip install --upgrade pip' command.\u001b[0m\n"
     ]
    }
   ],
   "source": [
    "!pip install sqlalchemy"
   ]
  },
  {
   "cell_type": "code",
   "execution_count": 5,
   "metadata": {},
   "outputs": [
    {
     "name": "stdout",
     "output_type": "stream",
     "text": [
      "Requirement already satisfied: boto3 in /Users/az/.pyenv/versions/3.7.7/lib/python3.7/site-packages (1.14.17)\n",
      "Requirement already satisfied: s3transfer<0.4.0,>=0.3.0 in /Users/az/.pyenv/versions/3.7.7/lib/python3.7/site-packages (from boto3) (0.3.3)\n",
      "Requirement already satisfied: jmespath<1.0.0,>=0.7.1 in /Users/az/.pyenv/versions/3.7.7/lib/python3.7/site-packages (from boto3) (0.10.0)\n",
      "Requirement already satisfied: botocore<1.18.0,>=1.17.17 in /Users/az/.pyenv/versions/3.7.7/lib/python3.7/site-packages (from boto3) (1.17.63)\n",
      "Requirement already satisfied: docutils<0.16,>=0.10 in /Users/az/.pyenv/versions/3.7.7/lib/python3.7/site-packages (from botocore<1.18.0,>=1.17.17->boto3) (0.15.2)\n",
      "Requirement already satisfied: python-dateutil<3.0.0,>=2.1 in /Users/az/.pyenv/versions/3.7.7/lib/python3.7/site-packages (from botocore<1.18.0,>=1.17.17->boto3) (2.8.1)\n",
      "Requirement already satisfied: urllib3<1.26,>=1.20; python_version != \"3.4\" in /Users/az/.pyenv/versions/3.7.7/lib/python3.7/site-packages (from botocore<1.18.0,>=1.17.17->boto3) (1.25.10)\n",
      "Requirement already satisfied: six>=1.5 in /Users/az/.pyenv/versions/3.7.7/lib/python3.7/site-packages (from python-dateutil<3.0.0,>=2.1->botocore<1.18.0,>=1.17.17->boto3) (1.15.0)\n",
      "\u001b[33mWARNING: You are using pip version 19.2.3, however version 21.1.1 is available.\n",
      "You should consider upgrading via the 'pip install --upgrade pip' command.\u001b[0m\n"
     ]
    }
   ],
   "source": [
    "!pip install boto3"
   ]
  },
  {
   "cell_type": "code",
   "execution_count": 6,
   "metadata": {},
   "outputs": [],
   "source": [
    "import sys\n",
    "import os\n",
    "import matplotlib\n",
    "import pandas as pd\n",
    "import matplotlib.pyplot as plt\n",
    "import boto3"
   ]
  },
  {
   "cell_type": "code",
   "execution_count": 7,
   "metadata": {},
   "outputs": [],
   "source": [
    "matplotlib.style.use('seaborn')"
   ]
  },
  {
   "cell_type": "markdown",
   "metadata": {},
   "source": [
    "### Connect to AWS"
   ]
  },
  {
   "cell_type": "markdown",
   "metadata": {},
   "source": [
    "Set your AWS profile name, or create session using your AWS keys"
   ]
  },
  {
   "cell_type": "code",
   "execution_count": 8,
   "metadata": {},
   "outputs": [
    {
     "name": "stdout",
     "output_type": "stream",
     "text": [
      "\n"
     ]
    }
   ],
   "source": [
    "# aws_access_key = os.environ[\"GIW_AWS_ACCESS_KEY\"]\n",
    "# aws_access_secret = os.environ[\"GIW_AWS_ACCESS_SECRET\"]\n",
    "print()"
   ]
  },
  {
   "cell_type": "code",
   "execution_count": 9,
   "metadata": {},
   "outputs": [],
   "source": [
    "# Set your AWS profile name, or create session using your AWS keys\n",
    "boto3.setup_default_session(profile_name=\"goodit\")"
   ]
  },
  {
   "cell_type": "markdown",
   "metadata": {},
   "source": [
    "## Load data"
   ]
  },
  {
   "cell_type": "code",
   "execution_count": 10,
   "metadata": {},
   "outputs": [],
   "source": [
    "table = boto3.resource(\"dynamodb\").Table(\"patron-arbitrage\")"
   ]
  },
  {
   "cell_type": "code",
   "execution_count": 11,
   "metadata": {},
   "outputs": [],
   "source": [
    "response = table.scan()\n",
    "data = response['Items']"
   ]
  },
  {
   "cell_type": "code",
   "execution_count": 12,
   "metadata": {},
   "outputs": [
    {
     "data": {
      "text/plain": [
       "3173"
      ]
     },
     "execution_count": 12,
     "metadata": {},
     "output_type": "execute_result"
    }
   ],
   "source": [
    "len(data)"
   ]
  },
  {
   "cell_type": "code",
   "execution_count": 13,
   "metadata": {},
   "outputs": [
    {
     "data": {
      "text/plain": [
       "[{'roi': Decimal('0.001756636192973171'),\n",
       "  'profit': Decimal('1.416366979213303'),\n",
       "  'market_path': 'EPS/BTC -> BTC/USDT -> EPS/USDT',\n",
       "  'market': 'EPS/BTC',\n",
       "  'coin_path': 'EPS -> BTC -> USDT -> EPS',\n",
       "  'timems': Decimal('1620561473483')},\n",
       " {'roi': Decimal('0.002334603798706425'),\n",
       "  'profit': Decimal('1.7051946145751729'),\n",
       "  'market_path': 'HOT/BUSD -> BNB/BUSD -> HOT/BNB',\n",
       "  'market': 'HOT/BUSD',\n",
       "  'coin_path': 'HOT -> BUSD -> BNB -> HOT',\n",
       "  'timems': Decimal('1620644621758')},\n",
       " {'roi': Decimal('0.009234737201892718'),\n",
       "  'profit': Decimal('24.12021009762359'),\n",
       "  'market_path': 'HOT/BUSD -> BUSD/TRY -> HOT/TRY',\n",
       "  'market': 'HOT/BUSD',\n",
       "  'coin_path': 'HOT -> BUSD -> TRY -> HOT',\n",
       "  'timems': Decimal('1620644622511')},\n",
       " {'roi': Decimal('0.007878453474585267'),\n",
       "  'profit': Decimal('3.4554896939530986'),\n",
       "  'market_path': 'HOT/BUSD -> BUSD/TRY -> HOT/TRY',\n",
       "  'market': 'HOT/BUSD',\n",
       "  'coin_path': 'HOT -> BUSD -> TRY -> HOT',\n",
       "  'timems': Decimal('1620644623980')},\n",
       " {'roi': Decimal('0.005154715529422926'),\n",
       "  'profit': Decimal('7.065053104627062'),\n",
       "  'market_path': 'HOT/BUSD -> BUSD/TRY -> HOT/TRY',\n",
       "  'market': 'HOT/BUSD',\n",
       "  'coin_path': 'HOT -> BUSD -> TRY -> HOT',\n",
       "  'timems': Decimal('1620644624637')}]"
      ]
     },
     "execution_count": 13,
     "metadata": {},
     "output_type": "execute_result"
    }
   ],
   "source": [
    "data[:5]"
   ]
  },
  {
   "cell_type": "code",
   "execution_count": 14,
   "metadata": {},
   "outputs": [],
   "source": [
    "df = pd.DataFrame(data)"
   ]
  },
  {
   "cell_type": "code",
   "execution_count": 15,
   "metadata": {},
   "outputs": [
    {
     "data": {
      "text/html": [
       "<div>\n",
       "<style scoped>\n",
       "    .dataframe tbody tr th:only-of-type {\n",
       "        vertical-align: middle;\n",
       "    }\n",
       "\n",
       "    .dataframe tbody tr th {\n",
       "        vertical-align: top;\n",
       "    }\n",
       "\n",
       "    .dataframe thead th {\n",
       "        text-align: right;\n",
       "    }\n",
       "</style>\n",
       "<table border=\"1\" class=\"dataframe\">\n",
       "  <thead>\n",
       "    <tr style=\"text-align: right;\">\n",
       "      <th></th>\n",
       "      <th>roi</th>\n",
       "      <th>profit</th>\n",
       "      <th>market_path</th>\n",
       "      <th>market</th>\n",
       "      <th>coin_path</th>\n",
       "      <th>timems</th>\n",
       "    </tr>\n",
       "  </thead>\n",
       "  <tbody>\n",
       "    <tr>\n",
       "      <th>0</th>\n",
       "      <td>0.001756636192973171</td>\n",
       "      <td>1.416366979213303</td>\n",
       "      <td>EPS/BTC -&gt; BTC/USDT -&gt; EPS/USDT</td>\n",
       "      <td>EPS/BTC</td>\n",
       "      <td>EPS -&gt; BTC -&gt; USDT -&gt; EPS</td>\n",
       "      <td>1620561473483</td>\n",
       "    </tr>\n",
       "    <tr>\n",
       "      <th>1</th>\n",
       "      <td>0.002334603798706425</td>\n",
       "      <td>1.7051946145751729</td>\n",
       "      <td>HOT/BUSD -&gt; BNB/BUSD -&gt; HOT/BNB</td>\n",
       "      <td>HOT/BUSD</td>\n",
       "      <td>HOT -&gt; BUSD -&gt; BNB -&gt; HOT</td>\n",
       "      <td>1620644621758</td>\n",
       "    </tr>\n",
       "    <tr>\n",
       "      <th>2</th>\n",
       "      <td>0.009234737201892718</td>\n",
       "      <td>24.12021009762359</td>\n",
       "      <td>HOT/BUSD -&gt; BUSD/TRY -&gt; HOT/TRY</td>\n",
       "      <td>HOT/BUSD</td>\n",
       "      <td>HOT -&gt; BUSD -&gt; TRY -&gt; HOT</td>\n",
       "      <td>1620644622511</td>\n",
       "    </tr>\n",
       "    <tr>\n",
       "      <th>3</th>\n",
       "      <td>0.007878453474585267</td>\n",
       "      <td>3.4554896939530986</td>\n",
       "      <td>HOT/BUSD -&gt; BUSD/TRY -&gt; HOT/TRY</td>\n",
       "      <td>HOT/BUSD</td>\n",
       "      <td>HOT -&gt; BUSD -&gt; TRY -&gt; HOT</td>\n",
       "      <td>1620644623980</td>\n",
       "    </tr>\n",
       "    <tr>\n",
       "      <th>4</th>\n",
       "      <td>0.005154715529422926</td>\n",
       "      <td>7.065053104627062</td>\n",
       "      <td>HOT/BUSD -&gt; BUSD/TRY -&gt; HOT/TRY</td>\n",
       "      <td>HOT/BUSD</td>\n",
       "      <td>HOT -&gt; BUSD -&gt; TRY -&gt; HOT</td>\n",
       "      <td>1620644624637</td>\n",
       "    </tr>\n",
       "  </tbody>\n",
       "</table>\n",
       "</div>"
      ],
      "text/plain": [
       "                    roi              profit                      market_path  \\\n",
       "0  0.001756636192973171   1.416366979213303  EPS/BTC -> BTC/USDT -> EPS/USDT   \n",
       "1  0.002334603798706425  1.7051946145751729  HOT/BUSD -> BNB/BUSD -> HOT/BNB   \n",
       "2  0.009234737201892718   24.12021009762359  HOT/BUSD -> BUSD/TRY -> HOT/TRY   \n",
       "3  0.007878453474585267  3.4554896939530986  HOT/BUSD -> BUSD/TRY -> HOT/TRY   \n",
       "4  0.005154715529422926   7.065053104627062  HOT/BUSD -> BUSD/TRY -> HOT/TRY   \n",
       "\n",
       "     market                  coin_path         timems  \n",
       "0   EPS/BTC  EPS -> BTC -> USDT -> EPS  1620561473483  \n",
       "1  HOT/BUSD  HOT -> BUSD -> BNB -> HOT  1620644621758  \n",
       "2  HOT/BUSD  HOT -> BUSD -> TRY -> HOT  1620644622511  \n",
       "3  HOT/BUSD  HOT -> BUSD -> TRY -> HOT  1620644623980  \n",
       "4  HOT/BUSD  HOT -> BUSD -> TRY -> HOT  1620644624637  "
      ]
     },
     "execution_count": 15,
     "metadata": {},
     "output_type": "execute_result"
    }
   ],
   "source": [
    "df.head()"
   ]
  },
  {
   "cell_type": "code",
   "execution_count": 16,
   "metadata": {},
   "outputs": [],
   "source": [
    "starttime, endtime = min(df.timems), max(df.timems)"
   ]
  },
  {
   "cell_type": "code",
   "execution_count": 17,
   "metadata": {},
   "outputs": [],
   "source": [
    "starttime = pd.to_datetime(int(starttime), unit=\"ms\")\n",
    "endtime = pd.to_datetime(int(endtime), unit=\"ms\")"
   ]
  },
  {
   "cell_type": "code",
   "execution_count": 18,
   "metadata": {},
   "outputs": [],
   "source": [
    "df[\"end_market\"] = df[\"market_path\"].apply(lambda s: s.split(\" -> \")[2])"
   ]
  },
  {
   "cell_type": "code",
   "execution_count": 19,
   "metadata": {},
   "outputs": [],
   "source": [
    "def find_base_coin(start_market: str, end_market: str) -> str:\n",
    "    coins_s = start_market.split(\"/\")\n",
    "    coins_e = end_market.split(\"/\")\n",
    "    if coins_s[0] == coins_e[0] or coins_s[0] == coins_e[1]:\n",
    "        return coins_s[0]\n",
    "    if coins_s[1] == coins_e[0] or coins_s[1] == coins_e[1]:\n",
    "        return coins_s[1]\n",
    "    raise AttributeError(f\"No match between '{start_market}' and '{end_market}'\")\n",
    "    "
   ]
  },
  {
   "cell_type": "code",
   "execution_count": 20,
   "metadata": {},
   "outputs": [],
   "source": [
    "df[\"coin\"] = df.apply(lambda x: find_base_coin(x.market, x.end_market), axis=1)"
   ]
  },
  {
   "cell_type": "code",
   "execution_count": 21,
   "metadata": {},
   "outputs": [
    {
     "data": {
      "text/plain": [
       "3173"
      ]
     },
     "execution_count": 21,
     "metadata": {},
     "output_type": "execute_result"
    }
   ],
   "source": [
    "len(df)"
   ]
  },
  {
   "cell_type": "code",
   "execution_count": 22,
   "metadata": {},
   "outputs": [],
   "source": [
    "df[\"profit\"] = df.profit.apply(float)\n",
    "df[\"roi\"] = df.roi.apply(float)"
   ]
  },
  {
   "cell_type": "markdown",
   "metadata": {},
   "source": [
    "## Total Profit"
   ]
  },
  {
   "cell_type": "code",
   "execution_count": 23,
   "metadata": {},
   "outputs": [],
   "source": [
    "df_by_coin = df[[\"profit\", \"coin\"]].groupby(\"coin\").sum()"
   ]
  },
  {
   "cell_type": "code",
   "execution_count": 24,
   "metadata": {},
   "outputs": [],
   "source": [
    "df_avg_by_coin = df.groupby(\"coin\").mean()"
   ]
  },
  {
   "cell_type": "code",
   "execution_count": 25,
   "metadata": {},
   "outputs": [],
   "source": [
    "df_counts_by_coin = df[[\"market\", \"coin\"]].groupby(\"coin\").count().rename(columns={\"market\": \"arbitrage_count\"})"
   ]
  },
  {
   "cell_type": "code",
   "execution_count": 26,
   "metadata": {},
   "outputs": [],
   "source": [
    "df_by_coin = df_by_coin.merge(df_avg_by_coin, how=\"inner\", on=\"coin\", suffixes=[\"_total\", \"_avg\"])"
   ]
  },
  {
   "cell_type": "code",
   "execution_count": 27,
   "metadata": {},
   "outputs": [],
   "source": [
    "df_by_coin = df_by_coin.merge(df_counts_by_coin, how=\"inner\", on=\"coin\").reset_index()"
   ]
  },
  {
   "cell_type": "code",
   "execution_count": 28,
   "metadata": {},
   "outputs": [
    {
     "data": {
      "text/html": [
       "<div>\n",
       "<style scoped>\n",
       "    .dataframe tbody tr th:only-of-type {\n",
       "        vertical-align: middle;\n",
       "    }\n",
       "\n",
       "    .dataframe tbody tr th {\n",
       "        vertical-align: top;\n",
       "    }\n",
       "\n",
       "    .dataframe thead th {\n",
       "        text-align: right;\n",
       "    }\n",
       "</style>\n",
       "<table border=\"1\" class=\"dataframe\">\n",
       "  <thead>\n",
       "    <tr style=\"text-align: right;\">\n",
       "      <th></th>\n",
       "      <th>coin</th>\n",
       "      <th>profit_total</th>\n",
       "      <th>roi</th>\n",
       "      <th>profit_avg</th>\n",
       "      <th>arbitrage_count</th>\n",
       "    </tr>\n",
       "  </thead>\n",
       "  <tbody>\n",
       "    <tr>\n",
       "      <th>0</th>\n",
       "      <td>1INCH</td>\n",
       "      <td>3.639619</td>\n",
       "      <td>0.002571</td>\n",
       "      <td>0.202201</td>\n",
       "      <td>18</td>\n",
       "    </tr>\n",
       "    <tr>\n",
       "      <th>1</th>\n",
       "      <td>ACM</td>\n",
       "      <td>0.003592</td>\n",
       "      <td>0.003070</td>\n",
       "      <td>0.003592</td>\n",
       "      <td>1</td>\n",
       "    </tr>\n",
       "    <tr>\n",
       "      <th>2</th>\n",
       "      <td>ADA</td>\n",
       "      <td>162.867913</td>\n",
       "      <td>0.007616</td>\n",
       "      <td>2.544811</td>\n",
       "      <td>64</td>\n",
       "    </tr>\n",
       "    <tr>\n",
       "      <th>3</th>\n",
       "      <td>ALGO</td>\n",
       "      <td>12.776478</td>\n",
       "      <td>0.001466</td>\n",
       "      <td>0.456303</td>\n",
       "      <td>28</td>\n",
       "    </tr>\n",
       "    <tr>\n",
       "      <th>4</th>\n",
       "      <td>ATM</td>\n",
       "      <td>0.000650</td>\n",
       "      <td>0.000197</td>\n",
       "      <td>0.000650</td>\n",
       "      <td>1</td>\n",
       "    </tr>\n",
       "  </tbody>\n",
       "</table>\n",
       "</div>"
      ],
      "text/plain": [
       "    coin  profit_total       roi  profit_avg  arbitrage_count\n",
       "0  1INCH      3.639619  0.002571    0.202201               18\n",
       "1    ACM      0.003592  0.003070    0.003592                1\n",
       "2    ADA    162.867913  0.007616    2.544811               64\n",
       "3   ALGO     12.776478  0.001466    0.456303               28\n",
       "4    ATM      0.000650  0.000197    0.000650                1"
      ]
     },
     "execution_count": 28,
     "metadata": {},
     "output_type": "execute_result"
    }
   ],
   "source": [
    "df_by_coin.head()"
   ]
  },
  {
   "cell_type": "markdown",
   "metadata": {},
   "source": [
    "## Convert all to USD"
   ]
  },
  {
   "cell_type": "code",
   "execution_count": 29,
   "metadata": {},
   "outputs": [],
   "source": [
    "# load tickers from S3\n",
    "s3 = boto3.client('s3')\n",
    "obj = s3.get_object(Bucket='goodit-patron-atrbitrage', Key='bidasks_20210508.json')\n",
    "df_prices = pd.read_json(obj['Body']).T"
   ]
  },
  {
   "cell_type": "code",
   "execution_count": 30,
   "metadata": {},
   "outputs": [],
   "source": [
    "df_prices_usd = df_prices.query(\"Market.str.contains('USDT') or Market.str.contains('BUSD') or Market.str.contains('USDC')\")"
   ]
  },
  {
   "cell_type": "code",
   "execution_count": 31,
   "metadata": {},
   "outputs": [],
   "source": [
    "def _get_coin_not_usdx(market: str) -> str:\n",
    "    coins = market.split(\"/\")\n",
    "    return coins[0] if \"USD\" in coins[1] else coins[1]"
   ]
  },
  {
   "cell_type": "code",
   "execution_count": 32,
   "metadata": {},
   "outputs": [],
   "source": [
    "def _get_coin_not_usdx_side(market: str) -> str:\n",
    "    coins = market.split(\"/\")\n",
    "    return \"BUY\" if \"USD\" in coins[1] else \"SELL\""
   ]
  },
  {
   "cell_type": "code",
   "execution_count": 33,
   "metadata": {
    "scrolled": true
   },
   "outputs": [
    {
     "name": "stderr",
     "output_type": "stream",
     "text": [
      "/Users/az/.pyenv/versions/3.7.7/lib/python3.7/site-packages/ipykernel_launcher.py:1: SettingWithCopyWarning: \n",
      "A value is trying to be set on a copy of a slice from a DataFrame.\n",
      "Try using .loc[row_indexer,col_indexer] = value instead\n",
      "\n",
      "See the caveats in the documentation: https://pandas.pydata.org/pandas-docs/stable/user_guide/indexing.html#returning-a-view-versus-a-copy\n",
      "  \"\"\"Entry point for launching an IPython kernel.\n"
     ]
    }
   ],
   "source": [
    "df_prices_usd[\"coin\"] = df_prices_usd[\"Market\"].apply(_get_coin_not_usdx)"
   ]
  },
  {
   "cell_type": "code",
   "execution_count": 34,
   "metadata": {},
   "outputs": [
    {
     "name": "stderr",
     "output_type": "stream",
     "text": [
      "/Users/az/.pyenv/versions/3.7.7/lib/python3.7/site-packages/ipykernel_launcher.py:1: SettingWithCopyWarning: \n",
      "A value is trying to be set on a copy of a slice from a DataFrame.\n",
      "Try using .loc[row_indexer,col_indexer] = value instead\n",
      "\n",
      "See the caveats in the documentation: https://pandas.pydata.org/pandas-docs/stable/user_guide/indexing.html#returning-a-view-versus-a-copy\n",
      "  \"\"\"Entry point for launching an IPython kernel.\n"
     ]
    }
   ],
   "source": [
    "df_prices_usd[\"side\"] = df_prices_usd[\"Market\"].apply(_get_coin_not_usdx_side)"
   ]
  },
  {
   "cell_type": "markdown",
   "metadata": {},
   "source": [
    "## Total Profit"
   ]
  },
  {
   "cell_type": "code",
   "execution_count": 35,
   "metadata": {},
   "outputs": [],
   "source": [
    "def _get_price_in_usd(coin: str) -> float:\n",
    "    if \"USD\" in coin:\n",
    "        return 1\n",
    "    row_dicts = df_prices_usd[df_prices_usd.coin == coin].to_dict(orient='records')\n",
    "    if len(row_dicts) == 0:\n",
    "        print(f\"Didn't find for {coin}\")\n",
    "        return 0\n",
    "    row_dict = row_dicts[0]\n",
    "    if row_dict[\"side\"] == \"BUY\":\n",
    "        return float(row_dict[\"BestBid\"])\n",
    "    else:\n",
    "        return 1 / float(row_dict[\"BestAsk\"])"
   ]
  },
  {
   "cell_type": "code",
   "execution_count": 36,
   "metadata": {},
   "outputs": [
    {
     "name": "stdout",
     "output_type": "stream",
     "text": [
      "Didn't find for ELF\n",
      "Didn't find for QLC\n",
      "Didn't find for QSP\n"
     ]
    }
   ],
   "source": [
    "df_by_coin[\"price_usd\"] = df_by_coin.coin.apply(_get_price_in_usd)"
   ]
  },
  {
   "cell_type": "code",
   "execution_count": 37,
   "metadata": {},
   "outputs": [],
   "source": [
    "df_by_coin[\"profit_usd\"] = df_by_coin.profit_total * df_by_coin.price_usd"
   ]
  },
  {
   "cell_type": "code",
   "execution_count": 38,
   "metadata": {},
   "outputs": [
    {
     "data": {
      "text/html": [
       "<div>\n",
       "<style scoped>\n",
       "    .dataframe tbody tr th:only-of-type {\n",
       "        vertical-align: middle;\n",
       "    }\n",
       "\n",
       "    .dataframe tbody tr th {\n",
       "        vertical-align: top;\n",
       "    }\n",
       "\n",
       "    .dataframe thead th {\n",
       "        text-align: right;\n",
       "    }\n",
       "</style>\n",
       "<table border=\"1\" class=\"dataframe\">\n",
       "  <thead>\n",
       "    <tr style=\"text-align: right;\">\n",
       "      <th></th>\n",
       "      <th>coin</th>\n",
       "      <th>profit_total</th>\n",
       "      <th>roi</th>\n",
       "      <th>profit_avg</th>\n",
       "      <th>arbitrage_count</th>\n",
       "      <th>price_usd</th>\n",
       "      <th>profit_usd</th>\n",
       "    </tr>\n",
       "  </thead>\n",
       "  <tbody>\n",
       "    <tr>\n",
       "      <th>0</th>\n",
       "      <td>1INCH</td>\n",
       "      <td>3.639619</td>\n",
       "      <td>0.002571</td>\n",
       "      <td>0.202201</td>\n",
       "      <td>18</td>\n",
       "      <td>7.2330</td>\n",
       "      <td>26.325364</td>\n",
       "    </tr>\n",
       "    <tr>\n",
       "      <th>1</th>\n",
       "      <td>ACM</td>\n",
       "      <td>0.003592</td>\n",
       "      <td>0.003070</td>\n",
       "      <td>0.003592</td>\n",
       "      <td>1</td>\n",
       "      <td>10.4420</td>\n",
       "      <td>0.037507</td>\n",
       "    </tr>\n",
       "    <tr>\n",
       "      <th>2</th>\n",
       "      <td>ADA</td>\n",
       "      <td>162.867913</td>\n",
       "      <td>0.007616</td>\n",
       "      <td>2.544811</td>\n",
       "      <td>64</td>\n",
       "      <td>1.6008</td>\n",
       "      <td>260.718955</td>\n",
       "    </tr>\n",
       "    <tr>\n",
       "      <th>3</th>\n",
       "      <td>ALGO</td>\n",
       "      <td>12.776478</td>\n",
       "      <td>0.001466</td>\n",
       "      <td>0.456303</td>\n",
       "      <td>28</td>\n",
       "      <td>1.5358</td>\n",
       "      <td>19.622115</td>\n",
       "    </tr>\n",
       "    <tr>\n",
       "      <th>4</th>\n",
       "      <td>ATM</td>\n",
       "      <td>0.000650</td>\n",
       "      <td>0.000197</td>\n",
       "      <td>0.000650</td>\n",
       "      <td>1</td>\n",
       "      <td>10.2880</td>\n",
       "      <td>0.006689</td>\n",
       "    </tr>\n",
       "  </tbody>\n",
       "</table>\n",
       "</div>"
      ],
      "text/plain": [
       "    coin  profit_total       roi  profit_avg  arbitrage_count  price_usd  \\\n",
       "0  1INCH      3.639619  0.002571    0.202201               18     7.2330   \n",
       "1    ACM      0.003592  0.003070    0.003592                1    10.4420   \n",
       "2    ADA    162.867913  0.007616    2.544811               64     1.6008   \n",
       "3   ALGO     12.776478  0.001466    0.456303               28     1.5358   \n",
       "4    ATM      0.000650  0.000197    0.000650                1    10.2880   \n",
       "\n",
       "   profit_usd  \n",
       "0   26.325364  \n",
       "1    0.037507  \n",
       "2  260.718955  \n",
       "3   19.622115  \n",
       "4    0.006689  "
      ]
     },
     "execution_count": 38,
     "metadata": {},
     "output_type": "execute_result"
    }
   ],
   "source": [
    "df_by_coin.head()"
   ]
  },
  {
   "cell_type": "code",
   "execution_count": 39,
   "metadata": {},
   "outputs": [
    {
     "data": {
      "text/html": [
       "<div>\n",
       "<style scoped>\n",
       "    .dataframe tbody tr th:only-of-type {\n",
       "        vertical-align: middle;\n",
       "    }\n",
       "\n",
       "    .dataframe tbody tr th {\n",
       "        vertical-align: top;\n",
       "    }\n",
       "\n",
       "    .dataframe thead th {\n",
       "        text-align: right;\n",
       "    }\n",
       "</style>\n",
       "<table border=\"1\" class=\"dataframe\">\n",
       "  <thead>\n",
       "    <tr style=\"text-align: right;\">\n",
       "      <th></th>\n",
       "      <th>coin</th>\n",
       "      <th>profit_total</th>\n",
       "      <th>roi</th>\n",
       "      <th>profit_avg</th>\n",
       "      <th>arbitrage_count</th>\n",
       "      <th>price_usd</th>\n",
       "      <th>profit_usd</th>\n",
       "    </tr>\n",
       "  </thead>\n",
       "  <tbody>\n",
       "    <tr>\n",
       "      <th>20</th>\n",
       "      <td>DOGE</td>\n",
       "      <td>8855.698186</td>\n",
       "      <td>0.008779</td>\n",
       "      <td>17.854230</td>\n",
       "      <td>496</td>\n",
       "      <td>0.720380</td>\n",
       "      <td>6379.467859</td>\n",
       "    </tr>\n",
       "    <tr>\n",
       "      <th>66</th>\n",
       "      <td>USDT</td>\n",
       "      <td>4334.891175</td>\n",
       "      <td>0.008964</td>\n",
       "      <td>10.272254</td>\n",
       "      <td>422</td>\n",
       "      <td>1.000000</td>\n",
       "      <td>4334.891175</td>\n",
       "    </tr>\n",
       "    <tr>\n",
       "      <th>14</th>\n",
       "      <td>BUSD</td>\n",
       "      <td>1750.673391</td>\n",
       "      <td>0.009483</td>\n",
       "      <td>4.987673</td>\n",
       "      <td>351</td>\n",
       "      <td>1.000000</td>\n",
       "      <td>1750.673391</td>\n",
       "    </tr>\n",
       "    <tr>\n",
       "      <th>13</th>\n",
       "      <td>BTC</td>\n",
       "      <td>0.028196</td>\n",
       "      <td>0.009043</td>\n",
       "      <td>0.000082</td>\n",
       "      <td>344</td>\n",
       "      <td>58900.000000</td>\n",
       "      <td>1660.728956</td>\n",
       "    </tr>\n",
       "    <tr>\n",
       "      <th>27</th>\n",
       "      <td>EUR</td>\n",
       "      <td>1333.245801</td>\n",
       "      <td>0.010261</td>\n",
       "      <td>9.323397</td>\n",
       "      <td>143</td>\n",
       "      <td>1.209800</td>\n",
       "      <td>1612.960771</td>\n",
       "    </tr>\n",
       "    <tr>\n",
       "      <th>6</th>\n",
       "      <td>AUD</td>\n",
       "      <td>1641.126708</td>\n",
       "      <td>0.007091</td>\n",
       "      <td>19.772611</td>\n",
       "      <td>83</td>\n",
       "      <td>0.775900</td>\n",
       "      <td>1273.350212</td>\n",
       "    </tr>\n",
       "    <tr>\n",
       "      <th>61</th>\n",
       "      <td>TRY</td>\n",
       "      <td>8754.012476</td>\n",
       "      <td>0.007388</td>\n",
       "      <td>51.193055</td>\n",
       "      <td>171</td>\n",
       "      <td>0.120656</td>\n",
       "      <td>1056.227374</td>\n",
       "    </tr>\n",
       "    <tr>\n",
       "      <th>54</th>\n",
       "      <td>RVN</td>\n",
       "      <td>4850.286753</td>\n",
       "      <td>0.018063</td>\n",
       "      <td>808.381126</td>\n",
       "      <td>6</td>\n",
       "      <td>0.176100</td>\n",
       "      <td>854.135497</td>\n",
       "    </tr>\n",
       "    <tr>\n",
       "      <th>26</th>\n",
       "      <td>ETH</td>\n",
       "      <td>0.181727</td>\n",
       "      <td>0.007954</td>\n",
       "      <td>0.000707</td>\n",
       "      <td>257</td>\n",
       "      <td>3563.950000</td>\n",
       "      <td>647.664477</td>\n",
       "    </tr>\n",
       "    <tr>\n",
       "      <th>31</th>\n",
       "      <td>GBP</td>\n",
       "      <td>349.655902</td>\n",
       "      <td>0.008831</td>\n",
       "      <td>4.113599</td>\n",
       "      <td>85</td>\n",
       "      <td>1.387200</td>\n",
       "      <td>485.042667</td>\n",
       "    </tr>\n",
       "  </tbody>\n",
       "</table>\n",
       "</div>"
      ],
      "text/plain": [
       "    coin  profit_total       roi  profit_avg  arbitrage_count     price_usd  \\\n",
       "20  DOGE   8855.698186  0.008779   17.854230              496      0.720380   \n",
       "66  USDT   4334.891175  0.008964   10.272254              422      1.000000   \n",
       "14  BUSD   1750.673391  0.009483    4.987673              351      1.000000   \n",
       "13   BTC      0.028196  0.009043    0.000082              344  58900.000000   \n",
       "27   EUR   1333.245801  0.010261    9.323397              143      1.209800   \n",
       "6    AUD   1641.126708  0.007091   19.772611               83      0.775900   \n",
       "61   TRY   8754.012476  0.007388   51.193055              171      0.120656   \n",
       "54   RVN   4850.286753  0.018063  808.381126                6      0.176100   \n",
       "26   ETH      0.181727  0.007954    0.000707              257   3563.950000   \n",
       "31   GBP    349.655902  0.008831    4.113599               85      1.387200   \n",
       "\n",
       "     profit_usd  \n",
       "20  6379.467859  \n",
       "66  4334.891175  \n",
       "14  1750.673391  \n",
       "13  1660.728956  \n",
       "27  1612.960771  \n",
       "6   1273.350212  \n",
       "61  1056.227374  \n",
       "54   854.135497  \n",
       "26   647.664477  \n",
       "31   485.042667  "
      ]
     },
     "execution_count": 39,
     "metadata": {},
     "output_type": "execute_result"
    }
   ],
   "source": [
    "df_by_coin_top10 = df_by_coin.sort_values(\"profit_usd\", ascending=False)[:10]\n",
    "df_by_coin_top10"
   ]
  },
  {
   "cell_type": "code",
   "execution_count": 40,
   "metadata": {},
   "outputs": [
    {
     "data": {
      "text/plain": [
       "21994.256114300006"
      ]
     },
     "execution_count": 40,
     "metadata": {},
     "output_type": "execute_result"
    }
   ],
   "source": [
    "all_coins_total_profit = sum(df_by_coin.profit_usd)\n",
    "all_coins_total_profit"
   ]
  },
  {
   "cell_type": "code",
   "execution_count": 41,
   "metadata": {},
   "outputs": [
    {
     "data": {
      "text/plain": [
       "20055.142379692992"
      ]
     },
     "execution_count": 41,
     "metadata": {},
     "output_type": "execute_result"
    }
   ],
   "source": [
    "top10_coins_total_profit = sum(df_by_coin_top10.profit_usd)\n",
    "top10_coins_total_profit"
   ]
  },
  {
   "cell_type": "code",
   "execution_count": 42,
   "metadata": {},
   "outputs": [
    {
     "data": {
      "text/plain": [
       "<AxesSubplot:ylabel='profit_usd'>"
      ]
     },
     "execution_count": 42,
     "metadata": {},
     "output_type": "execute_result"
    },
    {
     "data": {
      "image/png": "[encoded data removed]",
      "text/plain": [
       "<Figure size 576x396 with 1 Axes>"
      ]
     },
     "metadata": {},
     "output_type": "display_data"
    }
   ],
   "source": [
    "df_by_coin_top10.set_index(\"coin\").plot.pie(y=\"profit_usd\")"
   ]
  },
  {
   "cell_type": "markdown",
   "metadata": {},
   "source": [
    "## Stable Coins Profit"
   ]
  },
  {
   "cell_type": "code",
   "execution_count": 43,
   "metadata": {},
   "outputs": [],
   "source": [
    "df_by_coin_stable = df_by_coin.query(\"coin.str.contains('BTC') or coin.str.contains('ETH') or coin.str.contains('EUR') or coin.str.contains('RUB') or coin.str.contains('USD')\")"
   ]
  },
  {
   "cell_type": "code",
   "execution_count": 44,
   "metadata": {},
   "outputs": [
    {
     "data": {
      "text/html": [
       "<div>\n",
       "<style scoped>\n",
       "    .dataframe tbody tr th:only-of-type {\n",
       "        vertical-align: middle;\n",
       "    }\n",
       "\n",
       "    .dataframe tbody tr th {\n",
       "        vertical-align: top;\n",
       "    }\n",
       "\n",
       "    .dataframe thead th {\n",
       "        text-align: right;\n",
       "    }\n",
       "</style>\n",
       "<table border=\"1\" class=\"dataframe\">\n",
       "  <thead>\n",
       "    <tr style=\"text-align: right;\">\n",
       "      <th></th>\n",
       "      <th>coin</th>\n",
       "      <th>profit_total</th>\n",
       "      <th>roi</th>\n",
       "      <th>profit_avg</th>\n",
       "      <th>arbitrage_count</th>\n",
       "      <th>price_usd</th>\n",
       "      <th>profit_usd</th>\n",
       "    </tr>\n",
       "  </thead>\n",
       "  <tbody>\n",
       "    <tr>\n",
       "      <th>66</th>\n",
       "      <td>USDT</td>\n",
       "      <td>4334.891175</td>\n",
       "      <td>0.008964</td>\n",
       "      <td>10.272254</td>\n",
       "      <td>422</td>\n",
       "      <td>1.000000</td>\n",
       "      <td>4334.891175</td>\n",
       "    </tr>\n",
       "    <tr>\n",
       "      <th>14</th>\n",
       "      <td>BUSD</td>\n",
       "      <td>1750.673391</td>\n",
       "      <td>0.009483</td>\n",
       "      <td>4.987673</td>\n",
       "      <td>351</td>\n",
       "      <td>1.000000</td>\n",
       "      <td>1750.673391</td>\n",
       "    </tr>\n",
       "    <tr>\n",
       "      <th>13</th>\n",
       "      <td>BTC</td>\n",
       "      <td>0.028196</td>\n",
       "      <td>0.009043</td>\n",
       "      <td>0.000082</td>\n",
       "      <td>344</td>\n",
       "      <td>58900.000000</td>\n",
       "      <td>1660.728956</td>\n",
       "    </tr>\n",
       "    <tr>\n",
       "      <th>27</th>\n",
       "      <td>EUR</td>\n",
       "      <td>1333.245801</td>\n",
       "      <td>0.010261</td>\n",
       "      <td>9.323397</td>\n",
       "      <td>143</td>\n",
       "      <td>1.209800</td>\n",
       "      <td>1612.960771</td>\n",
       "    </tr>\n",
       "    <tr>\n",
       "      <th>26</th>\n",
       "      <td>ETH</td>\n",
       "      <td>0.181727</td>\n",
       "      <td>0.007954</td>\n",
       "      <td>0.000707</td>\n",
       "      <td>257</td>\n",
       "      <td>3563.950000</td>\n",
       "      <td>647.664477</td>\n",
       "    </tr>\n",
       "    <tr>\n",
       "      <th>53</th>\n",
       "      <td>RUB</td>\n",
       "      <td>14226.312371</td>\n",
       "      <td>0.005079</td>\n",
       "      <td>169.360862</td>\n",
       "      <td>84</td>\n",
       "      <td>0.013479</td>\n",
       "      <td>191.757705</td>\n",
       "    </tr>\n",
       "    <tr>\n",
       "      <th>65</th>\n",
       "      <td>USDC</td>\n",
       "      <td>36.742205</td>\n",
       "      <td>0.008214</td>\n",
       "      <td>3.674220</td>\n",
       "      <td>10</td>\n",
       "      <td>1.000000</td>\n",
       "      <td>36.742205</td>\n",
       "    </tr>\n",
       "    <tr>\n",
       "      <th>62</th>\n",
       "      <td>TUSD</td>\n",
       "      <td>3.096637</td>\n",
       "      <td>0.003757</td>\n",
       "      <td>0.774159</td>\n",
       "      <td>4</td>\n",
       "      <td>1.000000</td>\n",
       "      <td>3.096637</td>\n",
       "    </tr>\n",
       "  </tbody>\n",
       "</table>\n",
       "</div>"
      ],
      "text/plain": [
       "    coin  profit_total       roi  profit_avg  arbitrage_count     price_usd  \\\n",
       "66  USDT   4334.891175  0.008964   10.272254              422      1.000000   \n",
       "14  BUSD   1750.673391  0.009483    4.987673              351      1.000000   \n",
       "13   BTC      0.028196  0.009043    0.000082              344  58900.000000   \n",
       "27   EUR   1333.245801  0.010261    9.323397              143      1.209800   \n",
       "26   ETH      0.181727  0.007954    0.000707              257   3563.950000   \n",
       "53   RUB  14226.312371  0.005079  169.360862               84      0.013479   \n",
       "65  USDC     36.742205  0.008214    3.674220               10      1.000000   \n",
       "62  TUSD      3.096637  0.003757    0.774159                4      1.000000   \n",
       "\n",
       "     profit_usd  \n",
       "66  4334.891175  \n",
       "14  1750.673391  \n",
       "13  1660.728956  \n",
       "27  1612.960771  \n",
       "26   647.664477  \n",
       "53   191.757705  \n",
       "65    36.742205  \n",
       "62     3.096637  "
      ]
     },
     "execution_count": 44,
     "metadata": {},
     "output_type": "execute_result"
    }
   ],
   "source": [
    "df_by_coin_stable = df_by_coin_stable.sort_values(\"profit_usd\", ascending=False)\n",
    "df_by_coin_stable"
   ]
  },
  {
   "cell_type": "code",
   "execution_count": 45,
   "metadata": {},
   "outputs": [
    {
     "data": {
      "text/plain": [
       "10238.51531650528"
      ]
     },
     "execution_count": 45,
     "metadata": {},
     "output_type": "execute_result"
    }
   ],
   "source": [
    "stable_coints_total_profit = sum(df_by_coin_stable.profit_usd)\n",
    "stable_coints_total_profit"
   ]
  },
  {
   "cell_type": "code",
   "execution_count": 46,
   "metadata": {},
   "outputs": [
    {
     "data": {
      "text/plain": [
       "<AxesSubplot:ylabel='profit_usd'>"
      ]
     },
     "execution_count": 46,
     "metadata": {},
     "output_type": "execute_result"
    },
    {
     "data": {
      "image/png": "[encoded data removed]",
      "text/plain": [
       "<Figure size 576x396 with 1 Axes>"
      ]
     },
     "metadata": {},
     "output_type": "display_data"
    }
   ],
   "source": [
    "df_by_coin_stable.set_index(\"coin\").plot.pie(y=\"profit_usd\")\n"
   ]
  },
  {
   "cell_type": "markdown",
   "metadata": {},
   "source": [
    "## Resume"
   ]
  },
  {
   "cell_type": "code",
   "execution_count": 47,
   "metadata": {},
   "outputs": [],
   "source": [
    "df_by_coin_stable2 = df_by_coin_stable.reset_index()"
   ]
  },
  {
   "cell_type": "code",
   "execution_count": 48,
   "metadata": {},
   "outputs": [
    {
     "name": "stdout",
     "output_type": "stream",
     "text": [
      "\n",
      "    ALL Coins total profit: \t$ 21994\n",
      "    TOP10 Coins total profit: \t$ 20055\n",
      "    Stable Coins total profit: \t$ 10239\n",
      "    Best Coin 'DOGE' profit: \t$ 8856\n",
      "    Best Stable 'USDT' profit: \t$ 4335\n",
      "    ----------------\n",
      "    First Arbitrage Time: \t2021-05-08 17:22:35.320000\n",
      "    Last Arbitrage Time: \t2021-05-10 21:20:26.535000\n",
      "\n"
     ]
    }
   ],
   "source": [
    "print(f\"\"\"\n",
    "    ALL Coins total profit: \\t$ {round(all_coins_total_profit)}\n",
    "    TOP10 Coins total profit: \\t$ {round(top10_coins_total_profit)}\n",
    "    Stable Coins total profit: \\t$ {round(stable_coints_total_profit)}\n",
    "    Best Coin '{df_by_coin_top10.iloc[0].coin}' profit: \\t$ {round(df_by_coin_top10.iloc[0].profit_total)}\n",
    "    Best Stable '{df_by_coin_stable.iloc[0].coin}' profit: \\t$ {round(df_by_coin_stable.iloc[0].profit_total)}\n",
    "    ----------------\n",
    "    First Arbitrage Time: \\t{starttime}\n",
    "    Last Arbitrage Time: \\t{endtime}\n",
    "\"\"\")"
   ]
  },
  {
   "cell_type": "code",
   "execution_count": 49,
   "metadata": {},
   "outputs": [],
   "source": [
    "# todo Calc arbitrage TTL"
   ]
  }
 ],
 "metadata": {
  "kernelspec": {
   "display_name": "Python 3",
   "language": "python",
   "name": "python3"
  },
  "language_info": {
   "codemirror_mode": {
    "name": "ipython",
    "version": 3
   },
   "file_extension": ".py",
   "mimetype": "text/x-python",
   "name": "python",
   "nbconvert_exporter": "python",
   "pygments_lexer": "ipython3",
   "version": "3.7.7"
  }
 },
 "nbformat": 4,
 "nbformat_minor": 1
}

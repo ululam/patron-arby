{
 "cells": [
  {
   "cell_type": "markdown",
   "metadata": {},
   "source": [
    "# Analyse arbitrage data we have"
   ]
  },
  {
   "cell_type": "markdown",
   "metadata": {},
   "source": [
    "<h1 id=\"tocheading\">Table of Contents</h1>\n",
    "<div id=\"toc\"></div>"
   ]
  },
  {
   "cell_type": "code",
   "execution_count": 112,
   "metadata": {},
   "outputs": [
    {
     "data": {
      "application/javascript": [
       "$.getScript('https://kmahelona.github.io/ipython_notebook_goodies/ipython_notebook_toc.js')\n"
      ],
      "text/plain": [
       "<IPython.core.display.Javascript object>"
      ]
     },
     "metadata": {},
     "output_type": "display_data"
    }
   ],
   "source": [
    "%%javascript\n",
    "$.getScript('https://kmahelona.github.io/ipython_notebook_goodies/ipython_notebook_toc.js')"
   ]
  },
  {
   "cell_type": "markdown",
   "metadata": {},
   "source": [
    "## Install stuff"
   ]
  },
  {
   "cell_type": "code",
   "execution_count": 1,
   "metadata": {
    "collapsed": true
   },
   "outputs": [
    {
     "name": "stdout",
     "output_type": "stream",
     "text": [
      "Requirement already satisfied: pandas in /Users/az/.pyenv/versions/3.7.7/lib/python3.7/site-packages (1.0.5)\n",
      "Requirement already satisfied: pytz>=2017.2 in /Users/az/.pyenv/versions/3.7.7/lib/python3.7/site-packages (from pandas) (2020.1)\n",
      "Requirement already satisfied: python-dateutil>=2.6.1 in /Users/az/.pyenv/versions/3.7.7/lib/python3.7/site-packages (from pandas) (2.8.1)\n",
      "Requirement already satisfied: numpy>=1.13.3 in /Users/az/.pyenv/versions/3.7.7/lib/python3.7/site-packages (from pandas) (1.19.0)\n",
      "Requirement already satisfied: six>=1.5 in /Users/az/.pyenv/versions/3.7.7/lib/python3.7/site-packages (from python-dateutil>=2.6.1->pandas) (1.15.0)\n",
      "\u001b[33mWARNING: You are using pip version 19.2.3, however version 21.1.1 is available.\n",
      "You should consider upgrading via the 'pip install --upgrade pip' command.\u001b[0m\n"
     ]
    }
   ],
   "source": [
    "!pip install pandas"
   ]
  },
  {
   "cell_type": "code",
   "execution_count": 2,
   "metadata": {
    "collapsed": true,
    "pycharm": {
     "name": "#%%\n"
    }
   },
   "outputs": [
    {
     "name": "stdout",
     "output_type": "stream",
     "text": [
      "Requirement already satisfied: matplotlib in /Users/az/.pyenv/versions/3.7.7/lib/python3.7/site-packages (3.3.2)\n",
      "Requirement already satisfied: certifi>=2020.06.20 in /Users/az/.pyenv/versions/3.7.7/lib/python3.7/site-packages (from matplotlib) (2020.6.20)\n",
      "Requirement already satisfied: pyparsing!=2.0.4,!=2.1.2,!=2.1.6,>=2.0.3 in /Users/az/.pyenv/versions/3.7.7/lib/python3.7/site-packages (from matplotlib) (2.4.7)\n",
      "Requirement already satisfied: pillow>=6.2.0 in /Users/az/.pyenv/versions/3.7.7/lib/python3.7/site-packages (from matplotlib) (7.2.0)\n",
      "Requirement already satisfied: python-dateutil>=2.1 in /Users/az/.pyenv/versions/3.7.7/lib/python3.7/site-packages (from matplotlib) (2.8.1)\n",
      "Requirement already satisfied: numpy>=1.15 in /Users/az/.pyenv/versions/3.7.7/lib/python3.7/site-packages (from matplotlib) (1.19.0)\n",
      "Requirement already satisfied: cycler>=0.10 in /Users/az/.pyenv/versions/3.7.7/lib/python3.7/site-packages (from matplotlib) (0.10.0)\n",
      "Requirement already satisfied: kiwisolver>=1.0.1 in /Users/az/.pyenv/versions/3.7.7/lib/python3.7/site-packages (from matplotlib) (1.2.0)\n",
      "Requirement already satisfied: six>=1.5 in /Users/az/.pyenv/versions/3.7.7/lib/python3.7/site-packages (from python-dateutil>=2.1->matplotlib) (1.15.0)\n",
      "\u001b[33mWARNING: You are using pip version 19.2.3, however version 21.1.1 is available.\n",
      "You should consider upgrading via the 'pip install --upgrade pip' command.\u001b[0m\n"
     ]
    }
   ],
   "source": [
    "!pip install matplotlib"
   ]
  },
  {
   "cell_type": "code",
   "execution_count": 3,
   "metadata": {
    "collapsed": true,
    "pycharm": {
     "name": "#%%\n"
    }
   },
   "outputs": [
    {
     "name": "stdout",
     "output_type": "stream",
     "text": [
      "Collecting sqlalchemy\n",
      "  Using cached https://files.pythonhosted.org/packages/27/ca/c7b42794b6a6f9db4fdfb972870fa9f933f01c067634c087c8835f097daa/SQLAlchemy-1.4.14-cp37-cp37m-macosx_10_14_x86_64.whl\n",
      "Requirement already satisfied: importlib-metadata; python_version < \"3.8\" in /Users/az/.pyenv/versions/3.7.7/lib/python3.7/site-packages (from sqlalchemy) (4.0.1)\n",
      "Collecting greenlet!=0.4.17; python_version >= \"3\" (from sqlalchemy)\n",
      "  Using cached https://files.pythonhosted.org/packages/b0/42/1d66b5b61a6510f3510135d1c3b9ab0b000334c3a8a50ddcba788885dece/greenlet-1.1.0-cp37-cp37m-macosx_10_14_x86_64.whl\n",
      "Requirement already satisfied: typing-extensions>=3.6.4; python_version < \"3.8\" in /Users/az/.pyenv/versions/3.7.7/lib/python3.7/site-packages (from importlib-metadata; python_version < \"3.8\"->sqlalchemy) (3.7.4.3)\n",
      "Requirement already satisfied: zipp>=0.5 in /Users/az/.pyenv/versions/3.7.7/lib/python3.7/site-packages (from importlib-metadata; python_version < \"3.8\"->sqlalchemy) (3.3.0)\n",
      "Installing collected packages: greenlet, sqlalchemy\n",
      "Successfully installed greenlet-1.1.0 sqlalchemy-1.4.14\n",
      "\u001b[33mWARNING: You are using pip version 19.2.3, however version 21.1.1 is available.\n",
      "You should consider upgrading via the 'pip install --upgrade pip' command.\u001b[0m\n"
     ]
    }
   ],
   "source": [
    "!pip install sqlalchemy"
   ]
  },
  {
   "cell_type": "code",
   "execution_count": 11,
   "metadata": {
    "collapsed": true
   },
   "outputs": [
    {
     "name": "stdout",
     "output_type": "stream",
     "text": [
      "Requirement already satisfied: boto3 in /Users/az/.pyenv/versions/3.7.7/lib/python3.7/site-packages (1.14.17)\n",
      "Requirement already satisfied: botocore<1.18.0,>=1.17.17 in /Users/az/.pyenv/versions/3.7.7/lib/python3.7/site-packages (from boto3) (1.17.63)\n",
      "Requirement already satisfied: s3transfer<0.4.0,>=0.3.0 in /Users/az/.pyenv/versions/3.7.7/lib/python3.7/site-packages (from boto3) (0.3.3)\n",
      "Requirement already satisfied: jmespath<1.0.0,>=0.7.1 in /Users/az/.pyenv/versions/3.7.7/lib/python3.7/site-packages (from boto3) (0.10.0)\n",
      "Requirement already satisfied: docutils<0.16,>=0.10 in /Users/az/.pyenv/versions/3.7.7/lib/python3.7/site-packages (from botocore<1.18.0,>=1.17.17->boto3) (0.15.2)\n",
      "Requirement already satisfied: urllib3<1.26,>=1.20; python_version != \"3.4\" in /Users/az/.pyenv/versions/3.7.7/lib/python3.7/site-packages (from botocore<1.18.0,>=1.17.17->boto3) (1.25.10)\n",
      "Requirement already satisfied: python-dateutil<3.0.0,>=2.1 in /Users/az/.pyenv/versions/3.7.7/lib/python3.7/site-packages (from botocore<1.18.0,>=1.17.17->boto3) (2.8.1)\n",
      "Requirement already satisfied: six>=1.5 in /Users/az/.pyenv/versions/3.7.7/lib/python3.7/site-packages (from python-dateutil<3.0.0,>=2.1->botocore<1.18.0,>=1.17.17->boto3) (1.15.0)\n",
      "\u001b[33mWARNING: You are using pip version 19.2.3, however version 21.1.1 is available.\n",
      "You should consider upgrading via the 'pip install --upgrade pip' command.\u001b[0m\n"
     ]
    }
   ],
   "source": [
    "!pip install boto3"
   ]
  },
  {
   "cell_type": "code",
   "execution_count": 1,
   "metadata": {},
   "outputs": [],
   "source": [
    "import sys\n",
    "import os"
   ]
  },
  {
   "cell_type": "code",
   "execution_count": 4,
   "metadata": {},
   "outputs": [
    {
     "name": "stdout",
     "output_type": "stream",
     "text": [
      "\n"
     ]
    }
   ],
   "source": [
    "aws_access_key = os.environ[\"GIW_AWS_ACCESS_KEY\"]\n",
    "aws_access_secret = os.environ[\"GIW_AWS_ACCESS_SECRET\"]\n",
    "print()"
   ]
  },
  {
   "cell_type": "code",
   "execution_count": 26,
   "metadata": {},
   "outputs": [],
   "source": [
    "import pandas as pd\n",
    "import matplotlib.pyplot as plt\n",
    "import boto3"
   ]
  },
  {
   "cell_type": "code",
   "execution_count": 15,
   "metadata": {},
   "outputs": [],
   "source": [
    "boto3.setup_default_session(profile_name=\"goodit\")"
   ]
  },
  {
   "cell_type": "markdown",
   "metadata": {},
   "source": [
    "## Load data"
   ]
  },
  {
   "cell_type": "code",
   "execution_count": 17,
   "metadata": {},
   "outputs": [],
   "source": [
    "table = boto3.resource(\"dynamodb\").Table(\"patron-arbitrage\")"
   ]
  },
  {
   "cell_type": "code",
   "execution_count": 18,
   "metadata": {},
   "outputs": [],
   "source": [
    "response = table.scan()\n",
    "data = response['Items']"
   ]
  },
  {
   "cell_type": "code",
   "execution_count": 24,
   "metadata": {},
   "outputs": [
    {
     "data": {
      "text/plain": [
       "2300"
      ]
     },
     "execution_count": 24,
     "metadata": {},
     "output_type": "execute_result"
    }
   ],
   "source": [
    "len(data)"
   ]
  },
  {
   "cell_type": "code",
   "execution_count": 120,
   "metadata": {},
   "outputs": [
    {
     "data": {
      "text/plain": [
       "[{'roi': Decimal('0.001756636192973171'),\n",
       "  'profit': Decimal('1.416366979213303'),\n",
       "  'market_path': 'EPS/BTC -> BTC/USDT -> EPS/USDT',\n",
       "  'market': 'EPS/BTC',\n",
       "  'coin_path': 'EPS -> BTC -> USDT -> EPS',\n",
       "  'timems': Decimal('1620561473483')},\n",
       " {'roi': Decimal('0.002334603798706425'),\n",
       "  'profit': Decimal('1.7051946145751729'),\n",
       "  'market_path': 'HOT/BUSD -> BNB/BUSD -> HOT/BNB',\n",
       "  'market': 'HOT/BUSD',\n",
       "  'coin_path': 'HOT -> BUSD -> BNB -> HOT',\n",
       "  'timems': Decimal('1620644621758')},\n",
       " {'roi': Decimal('0.009234737201892718'),\n",
       "  'profit': Decimal('24.12021009762359'),\n",
       "  'market_path': 'HOT/BUSD -> BUSD/TRY -> HOT/TRY',\n",
       "  'market': 'HOT/BUSD',\n",
       "  'coin_path': 'HOT -> BUSD -> TRY -> HOT',\n",
       "  'timems': Decimal('1620644622511')},\n",
       " {'roi': Decimal('0.007878453474585267'),\n",
       "  'profit': Decimal('3.4554896939530986'),\n",
       "  'market_path': 'HOT/BUSD -> BUSD/TRY -> HOT/TRY',\n",
       "  'market': 'HOT/BUSD',\n",
       "  'coin_path': 'HOT -> BUSD -> TRY -> HOT',\n",
       "  'timems': Decimal('1620644623980')},\n",
       " {'roi': Decimal('0.005154715529422926'),\n",
       "  'profit': Decimal('7.065053104627062'),\n",
       "  'market_path': 'HOT/BUSD -> BUSD/TRY -> HOT/TRY',\n",
       "  'market': 'HOT/BUSD',\n",
       "  'coin_path': 'HOT -> BUSD -> TRY -> HOT',\n",
       "  'timems': Decimal('1620644624637')}]"
      ]
     },
     "execution_count": 120,
     "metadata": {},
     "output_type": "execute_result"
    }
   ],
   "source": [
    "data[:5]"
   ]
  },
  {
   "cell_type": "code",
   "execution_count": 33,
   "metadata": {},
   "outputs": [],
   "source": [
    "df = pd.DataFrame(data)"
   ]
  },
  {
   "cell_type": "code",
   "execution_count": 34,
   "metadata": {},
   "outputs": [
    {
     "data": {
      "text/html": [
       "<div>\n",
       "<style scoped>\n",
       "    .dataframe tbody tr th:only-of-type {\n",
       "        vertical-align: middle;\n",
       "    }\n",
       "\n",
       "    .dataframe tbody tr th {\n",
       "        vertical-align: top;\n",
       "    }\n",
       "\n",
       "    .dataframe thead th {\n",
       "        text-align: right;\n",
       "    }\n",
       "</style>\n",
       "<table border=\"1\" class=\"dataframe\">\n",
       "  <thead>\n",
       "    <tr style=\"text-align: right;\">\n",
       "      <th></th>\n",
       "      <th>roi</th>\n",
       "      <th>profit</th>\n",
       "      <th>market_path</th>\n",
       "      <th>market</th>\n",
       "      <th>coin_path</th>\n",
       "      <th>timems</th>\n",
       "    </tr>\n",
       "  </thead>\n",
       "  <tbody>\n",
       "    <tr>\n",
       "      <th>0</th>\n",
       "      <td>0.001756636192973171</td>\n",
       "      <td>1.416366979213303</td>\n",
       "      <td>EPS/BTC -&gt; BTC/USDT -&gt; EPS/USDT</td>\n",
       "      <td>EPS/BTC</td>\n",
       "      <td>EPS -&gt; BTC -&gt; USDT -&gt; EPS</td>\n",
       "      <td>1620561473483</td>\n",
       "    </tr>\n",
       "    <tr>\n",
       "      <th>1</th>\n",
       "      <td>0.002334603798706425</td>\n",
       "      <td>1.7051946145751729</td>\n",
       "      <td>HOT/BUSD -&gt; BNB/BUSD -&gt; HOT/BNB</td>\n",
       "      <td>HOT/BUSD</td>\n",
       "      <td>HOT -&gt; BUSD -&gt; BNB -&gt; HOT</td>\n",
       "      <td>1620644621758</td>\n",
       "    </tr>\n",
       "    <tr>\n",
       "      <th>2</th>\n",
       "      <td>0.009234737201892718</td>\n",
       "      <td>24.12021009762359</td>\n",
       "      <td>HOT/BUSD -&gt; BUSD/TRY -&gt; HOT/TRY</td>\n",
       "      <td>HOT/BUSD</td>\n",
       "      <td>HOT -&gt; BUSD -&gt; TRY -&gt; HOT</td>\n",
       "      <td>1620644622511</td>\n",
       "    </tr>\n",
       "    <tr>\n",
       "      <th>3</th>\n",
       "      <td>0.007878453474585267</td>\n",
       "      <td>3.4554896939530986</td>\n",
       "      <td>HOT/BUSD -&gt; BUSD/TRY -&gt; HOT/TRY</td>\n",
       "      <td>HOT/BUSD</td>\n",
       "      <td>HOT -&gt; BUSD -&gt; TRY -&gt; HOT</td>\n",
       "      <td>1620644623980</td>\n",
       "    </tr>\n",
       "    <tr>\n",
       "      <th>4</th>\n",
       "      <td>0.005154715529422926</td>\n",
       "      <td>7.065053104627062</td>\n",
       "      <td>HOT/BUSD -&gt; BUSD/TRY -&gt; HOT/TRY</td>\n",
       "      <td>HOT/BUSD</td>\n",
       "      <td>HOT -&gt; BUSD -&gt; TRY -&gt; HOT</td>\n",
       "      <td>1620644624637</td>\n",
       "    </tr>\n",
       "  </tbody>\n",
       "</table>\n",
       "</div>"
      ],
      "text/plain": [
       "                    roi              profit                      market_path  \\\n",
       "0  0.001756636192973171   1.416366979213303  EPS/BTC -> BTC/USDT -> EPS/USDT   \n",
       "1  0.002334603798706425  1.7051946145751729  HOT/BUSD -> BNB/BUSD -> HOT/BNB   \n",
       "2  0.009234737201892718   24.12021009762359  HOT/BUSD -> BUSD/TRY -> HOT/TRY   \n",
       "3  0.007878453474585267  3.4554896939530986  HOT/BUSD -> BUSD/TRY -> HOT/TRY   \n",
       "4  0.005154715529422926   7.065053104627062  HOT/BUSD -> BUSD/TRY -> HOT/TRY   \n",
       "\n",
       "     market                  coin_path         timems  \n",
       "0   EPS/BTC  EPS -> BTC -> USDT -> EPS  1620561473483  \n",
       "1  HOT/BUSD  HOT -> BUSD -> BNB -> HOT  1620644621758  \n",
       "2  HOT/BUSD  HOT -> BUSD -> TRY -> HOT  1620644622511  \n",
       "3  HOT/BUSD  HOT -> BUSD -> TRY -> HOT  1620644623980  \n",
       "4  HOT/BUSD  HOT -> BUSD -> TRY -> HOT  1620644624637  "
      ]
     },
     "execution_count": 34,
     "metadata": {},
     "output_type": "execute_result"
    }
   ],
   "source": [
    "df.head()"
   ]
  },
  {
   "cell_type": "code",
   "execution_count": 40,
   "metadata": {},
   "outputs": [],
   "source": [
    "df[\"end_market\"] = df[\"market_path\"].apply(lambda s: s.split(\" -> \")[2])"
   ]
  },
  {
   "cell_type": "code",
   "execution_count": 56,
   "metadata": {},
   "outputs": [],
   "source": [
    "def find_base_coin(start_market: str, end_market: str) -> str:\n",
    "    coins_s = start_market.split(\"/\")\n",
    "    coins_e = end_market.split(\"/\")\n",
    "    if coins_s[0] == coins_e[0] or coins_s[0] == coins_e[1]:\n",
    "        return coins_s[0]\n",
    "    if coins_s[1] == coins_e[0] or coins_s[1] == coins_e[1]:\n",
    "        return coins_s[1]\n",
    "    raise AttributeError(f\"No match between '{start_market}' and '{end_market}'\")\n",
    "    "
   ]
  },
  {
   "cell_type": "code",
   "execution_count": 58,
   "metadata": {},
   "outputs": [],
   "source": [
    "df[\"coin\"] = df.apply(lambda x: find_base_coin(x.market, x.end_market), axis=1)"
   ]
  },
  {
   "cell_type": "code",
   "execution_count": 74,
   "metadata": {},
   "outputs": [
    {
     "data": {
      "text/plain": [
       "2300"
      ]
     },
     "execution_count": 74,
     "metadata": {},
     "output_type": "execute_result"
    }
   ],
   "source": [
    "len(df)"
   ]
  },
  {
   "cell_type": "code",
   "execution_count": 126,
   "metadata": {},
   "outputs": [],
   "source": [
    "df[\"profit\"] = df.profit.apply(float)\n",
    "df[\"roi\"] = df.roi.apply(float)"
   ]
  },
  {
   "cell_type": "markdown",
   "metadata": {},
   "source": [
    "## Total Profit"
   ]
  },
  {
   "cell_type": "code",
   "execution_count": null,
   "metadata": {},
   "outputs": [],
   "source": []
  },
  {
   "cell_type": "code",
   "execution_count": 180,
   "metadata": {},
   "outputs": [],
   "source": [
    "df_by_coin = df[[\"profit\", \"coin\"]].groupby(\"coin\").sum()"
   ]
  },
  {
   "cell_type": "code",
   "execution_count": 181,
   "metadata": {},
   "outputs": [],
   "source": [
    "df_avg_by_coin = df.groupby(\"coin\").mean()"
   ]
  },
  {
   "cell_type": "code",
   "execution_count": 182,
   "metadata": {},
   "outputs": [],
   "source": [
    "df_counts_by_coin = df[[\"market\", \"coin\"]].groupby(\"coin\").count().rename(columns={\"market\": \"arbitrage_count\"})"
   ]
  },
  {
   "cell_type": "code",
   "execution_count": 183,
   "metadata": {},
   "outputs": [],
   "source": [
    "df_by_coin = df_by_coin.merge(df_avg_by_coin, how=\"inner\", on=\"coin\", suffixes=[\"_total\", \"_avg\"])"
   ]
  },
  {
   "cell_type": "code",
   "execution_count": 184,
   "metadata": {},
   "outputs": [],
   "source": [
    "df_by_coin = df_by_coin.merge(df_counts_by_coin, how=\"inner\", on=\"coin\").reset_index()"
   ]
  },
  {
   "cell_type": "code",
   "execution_count": 185,
   "metadata": {},
   "outputs": [
    {
     "data": {
      "text/html": [
       "<div>\n",
       "<style scoped>\n",
       "    .dataframe tbody tr th:only-of-type {\n",
       "        vertical-align: middle;\n",
       "    }\n",
       "\n",
       "    .dataframe tbody tr th {\n",
       "        vertical-align: top;\n",
       "    }\n",
       "\n",
       "    .dataframe thead th {\n",
       "        text-align: right;\n",
       "    }\n",
       "</style>\n",
       "<table border=\"1\" class=\"dataframe\">\n",
       "  <thead>\n",
       "    <tr style=\"text-align: right;\">\n",
       "      <th></th>\n",
       "      <th>coin</th>\n",
       "      <th>profit_total</th>\n",
       "      <th>roi</th>\n",
       "      <th>profit_avg</th>\n",
       "      <th>arbitrage_count</th>\n",
       "    </tr>\n",
       "  </thead>\n",
       "  <tbody>\n",
       "    <tr>\n",
       "      <th>0</th>\n",
       "      <td>ACM</td>\n",
       "      <td>0.003592</td>\n",
       "      <td>0.003070</td>\n",
       "      <td>0.003592</td>\n",
       "      <td>1</td>\n",
       "    </tr>\n",
       "    <tr>\n",
       "      <th>1</th>\n",
       "      <td>ADA</td>\n",
       "      <td>28.163979</td>\n",
       "      <td>0.005156</td>\n",
       "      <td>0.586750</td>\n",
       "      <td>48</td>\n",
       "    </tr>\n",
       "    <tr>\n",
       "      <th>2</th>\n",
       "      <td>ALGO</td>\n",
       "      <td>12.776478</td>\n",
       "      <td>0.001466</td>\n",
       "      <td>0.456303</td>\n",
       "      <td>28</td>\n",
       "    </tr>\n",
       "    <tr>\n",
       "      <th>3</th>\n",
       "      <td>ATM</td>\n",
       "      <td>0.000650</td>\n",
       "      <td>0.000197</td>\n",
       "      <td>0.000650</td>\n",
       "      <td>1</td>\n",
       "    </tr>\n",
       "    <tr>\n",
       "      <th>4</th>\n",
       "      <td>AUD</td>\n",
       "      <td>1641.126686</td>\n",
       "      <td>0.007161</td>\n",
       "      <td>20.013740</td>\n",
       "      <td>82</td>\n",
       "    </tr>\n",
       "    <tr>\n",
       "      <th>5</th>\n",
       "      <td>AXS</td>\n",
       "      <td>8.551538</td>\n",
       "      <td>0.017590</td>\n",
       "      <td>2.137884</td>\n",
       "      <td>4</td>\n",
       "    </tr>\n",
       "    <tr>\n",
       "      <th>6</th>\n",
       "      <td>BAKE</td>\n",
       "      <td>0.061318</td>\n",
       "      <td>0.000990</td>\n",
       "      <td>0.015329</td>\n",
       "      <td>4</td>\n",
       "    </tr>\n",
       "    <tr>\n",
       "      <th>7</th>\n",
       "      <td>BNB</td>\n",
       "      <td>0.181425</td>\n",
       "      <td>0.008835</td>\n",
       "      <td>0.004652</td>\n",
       "      <td>39</td>\n",
       "    </tr>\n",
       "    <tr>\n",
       "      <th>8</th>\n",
       "      <td>BRL</td>\n",
       "      <td>990.096860</td>\n",
       "      <td>0.006670</td>\n",
       "      <td>12.532872</td>\n",
       "      <td>79</td>\n",
       "    </tr>\n",
       "    <tr>\n",
       "      <th>9</th>\n",
       "      <td>BTC</td>\n",
       "      <td>0.026684</td>\n",
       "      <td>0.009195</td>\n",
       "      <td>0.000099</td>\n",
       "      <td>269</td>\n",
       "    </tr>\n",
       "    <tr>\n",
       "      <th>10</th>\n",
       "      <td>BUSD</td>\n",
       "      <td>1665.680326</td>\n",
       "      <td>0.009255</td>\n",
       "      <td>6.689479</td>\n",
       "      <td>249</td>\n",
       "    </tr>\n",
       "    <tr>\n",
       "      <th>11</th>\n",
       "      <td>CKB</td>\n",
       "      <td>2647.839182</td>\n",
       "      <td>0.011195</td>\n",
       "      <td>529.567836</td>\n",
       "      <td>5</td>\n",
       "    </tr>\n",
       "    <tr>\n",
       "      <th>12</th>\n",
       "      <td>CTXC</td>\n",
       "      <td>1.887381</td>\n",
       "      <td>0.000875</td>\n",
       "      <td>1.887381</td>\n",
       "      <td>1</td>\n",
       "    </tr>\n",
       "    <tr>\n",
       "      <th>13</th>\n",
       "      <td>DENT</td>\n",
       "      <td>1407.330653</td>\n",
       "      <td>0.028783</td>\n",
       "      <td>1407.330653</td>\n",
       "      <td>1</td>\n",
       "    </tr>\n",
       "    <tr>\n",
       "      <th>14</th>\n",
       "      <td>DF</td>\n",
       "      <td>55.143822</td>\n",
       "      <td>0.004435</td>\n",
       "      <td>1.531773</td>\n",
       "      <td>36</td>\n",
       "    </tr>\n",
       "    <tr>\n",
       "      <th>15</th>\n",
       "      <td>DOGE</td>\n",
       "      <td>8855.698186</td>\n",
       "      <td>0.008779</td>\n",
       "      <td>17.854230</td>\n",
       "      <td>496</td>\n",
       "    </tr>\n",
       "    <tr>\n",
       "      <th>16</th>\n",
       "      <td>ELF</td>\n",
       "      <td>21.622801</td>\n",
       "      <td>0.039445</td>\n",
       "      <td>7.207600</td>\n",
       "      <td>3</td>\n",
       "    </tr>\n",
       "    <tr>\n",
       "      <th>17</th>\n",
       "      <td>EPS</td>\n",
       "      <td>1.460619</td>\n",
       "      <td>0.002038</td>\n",
       "      <td>0.730310</td>\n",
       "      <td>2</td>\n",
       "    </tr>\n",
       "    <tr>\n",
       "      <th>18</th>\n",
       "      <td>ETH</td>\n",
       "      <td>0.076381</td>\n",
       "      <td>0.006222</td>\n",
       "      <td>0.000606</td>\n",
       "      <td>126</td>\n",
       "    </tr>\n",
       "    <tr>\n",
       "      <th>19</th>\n",
       "      <td>EUR</td>\n",
       "      <td>1184.344488</td>\n",
       "      <td>0.007715</td>\n",
       "      <td>10.388987</td>\n",
       "      <td>114</td>\n",
       "    </tr>\n",
       "    <tr>\n",
       "      <th>20</th>\n",
       "      <td>FIL</td>\n",
       "      <td>0.048299</td>\n",
       "      <td>0.001613</td>\n",
       "      <td>0.016100</td>\n",
       "      <td>3</td>\n",
       "    </tr>\n",
       "    <tr>\n",
       "      <th>21</th>\n",
       "      <td>FIS</td>\n",
       "      <td>1.083102</td>\n",
       "      <td>0.016826</td>\n",
       "      <td>0.270776</td>\n",
       "      <td>4</td>\n",
       "    </tr>\n",
       "    <tr>\n",
       "      <th>22</th>\n",
       "      <td>FTM</td>\n",
       "      <td>6.773855</td>\n",
       "      <td>0.003185</td>\n",
       "      <td>6.773855</td>\n",
       "      <td>1</td>\n",
       "    </tr>\n",
       "    <tr>\n",
       "      <th>23</th>\n",
       "      <td>GBP</td>\n",
       "      <td>346.537632</td>\n",
       "      <td>0.008333</td>\n",
       "      <td>4.950538</td>\n",
       "      <td>70</td>\n",
       "    </tr>\n",
       "    <tr>\n",
       "      <th>24</th>\n",
       "      <td>HEGIC</td>\n",
       "      <td>34.175213</td>\n",
       "      <td>0.001556</td>\n",
       "      <td>1.102426</td>\n",
       "      <td>31</td>\n",
       "    </tr>\n",
       "    <tr>\n",
       "      <th>25</th>\n",
       "      <td>HOT</td>\n",
       "      <td>36.345948</td>\n",
       "      <td>0.006151</td>\n",
       "      <td>9.086487</td>\n",
       "      <td>4</td>\n",
       "    </tr>\n",
       "    <tr>\n",
       "      <th>26</th>\n",
       "      <td>IDEX</td>\n",
       "      <td>50.359326</td>\n",
       "      <td>0.010469</td>\n",
       "      <td>3.357288</td>\n",
       "      <td>15</td>\n",
       "    </tr>\n",
       "    <tr>\n",
       "      <th>27</th>\n",
       "      <td>JST</td>\n",
       "      <td>792.398656</td>\n",
       "      <td>0.183296</td>\n",
       "      <td>264.132885</td>\n",
       "      <td>3</td>\n",
       "    </tr>\n",
       "    <tr>\n",
       "      <th>28</th>\n",
       "      <td>KAVA</td>\n",
       "      <td>0.027169</td>\n",
       "      <td>0.001314</td>\n",
       "      <td>0.013585</td>\n",
       "      <td>2</td>\n",
       "    </tr>\n",
       "    <tr>\n",
       "      <th>29</th>\n",
       "      <td>KP3R</td>\n",
       "      <td>0.000001</td>\n",
       "      <td>0.002589</td>\n",
       "      <td>0.000001</td>\n",
       "      <td>1</td>\n",
       "    </tr>\n",
       "    <tr>\n",
       "      <th>30</th>\n",
       "      <td>LIT</td>\n",
       "      <td>1.019153</td>\n",
       "      <td>0.011241</td>\n",
       "      <td>0.509576</td>\n",
       "      <td>2</td>\n",
       "    </tr>\n",
       "    <tr>\n",
       "      <th>31</th>\n",
       "      <td>LSK</td>\n",
       "      <td>7.801059</td>\n",
       "      <td>0.013904</td>\n",
       "      <td>0.520071</td>\n",
       "      <td>15</td>\n",
       "    </tr>\n",
       "    <tr>\n",
       "      <th>32</th>\n",
       "      <td>MBL</td>\n",
       "      <td>2.288296</td>\n",
       "      <td>0.001350</td>\n",
       "      <td>2.288296</td>\n",
       "      <td>1</td>\n",
       "    </tr>\n",
       "    <tr>\n",
       "      <th>33</th>\n",
       "      <td>PHA</td>\n",
       "      <td>4.046256</td>\n",
       "      <td>0.017580</td>\n",
       "      <td>2.023128</td>\n",
       "      <td>2</td>\n",
       "    </tr>\n",
       "    <tr>\n",
       "      <th>34</th>\n",
       "      <td>PROM</td>\n",
       "      <td>0.009986</td>\n",
       "      <td>0.005874</td>\n",
       "      <td>0.009986</td>\n",
       "      <td>1</td>\n",
       "    </tr>\n",
       "    <tr>\n",
       "      <th>35</th>\n",
       "      <td>RLC</td>\n",
       "      <td>23.414528</td>\n",
       "      <td>0.005390</td>\n",
       "      <td>0.632825</td>\n",
       "      <td>37</td>\n",
       "    </tr>\n",
       "    <tr>\n",
       "      <th>36</th>\n",
       "      <td>RUB</td>\n",
       "      <td>14226.312371</td>\n",
       "      <td>0.005079</td>\n",
       "      <td>169.360862</td>\n",
       "      <td>84</td>\n",
       "    </tr>\n",
       "    <tr>\n",
       "      <th>37</th>\n",
       "      <td>RVN</td>\n",
       "      <td>4850.286753</td>\n",
       "      <td>0.018063</td>\n",
       "      <td>808.381126</td>\n",
       "      <td>6</td>\n",
       "    </tr>\n",
       "    <tr>\n",
       "      <th>38</th>\n",
       "      <td>TRY</td>\n",
       "      <td>7938.601367</td>\n",
       "      <td>0.010260</td>\n",
       "      <td>68.436219</td>\n",
       "      <td>116</td>\n",
       "    </tr>\n",
       "    <tr>\n",
       "      <th>39</th>\n",
       "      <td>TUSD</td>\n",
       "      <td>3.096637</td>\n",
       "      <td>0.003757</td>\n",
       "      <td>0.774159</td>\n",
       "      <td>4</td>\n",
       "    </tr>\n",
       "    <tr>\n",
       "      <th>40</th>\n",
       "      <td>UFT</td>\n",
       "      <td>0.129180</td>\n",
       "      <td>0.002694</td>\n",
       "      <td>0.064590</td>\n",
       "      <td>2</td>\n",
       "    </tr>\n",
       "    <tr>\n",
       "      <th>41</th>\n",
       "      <td>USDC</td>\n",
       "      <td>4.283245</td>\n",
       "      <td>0.005197</td>\n",
       "      <td>1.070811</td>\n",
       "      <td>4</td>\n",
       "    </tr>\n",
       "    <tr>\n",
       "      <th>42</th>\n",
       "      <td>USDT</td>\n",
       "      <td>3851.644116</td>\n",
       "      <td>0.008594</td>\n",
       "      <td>13.327488</td>\n",
       "      <td>289</td>\n",
       "    </tr>\n",
       "    <tr>\n",
       "      <th>43</th>\n",
       "      <td>VIDT</td>\n",
       "      <td>1.134253</td>\n",
       "      <td>0.004579</td>\n",
       "      <td>1.134253</td>\n",
       "      <td>1</td>\n",
       "    </tr>\n",
       "    <tr>\n",
       "      <th>44</th>\n",
       "      <td>VITE</td>\n",
       "      <td>4.630127</td>\n",
       "      <td>0.000887</td>\n",
       "      <td>4.630127</td>\n",
       "      <td>1</td>\n",
       "    </tr>\n",
       "    <tr>\n",
       "      <th>45</th>\n",
       "      <td>WING</td>\n",
       "      <td>0.002698</td>\n",
       "      <td>0.001124</td>\n",
       "      <td>0.002698</td>\n",
       "      <td>1</td>\n",
       "    </tr>\n",
       "    <tr>\n",
       "      <th>46</th>\n",
       "      <td>XRP</td>\n",
       "      <td>1.093778</td>\n",
       "      <td>0.000750</td>\n",
       "      <td>0.121531</td>\n",
       "      <td>9</td>\n",
       "    </tr>\n",
       "    <tr>\n",
       "      <th>47</th>\n",
       "      <td>XVS</td>\n",
       "      <td>0.152133</td>\n",
       "      <td>0.004813</td>\n",
       "      <td>0.050711</td>\n",
       "      <td>3</td>\n",
       "    </tr>\n",
       "  </tbody>\n",
       "</table>\n",
       "</div>"
      ],
      "text/plain": [
       "     coin  profit_total       roi   profit_avg  arbitrage_count\n",
       "0     ACM      0.003592  0.003070     0.003592                1\n",
       "1     ADA     28.163979  0.005156     0.586750               48\n",
       "2    ALGO     12.776478  0.001466     0.456303               28\n",
       "3     ATM      0.000650  0.000197     0.000650                1\n",
       "4     AUD   1641.126686  0.007161    20.013740               82\n",
       "5     AXS      8.551538  0.017590     2.137884                4\n",
       "6    BAKE      0.061318  0.000990     0.015329                4\n",
       "7     BNB      0.181425  0.008835     0.004652               39\n",
       "8     BRL    990.096860  0.006670    12.532872               79\n",
       "9     BTC      0.026684  0.009195     0.000099              269\n",
       "10   BUSD   1665.680326  0.009255     6.689479              249\n",
       "11    CKB   2647.839182  0.011195   529.567836                5\n",
       "12   CTXC      1.887381  0.000875     1.887381                1\n",
       "13   DENT   1407.330653  0.028783  1407.330653                1\n",
       "14     DF     55.143822  0.004435     1.531773               36\n",
       "15   DOGE   8855.698186  0.008779    17.854230              496\n",
       "16    ELF     21.622801  0.039445     7.207600                3\n",
       "17    EPS      1.460619  0.002038     0.730310                2\n",
       "18    ETH      0.076381  0.006222     0.000606              126\n",
       "19    EUR   1184.344488  0.007715    10.388987              114\n",
       "20    FIL      0.048299  0.001613     0.016100                3\n",
       "21    FIS      1.083102  0.016826     0.270776                4\n",
       "22    FTM      6.773855  0.003185     6.773855                1\n",
       "23    GBP    346.537632  0.008333     4.950538               70\n",
       "24  HEGIC     34.175213  0.001556     1.102426               31\n",
       "25    HOT     36.345948  0.006151     9.086487                4\n",
       "26   IDEX     50.359326  0.010469     3.357288               15\n",
       "27    JST    792.398656  0.183296   264.132885                3\n",
       "28   KAVA      0.027169  0.001314     0.013585                2\n",
       "29   KP3R      0.000001  0.002589     0.000001                1\n",
       "30    LIT      1.019153  0.011241     0.509576                2\n",
       "31    LSK      7.801059  0.013904     0.520071               15\n",
       "32    MBL      2.288296  0.001350     2.288296                1\n",
       "33    PHA      4.046256  0.017580     2.023128                2\n",
       "34   PROM      0.009986  0.005874     0.009986                1\n",
       "35    RLC     23.414528  0.005390     0.632825               37\n",
       "36    RUB  14226.312371  0.005079   169.360862               84\n",
       "37    RVN   4850.286753  0.018063   808.381126                6\n",
       "38    TRY   7938.601367  0.010260    68.436219              116\n",
       "39   TUSD      3.096637  0.003757     0.774159                4\n",
       "40    UFT      0.129180  0.002694     0.064590                2\n",
       "41   USDC      4.283245  0.005197     1.070811                4\n",
       "42   USDT   3851.644116  0.008594    13.327488              289\n",
       "43   VIDT      1.134253  0.004579     1.134253                1\n",
       "44   VITE      4.630127  0.000887     4.630127                1\n",
       "45   WING      0.002698  0.001124     0.002698                1\n",
       "46    XRP      1.093778  0.000750     0.121531                9\n",
       "47    XVS      0.152133  0.004813     0.050711                3"
      ]
     },
     "execution_count": 185,
     "metadata": {},
     "output_type": "execute_result"
    }
   ],
   "source": [
    "df_by_coin"
   ]
  },
  {
   "cell_type": "markdown",
   "metadata": {},
   "source": [
    "## Convert all to USD"
   ]
  },
  {
   "cell_type": "code",
   "execution_count": null,
   "metadata": {},
   "outputs": [],
   "source": [
    "# load tickers from S3"
   ]
  },
  {
   "cell_type": "code",
   "execution_count": null,
   "metadata": {},
   "outputs": [],
   "source": [
    "best_usd_coins = [\"BUSD\", \"USDT\", \"USDC\"]\n",
    "\n",
    "def _get_price_in_usd(coin: str) -> Optional[float]:\n",
    "    pass"
   ]
  },
  {
   "cell_type": "code",
   "execution_count": 168,
   "metadata": {},
   "outputs": [
    {
     "data": {
      "text/html": [
       "<div>\n",
       "<style scoped>\n",
       "    .dataframe tbody tr th:only-of-type {\n",
       "        vertical-align: middle;\n",
       "    }\n",
       "\n",
       "    .dataframe tbody tr th {\n",
       "        vertical-align: top;\n",
       "    }\n",
       "\n",
       "    .dataframe thead th {\n",
       "        text-align: right;\n",
       "    }\n",
       "</style>\n",
       "<table border=\"1\" class=\"dataframe\">\n",
       "  <thead>\n",
       "    <tr style=\"text-align: right;\">\n",
       "      <th></th>\n",
       "      <th>profit_total</th>\n",
       "      <th>roi</th>\n",
       "      <th>profit_avg</th>\n",
       "      <th>arbitrage_count</th>\n",
       "    </tr>\n",
       "    <tr>\n",
       "      <th>coin</th>\n",
       "      <th></th>\n",
       "      <th></th>\n",
       "      <th></th>\n",
       "      <th></th>\n",
       "    </tr>\n",
       "  </thead>\n",
       "  <tbody>\n",
       "    <tr>\n",
       "      <th>DOGE</th>\n",
       "      <td>8855.698186</td>\n",
       "      <td>0.008779</td>\n",
       "      <td>17.854230</td>\n",
       "      <td>496</td>\n",
       "    </tr>\n",
       "    <tr>\n",
       "      <th>USDT</th>\n",
       "      <td>3851.644116</td>\n",
       "      <td>0.008594</td>\n",
       "      <td>13.327488</td>\n",
       "      <td>289</td>\n",
       "    </tr>\n",
       "    <tr>\n",
       "      <th>BTC</th>\n",
       "      <td>0.026684</td>\n",
       "      <td>0.009195</td>\n",
       "      <td>0.000099</td>\n",
       "      <td>269</td>\n",
       "    </tr>\n",
       "    <tr>\n",
       "      <th>BUSD</th>\n",
       "      <td>1665.680326</td>\n",
       "      <td>0.009255</td>\n",
       "      <td>6.689479</td>\n",
       "      <td>249</td>\n",
       "    </tr>\n",
       "    <tr>\n",
       "      <th>ETH</th>\n",
       "      <td>0.076381</td>\n",
       "      <td>0.006222</td>\n",
       "      <td>0.000606</td>\n",
       "      <td>126</td>\n",
       "    </tr>\n",
       "    <tr>\n",
       "      <th>TRY</th>\n",
       "      <td>7938.601367</td>\n",
       "      <td>0.010260</td>\n",
       "      <td>68.436219</td>\n",
       "      <td>116</td>\n",
       "    </tr>\n",
       "    <tr>\n",
       "      <th>EUR</th>\n",
       "      <td>1184.344488</td>\n",
       "      <td>0.007715</td>\n",
       "      <td>10.388987</td>\n",
       "      <td>114</td>\n",
       "    </tr>\n",
       "    <tr>\n",
       "      <th>RUB</th>\n",
       "      <td>14226.312371</td>\n",
       "      <td>0.005079</td>\n",
       "      <td>169.360862</td>\n",
       "      <td>84</td>\n",
       "    </tr>\n",
       "    <tr>\n",
       "      <th>AUD</th>\n",
       "      <td>1641.126686</td>\n",
       "      <td>0.007161</td>\n",
       "      <td>20.013740</td>\n",
       "      <td>82</td>\n",
       "    </tr>\n",
       "    <tr>\n",
       "      <th>BRL</th>\n",
       "      <td>990.096860</td>\n",
       "      <td>0.006670</td>\n",
       "      <td>12.532872</td>\n",
       "      <td>79</td>\n",
       "    </tr>\n",
       "  </tbody>\n",
       "</table>\n",
       "</div>"
      ],
      "text/plain": [
       "      profit_total       roi  profit_avg  arbitrage_count\n",
       "coin                                                     \n",
       "DOGE   8855.698186  0.008779   17.854230              496\n",
       "USDT   3851.644116  0.008594   13.327488              289\n",
       "BTC       0.026684  0.009195    0.000099              269\n",
       "BUSD   1665.680326  0.009255    6.689479              249\n",
       "ETH       0.076381  0.006222    0.000606              126\n",
       "TRY    7938.601367  0.010260   68.436219              116\n",
       "EUR    1184.344488  0.007715   10.388987              114\n",
       "RUB   14226.312371  0.005079  169.360862               84\n",
       "AUD    1641.126686  0.007161   20.013740               82\n",
       "BRL     990.096860  0.006670   12.532872               79"
      ]
     },
     "execution_count": 168,
     "metadata": {},
     "output_type": "execute_result"
    }
   ],
   "source": [
    "df_by_coin.sort_values(\"arbitrage_count\", ascending=False)[:10]"
   ]
  },
  {
   "cell_type": "markdown",
   "metadata": {},
   "source": [
    "## Stable Coins Profit"
   ]
  },
  {
   "cell_type": "code",
   "execution_count": 186,
   "metadata": {},
   "outputs": [],
   "source": [
    "df_by_coin_stable = df_by_coin.query(\"coin.str.contains('BTC') or coin.str.contains('ETH') or coin.str.contains('EUR') or coin.str.contains('RUB') or coin.str.contains('USD')\")"
   ]
  },
  {
   "cell_type": "code",
   "execution_count": 187,
   "metadata": {},
   "outputs": [
    {
     "data": {
      "text/html": [
       "<div>\n",
       "<style scoped>\n",
       "    .dataframe tbody tr th:only-of-type {\n",
       "        vertical-align: middle;\n",
       "    }\n",
       "\n",
       "    .dataframe tbody tr th {\n",
       "        vertical-align: top;\n",
       "    }\n",
       "\n",
       "    .dataframe thead th {\n",
       "        text-align: right;\n",
       "    }\n",
       "</style>\n",
       "<table border=\"1\" class=\"dataframe\">\n",
       "  <thead>\n",
       "    <tr style=\"text-align: right;\">\n",
       "      <th></th>\n",
       "      <th>coin</th>\n",
       "      <th>profit_total</th>\n",
       "      <th>roi</th>\n",
       "      <th>profit_avg</th>\n",
       "      <th>arbitrage_count</th>\n",
       "    </tr>\n",
       "  </thead>\n",
       "  <tbody>\n",
       "    <tr>\n",
       "      <th>36</th>\n",
       "      <td>RUB</td>\n",
       "      <td>14226.312371</td>\n",
       "      <td>0.005079</td>\n",
       "      <td>169.360862</td>\n",
       "      <td>84</td>\n",
       "    </tr>\n",
       "    <tr>\n",
       "      <th>42</th>\n",
       "      <td>USDT</td>\n",
       "      <td>3851.644116</td>\n",
       "      <td>0.008594</td>\n",
       "      <td>13.327488</td>\n",
       "      <td>289</td>\n",
       "    </tr>\n",
       "    <tr>\n",
       "      <th>10</th>\n",
       "      <td>BUSD</td>\n",
       "      <td>1665.680326</td>\n",
       "      <td>0.009255</td>\n",
       "      <td>6.689479</td>\n",
       "      <td>249</td>\n",
       "    </tr>\n",
       "    <tr>\n",
       "      <th>19</th>\n",
       "      <td>EUR</td>\n",
       "      <td>1184.344488</td>\n",
       "      <td>0.007715</td>\n",
       "      <td>10.388987</td>\n",
       "      <td>114</td>\n",
       "    </tr>\n",
       "    <tr>\n",
       "      <th>41</th>\n",
       "      <td>USDC</td>\n",
       "      <td>4.283245</td>\n",
       "      <td>0.005197</td>\n",
       "      <td>1.070811</td>\n",
       "      <td>4</td>\n",
       "    </tr>\n",
       "    <tr>\n",
       "      <th>39</th>\n",
       "      <td>TUSD</td>\n",
       "      <td>3.096637</td>\n",
       "      <td>0.003757</td>\n",
       "      <td>0.774159</td>\n",
       "      <td>4</td>\n",
       "    </tr>\n",
       "    <tr>\n",
       "      <th>18</th>\n",
       "      <td>ETH</td>\n",
       "      <td>0.076381</td>\n",
       "      <td>0.006222</td>\n",
       "      <td>0.000606</td>\n",
       "      <td>126</td>\n",
       "    </tr>\n",
       "    <tr>\n",
       "      <th>9</th>\n",
       "      <td>BTC</td>\n",
       "      <td>0.026684</td>\n",
       "      <td>0.009195</td>\n",
       "      <td>0.000099</td>\n",
       "      <td>269</td>\n",
       "    </tr>\n",
       "  </tbody>\n",
       "</table>\n",
       "</div>"
      ],
      "text/plain": [
       "    coin  profit_total       roi  profit_avg  arbitrage_count\n",
       "36   RUB  14226.312371  0.005079  169.360862               84\n",
       "42  USDT   3851.644116  0.008594   13.327488              289\n",
       "10  BUSD   1665.680326  0.009255    6.689479              249\n",
       "19   EUR   1184.344488  0.007715   10.388987              114\n",
       "41  USDC      4.283245  0.005197    1.070811                4\n",
       "39  TUSD      3.096637  0.003757    0.774159                4\n",
       "18   ETH      0.076381  0.006222    0.000606              126\n",
       "9    BTC      0.026684  0.009195    0.000099              269"
      ]
     },
     "execution_count": 187,
     "metadata": {},
     "output_type": "execute_result"
    }
   ],
   "source": [
    "df_by_coin_stable.sort_values(\"profit_total\", ascending=False)"
   ]
  },
  {
   "cell_type": "code",
   "execution_count": 191,
   "metadata": {},
   "outputs": [
    {
     "data": {
      "text/plain": [
       "<AxesSubplot:xlabel='coin'>"
      ]
     },
     "execution_count": 191,
     "metadata": {},
     "output_type": "execute_result"
    },
    {
     "data": {
      "image/png": "[encoded data removed]",
      "text/plain": [
       "<Figure size 432x288 with 1 Axes>"
      ]
     },
     "metadata": {
      "needs_background": "light"
     },
     "output_type": "display_data"
    }
   ],
   "source": [
    "df_by_coin_stable.plot.bar(x=\"coin\", y=\"roi\")"
   ]
  },
  {
   "cell_type": "code",
   "execution_count": 122,
   "metadata": {},
   "outputs": [],
   "source": [
    "# todo Calc arbitrage TTL"
   ]
  },
  {
   "cell_type": "code",
   "execution_count": null,
   "metadata": {},
   "outputs": [],
   "source": []
  }
 ],
 "metadata": {
  "kernelspec": {
   "display_name": "Python 3",
   "language": "python",
   "name": "python3"
  },
  "language_info": {
   "codemirror_mode": {
    "name": "ipython",
    "version": 3
   },
   "file_extension": ".py",
   "mimetype": "text/x-python",
   "name": "python",
   "nbconvert_exporter": "python",
   "pygments_lexer": "ipython3",
   "version": "3.7.7"
  }
 },
 "nbformat": 4,
 "nbformat_minor": 1
}

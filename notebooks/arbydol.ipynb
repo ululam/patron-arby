{
 "cells": [
  {
   "cell_type": "markdown",
   "metadata": {},
   "source": [
    "# Analyse arbitrage data we have"
   ]
  },
  {
   "cell_type": "markdown",
   "metadata": {},
   "source": [
    "<h1 id=\"tocheading\">Table of Contents</h1>\n",
    "<div id=\"toc\"></div>"
   ]
  },
  {
   "cell_type": "code",
   "execution_count": 307,
   "metadata": {},
   "outputs": [
    {
     "data": {
      "application/javascript": [
       "$.getScript('https://kmahelona.github.io/ipython_notebook_goodies/ipython_notebook_toc.js')\n"
      ],
      "text/plain": [
       "<IPython.core.display.Javascript object>"
      ]
     },
     "metadata": {},
     "output_type": "display_data"
    }
   ],
   "source": [
    "%%javascript\n",
    "$.getScript('https://kmahelona.github.io/ipython_notebook_goodies/ipython_notebook_toc.js')"
   ]
  },
  {
   "cell_type": "markdown",
   "metadata": {},
   "source": [
    "## Install stuff"
   ]
  },
  {
   "cell_type": "code",
   "execution_count": 2,
   "metadata": {
    "collapsed": true
   },
   "outputs": [
    {
     "name": "stdout",
     "output_type": "stream",
     "text": [
      "Requirement already satisfied: pandas in /Users/az/.pyenv/versions/3.7.7/lib/python3.7/site-packages (1.0.5)\n",
      "Requirement already satisfied: numpy>=1.13.3 in /Users/az/.pyenv/versions/3.7.7/lib/python3.7/site-packages (from pandas) (1.19.0)\n",
      "Requirement already satisfied: python-dateutil>=2.6.1 in /Users/az/.pyenv/versions/3.7.7/lib/python3.7/site-packages (from pandas) (2.8.1)\n",
      "Requirement already satisfied: pytz>=2017.2 in /Users/az/.pyenv/versions/3.7.7/lib/python3.7/site-packages (from pandas) (2020.1)\n",
      "Requirement already satisfied: six>=1.5 in /Users/az/.pyenv/versions/3.7.7/lib/python3.7/site-packages (from python-dateutil>=2.6.1->pandas) (1.15.0)\n",
      "\u001b[33mWARNING: You are using pip version 19.2.3, however version 21.1.1 is available.\n",
      "You should consider upgrading via the 'pip install --upgrade pip' command.\u001b[0m\n"
     ]
    }
   ],
   "source": [
    "!pip install pandas"
   ]
  },
  {
   "cell_type": "code",
   "execution_count": 3,
   "metadata": {
    "collapsed": true,
    "pycharm": {
     "name": "#%%\n"
    }
   },
   "outputs": [
    {
     "name": "stdout",
     "output_type": "stream",
     "text": [
      "Requirement already satisfied: matplotlib in /Users/az/.pyenv/versions/3.7.7/lib/python3.7/site-packages (3.3.2)\n",
      "Requirement already satisfied: numpy>=1.15 in /Users/az/.pyenv/versions/3.7.7/lib/python3.7/site-packages (from matplotlib) (1.19.0)\n",
      "Requirement already satisfied: pyparsing!=2.0.4,!=2.1.2,!=2.1.6,>=2.0.3 in /Users/az/.pyenv/versions/3.7.7/lib/python3.7/site-packages (from matplotlib) (2.4.7)\n",
      "Requirement already satisfied: python-dateutil>=2.1 in /Users/az/.pyenv/versions/3.7.7/lib/python3.7/site-packages (from matplotlib) (2.8.1)\n",
      "Requirement already satisfied: cycler>=0.10 in /Users/az/.pyenv/versions/3.7.7/lib/python3.7/site-packages (from matplotlib) (0.10.0)\n",
      "Requirement already satisfied: kiwisolver>=1.0.1 in /Users/az/.pyenv/versions/3.7.7/lib/python3.7/site-packages (from matplotlib) (1.2.0)\n",
      "Requirement already satisfied: pillow>=6.2.0 in /Users/az/.pyenv/versions/3.7.7/lib/python3.7/site-packages (from matplotlib) (7.2.0)\n",
      "Requirement already satisfied: certifi>=2020.06.20 in /Users/az/.pyenv/versions/3.7.7/lib/python3.7/site-packages (from matplotlib) (2020.6.20)\n",
      "Requirement already satisfied: six>=1.5 in /Users/az/.pyenv/versions/3.7.7/lib/python3.7/site-packages (from python-dateutil>=2.1->matplotlib) (1.15.0)\n",
      "\u001b[33mWARNING: You are using pip version 19.2.3, however version 21.1.1 is available.\n",
      "You should consider upgrading via the 'pip install --upgrade pip' command.\u001b[0m\n"
     ]
    }
   ],
   "source": [
    "!pip install matplotlib"
   ]
  },
  {
   "cell_type": "code",
   "execution_count": 4,
   "metadata": {
    "collapsed": true,
    "pycharm": {
     "name": "#%%\n"
    }
   },
   "outputs": [
    {
     "name": "stdout",
     "output_type": "stream",
     "text": [
      "Requirement already satisfied: sqlalchemy in /Users/az/.pyenv/versions/3.7.7/lib/python3.7/site-packages (1.4.14)\n",
      "Requirement already satisfied: greenlet!=0.4.17; python_version >= \"3\" in /Users/az/.pyenv/versions/3.7.7/lib/python3.7/site-packages (from sqlalchemy) (1.1.0)\n",
      "Requirement already satisfied: importlib-metadata; python_version < \"3.8\" in /Users/az/.pyenv/versions/3.7.7/lib/python3.7/site-packages (from sqlalchemy) (4.0.1)\n",
      "Requirement already satisfied: typing-extensions>=3.6.4; python_version < \"3.8\" in /Users/az/.pyenv/versions/3.7.7/lib/python3.7/site-packages (from importlib-metadata; python_version < \"3.8\"->sqlalchemy) (3.7.4.3)\n",
      "Requirement already satisfied: zipp>=0.5 in /Users/az/.pyenv/versions/3.7.7/lib/python3.7/site-packages (from importlib-metadata; python_version < \"3.8\"->sqlalchemy) (3.3.0)\n",
      "\u001b[33mWARNING: You are using pip version 19.2.3, however version 21.1.1 is available.\n",
      "You should consider upgrading via the 'pip install --upgrade pip' command.\u001b[0m\n"
     ]
    }
   ],
   "source": [
    "!pip install sqlalchemy"
   ]
  },
  {
   "cell_type": "code",
   "execution_count": 5,
   "metadata": {
    "collapsed": true
   },
   "outputs": [
    {
     "name": "stdout",
     "output_type": "stream",
     "text": [
      "Requirement already satisfied: boto3 in /Users/az/.pyenv/versions/3.7.7/lib/python3.7/site-packages (1.14.17)\n",
      "Requirement already satisfied: s3transfer<0.4.0,>=0.3.0 in /Users/az/.pyenv/versions/3.7.7/lib/python3.7/site-packages (from boto3) (0.3.3)\n",
      "Requirement already satisfied: jmespath<1.0.0,>=0.7.1 in /Users/az/.pyenv/versions/3.7.7/lib/python3.7/site-packages (from boto3) (0.10.0)\n",
      "Requirement already satisfied: botocore<1.18.0,>=1.17.17 in /Users/az/.pyenv/versions/3.7.7/lib/python3.7/site-packages (from boto3) (1.17.63)\n",
      "Requirement already satisfied: urllib3<1.26,>=1.20; python_version != \"3.4\" in /Users/az/.pyenv/versions/3.7.7/lib/python3.7/site-packages (from botocore<1.18.0,>=1.17.17->boto3) (1.25.10)\n",
      "Requirement already satisfied: docutils<0.16,>=0.10 in /Users/az/.pyenv/versions/3.7.7/lib/python3.7/site-packages (from botocore<1.18.0,>=1.17.17->boto3) (0.15.2)\n",
      "Requirement already satisfied: python-dateutil<3.0.0,>=2.1 in /Users/az/.pyenv/versions/3.7.7/lib/python3.7/site-packages (from botocore<1.18.0,>=1.17.17->boto3) (2.8.1)\n",
      "Requirement already satisfied: six>=1.5 in /Users/az/.pyenv/versions/3.7.7/lib/python3.7/site-packages (from python-dateutil<3.0.0,>=2.1->botocore<1.18.0,>=1.17.17->boto3) (1.15.0)\n",
      "\u001b[33mWARNING: You are using pip version 19.2.3, however version 21.1.1 is available.\n",
      "You should consider upgrading via the 'pip install --upgrade pip' command.\u001b[0m\n"
     ]
    }
   ],
   "source": [
    "!pip install boto3"
   ]
  },
  {
   "cell_type": "code",
   "execution_count": 6,
   "metadata": {},
   "outputs": [],
   "source": [
    "import sys\n",
    "import os\n",
    "import matplotlib\n",
    "import pandas as pd\n",
    "import matplotlib.pyplot as plt\n",
    "import boto3"
   ]
  },
  {
   "cell_type": "code",
   "execution_count": 7,
   "metadata": {},
   "outputs": [],
   "source": [
    "matplotlib.style.use('seaborn')"
   ]
  },
  {
   "cell_type": "markdown",
   "metadata": {},
   "source": [
    "### Connect to AWS"
   ]
  },
  {
   "cell_type": "markdown",
   "metadata": {},
   "source": [
    "Set your AWS profile name, or create session using your AWS keys"
   ]
  },
  {
   "cell_type": "code",
   "execution_count": 8,
   "metadata": {},
   "outputs": [
    {
     "name": "stdout",
     "output_type": "stream",
     "text": [
      "\n"
     ]
    }
   ],
   "source": [
    "# aws_access_key = os.environ[\"GIW_AWS_ACCESS_KEY\"]\n",
    "# aws_access_secret = os.environ[\"GIW_AWS_ACCESS_SECRET\"]\n",
    "print()"
   ]
  },
  {
   "cell_type": "code",
   "execution_count": 9,
   "metadata": {},
   "outputs": [],
   "source": [
    "# Set your AWS profile name, or create session using your AWS keys\n",
    "boto3.setup_default_session(profile_name=\"goodit\")"
   ]
  },
  {
   "cell_type": "markdown",
   "metadata": {},
   "source": [
    "## Load data"
   ]
  },
  {
   "cell_type": "code",
   "execution_count": 10,
   "metadata": {},
   "outputs": [],
   "source": [
    "table = boto3.resource(\"dynamodb\").Table(\"patron-arbitrage\")"
   ]
  },
  {
   "cell_type": "code",
   "execution_count": 11,
   "metadata": {},
   "outputs": [],
   "source": [
    "response = table.scan()\n",
    "data = response['Items']"
   ]
  },
  {
   "cell_type": "code",
   "execution_count": 12,
   "metadata": {},
   "outputs": [
    {
     "data": {
      "text/plain": [
       "4010"
      ]
     },
     "execution_count": 12,
     "metadata": {},
     "output_type": "execute_result"
    }
   ],
   "source": [
    "len(data)"
   ]
  },
  {
   "cell_type": "code",
   "execution_count": 14,
   "metadata": {},
   "outputs": [],
   "source": [
    "df = pd.DataFrame(data)"
   ]
  },
  {
   "cell_type": "code",
   "execution_count": 15,
   "metadata": {},
   "outputs": [
    {
     "data": {
      "text/html": [
       "<div>\n",
       "<style scoped>\n",
       "    .dataframe tbody tr th:only-of-type {\n",
       "        vertical-align: middle;\n",
       "    }\n",
       "\n",
       "    .dataframe tbody tr th {\n",
       "        vertical-align: top;\n",
       "    }\n",
       "\n",
       "    .dataframe thead th {\n",
       "        text-align: right;\n",
       "    }\n",
       "</style>\n",
       "<table border=\"1\" class=\"dataframe\">\n",
       "  <thead>\n",
       "    <tr style=\"text-align: right;\">\n",
       "      <th></th>\n",
       "      <th>roi</th>\n",
       "      <th>profit</th>\n",
       "      <th>market_path</th>\n",
       "      <th>market</th>\n",
       "      <th>coin_path</th>\n",
       "      <th>timems</th>\n",
       "    </tr>\n",
       "  </thead>\n",
       "  <tbody>\n",
       "    <tr>\n",
       "      <th>0</th>\n",
       "      <td>0.0004259987362807971</td>\n",
       "      <td>0.0866664691354698</td>\n",
       "      <td>ANT/BUSD -&gt; ANT/USDT -&gt; BUSD/USDT</td>\n",
       "      <td>ANT/BUSD</td>\n",
       "      <td>BUSD -&gt; ANT -&gt; USDT -&gt; BUSD</td>\n",
       "      <td>1620771914072</td>\n",
       "    </tr>\n",
       "    <tr>\n",
       "      <th>1</th>\n",
       "      <td>0.0003573882892536906</td>\n",
       "      <td>0.00094707896652228</td>\n",
       "      <td>AUCTION/BUSD -&gt; BTC/BUSD -&gt; AUCTION/BTC</td>\n",
       "      <td>AUCTION/BUSD</td>\n",
       "      <td>AUCTION -&gt; BUSD -&gt; BTC -&gt; AUCTION</td>\n",
       "      <td>1620702298231</td>\n",
       "    </tr>\n",
       "    <tr>\n",
       "      <th>2</th>\n",
       "      <td>0.001756636192973171</td>\n",
       "      <td>1.416366979213303</td>\n",
       "      <td>EPS/BTC -&gt; BTC/USDT -&gt; EPS/USDT</td>\n",
       "      <td>EPS/BTC</td>\n",
       "      <td>EPS -&gt; BTC -&gt; USDT -&gt; EPS</td>\n",
       "      <td>1620561473483</td>\n",
       "    </tr>\n",
       "    <tr>\n",
       "      <th>3</th>\n",
       "      <td>0.002334603798706425</td>\n",
       "      <td>1.7051946145751729</td>\n",
       "      <td>HOT/BUSD -&gt; BNB/BUSD -&gt; HOT/BNB</td>\n",
       "      <td>HOT/BUSD</td>\n",
       "      <td>HOT -&gt; BUSD -&gt; BNB -&gt; HOT</td>\n",
       "      <td>1620644621758</td>\n",
       "    </tr>\n",
       "    <tr>\n",
       "      <th>4</th>\n",
       "      <td>0.009234737201892718</td>\n",
       "      <td>24.12021009762359</td>\n",
       "      <td>HOT/BUSD -&gt; BUSD/TRY -&gt; HOT/TRY</td>\n",
       "      <td>HOT/BUSD</td>\n",
       "      <td>HOT -&gt; BUSD -&gt; TRY -&gt; HOT</td>\n",
       "      <td>1620644622511</td>\n",
       "    </tr>\n",
       "  </tbody>\n",
       "</table>\n",
       "</div>"
      ],
      "text/plain": [
       "                     roi               profit  \\\n",
       "0  0.0004259987362807971   0.0866664691354698   \n",
       "1  0.0003573882892536906  0.00094707896652228   \n",
       "2   0.001756636192973171    1.416366979213303   \n",
       "3   0.002334603798706425   1.7051946145751729   \n",
       "4   0.009234737201892718    24.12021009762359   \n",
       "\n",
       "                               market_path        market  \\\n",
       "0        ANT/BUSD -> ANT/USDT -> BUSD/USDT      ANT/BUSD   \n",
       "1  AUCTION/BUSD -> BTC/BUSD -> AUCTION/BTC  AUCTION/BUSD   \n",
       "2          EPS/BTC -> BTC/USDT -> EPS/USDT       EPS/BTC   \n",
       "3          HOT/BUSD -> BNB/BUSD -> HOT/BNB      HOT/BUSD   \n",
       "4          HOT/BUSD -> BUSD/TRY -> HOT/TRY      HOT/BUSD   \n",
       "\n",
       "                           coin_path         timems  \n",
       "0        BUSD -> ANT -> USDT -> BUSD  1620771914072  \n",
       "1  AUCTION -> BUSD -> BTC -> AUCTION  1620702298231  \n",
       "2          EPS -> BTC -> USDT -> EPS  1620561473483  \n",
       "3          HOT -> BUSD -> BNB -> HOT  1620644621758  \n",
       "4          HOT -> BUSD -> TRY -> HOT  1620644622511  "
      ]
     },
     "execution_count": 15,
     "metadata": {},
     "output_type": "execute_result"
    }
   ],
   "source": [
    "df.head()"
   ]
  },
  {
   "cell_type": "code",
   "execution_count": 16,
   "metadata": {},
   "outputs": [],
   "source": [
    "starttime, endtime = min(df.timems), max(df.timems)"
   ]
  },
  {
   "cell_type": "code",
   "execution_count": 17,
   "metadata": {},
   "outputs": [],
   "source": [
    "starttime = pd.to_datetime(int(starttime), unit=\"ms\")\n",
    "endtime = pd.to_datetime(int(endtime), unit=\"ms\")"
   ]
  },
  {
   "cell_type": "code",
   "execution_count": 18,
   "metadata": {},
   "outputs": [],
   "source": [
    "df[\"end_market\"] = df[\"market_path\"].apply(lambda s: s.split(\" -> \")[2])"
   ]
  },
  {
   "cell_type": "code",
   "execution_count": 19,
   "metadata": {},
   "outputs": [],
   "source": [
    "df[\"coin\"] = df.coin_path.apply(lambda v: v.split(\" -> \")[0])"
   ]
  },
  {
   "cell_type": "code",
   "execution_count": 20,
   "metadata": {},
   "outputs": [],
   "source": [
    "df[\"coin_2\"] = df.coin_path.apply(lambda v: v.split(\" -> \")[1])"
   ]
  },
  {
   "cell_type": "code",
   "execution_count": 21,
   "metadata": {},
   "outputs": [],
   "source": [
    "df[\"coin_3\"] = df.coin_path.apply(lambda v: v.split(\" -> \")[2])"
   ]
  },
  {
   "cell_type": "code",
   "execution_count": 22,
   "metadata": {},
   "outputs": [],
   "source": [
    "df[\"profit\"] = df.profit.apply(float)\n",
    "df[\"roi\"] = df.roi.apply(float)"
   ]
  },
  {
   "cell_type": "code",
   "execution_count": 23,
   "metadata": {},
   "outputs": [
    {
     "data": {
      "text/html": [
       "<div>\n",
       "<style scoped>\n",
       "    .dataframe tbody tr th:only-of-type {\n",
       "        vertical-align: middle;\n",
       "    }\n",
       "\n",
       "    .dataframe tbody tr th {\n",
       "        vertical-align: top;\n",
       "    }\n",
       "\n",
       "    .dataframe thead th {\n",
       "        text-align: right;\n",
       "    }\n",
       "</style>\n",
       "<table border=\"1\" class=\"dataframe\">\n",
       "  <thead>\n",
       "    <tr style=\"text-align: right;\">\n",
       "      <th></th>\n",
       "      <th>roi</th>\n",
       "      <th>profit</th>\n",
       "      <th>market_path</th>\n",
       "      <th>market</th>\n",
       "      <th>coin_path</th>\n",
       "      <th>timems</th>\n",
       "      <th>end_market</th>\n",
       "      <th>coin</th>\n",
       "      <th>coin_2</th>\n",
       "      <th>coin_3</th>\n",
       "    </tr>\n",
       "  </thead>\n",
       "  <tbody>\n",
       "    <tr>\n",
       "      <th>0</th>\n",
       "      <td>0.000426</td>\n",
       "      <td>0.086666</td>\n",
       "      <td>ANT/BUSD -&gt; ANT/USDT -&gt; BUSD/USDT</td>\n",
       "      <td>ANT/BUSD</td>\n",
       "      <td>BUSD -&gt; ANT -&gt; USDT -&gt; BUSD</td>\n",
       "      <td>1620771914072</td>\n",
       "      <td>BUSD/USDT</td>\n",
       "      <td>BUSD</td>\n",
       "      <td>ANT</td>\n",
       "      <td>USDT</td>\n",
       "    </tr>\n",
       "    <tr>\n",
       "      <th>1</th>\n",
       "      <td>0.000357</td>\n",
       "      <td>0.000947</td>\n",
       "      <td>AUCTION/BUSD -&gt; BTC/BUSD -&gt; AUCTION/BTC</td>\n",
       "      <td>AUCTION/BUSD</td>\n",
       "      <td>AUCTION -&gt; BUSD -&gt; BTC -&gt; AUCTION</td>\n",
       "      <td>1620702298231</td>\n",
       "      <td>AUCTION/BTC</td>\n",
       "      <td>AUCTION</td>\n",
       "      <td>BUSD</td>\n",
       "      <td>BTC</td>\n",
       "    </tr>\n",
       "    <tr>\n",
       "      <th>2</th>\n",
       "      <td>0.001757</td>\n",
       "      <td>1.416367</td>\n",
       "      <td>EPS/BTC -&gt; BTC/USDT -&gt; EPS/USDT</td>\n",
       "      <td>EPS/BTC</td>\n",
       "      <td>EPS -&gt; BTC -&gt; USDT -&gt; EPS</td>\n",
       "      <td>1620561473483</td>\n",
       "      <td>EPS/USDT</td>\n",
       "      <td>EPS</td>\n",
       "      <td>BTC</td>\n",
       "      <td>USDT</td>\n",
       "    </tr>\n",
       "    <tr>\n",
       "      <th>3</th>\n",
       "      <td>0.002335</td>\n",
       "      <td>1.705195</td>\n",
       "      <td>HOT/BUSD -&gt; BNB/BUSD -&gt; HOT/BNB</td>\n",
       "      <td>HOT/BUSD</td>\n",
       "      <td>HOT -&gt; BUSD -&gt; BNB -&gt; HOT</td>\n",
       "      <td>1620644621758</td>\n",
       "      <td>HOT/BNB</td>\n",
       "      <td>HOT</td>\n",
       "      <td>BUSD</td>\n",
       "      <td>BNB</td>\n",
       "    </tr>\n",
       "    <tr>\n",
       "      <th>4</th>\n",
       "      <td>0.009235</td>\n",
       "      <td>24.120210</td>\n",
       "      <td>HOT/BUSD -&gt; BUSD/TRY -&gt; HOT/TRY</td>\n",
       "      <td>HOT/BUSD</td>\n",
       "      <td>HOT -&gt; BUSD -&gt; TRY -&gt; HOT</td>\n",
       "      <td>1620644622511</td>\n",
       "      <td>HOT/TRY</td>\n",
       "      <td>HOT</td>\n",
       "      <td>BUSD</td>\n",
       "      <td>TRY</td>\n",
       "    </tr>\n",
       "    <tr>\n",
       "      <th>...</th>\n",
       "      <td>...</td>\n",
       "      <td>...</td>\n",
       "      <td>...</td>\n",
       "      <td>...</td>\n",
       "      <td>...</td>\n",
       "      <td>...</td>\n",
       "      <td>...</td>\n",
       "      <td>...</td>\n",
       "      <td>...</td>\n",
       "      <td>...</td>\n",
       "    </tr>\n",
       "    <tr>\n",
       "      <th>4005</th>\n",
       "      <td>0.005155</td>\n",
       "      <td>0.101908</td>\n",
       "      <td>BUSD/TRY -&gt; HOT/TRY -&gt; HOT/BUSD</td>\n",
       "      <td>BUSD/TRY</td>\n",
       "      <td>BUSD -&gt; TRY -&gt; HOT -&gt; BUSD</td>\n",
       "      <td>1620644624650</td>\n",
       "      <td>HOT/BUSD</td>\n",
       "      <td>BUSD</td>\n",
       "      <td>TRY</td>\n",
       "      <td>HOT</td>\n",
       "    </tr>\n",
       "    <tr>\n",
       "      <th>4006</th>\n",
       "      <td>0.004173</td>\n",
       "      <td>3.028284</td>\n",
       "      <td>BUSD/TRY -&gt; ETH/TRY -&gt; ETH/BUSD</td>\n",
       "      <td>BUSD/TRY</td>\n",
       "      <td>BUSD -&gt; TRY -&gt; ETH -&gt; BUSD</td>\n",
       "      <td>1620677129160</td>\n",
       "      <td>ETH/BUSD</td>\n",
       "      <td>BUSD</td>\n",
       "      <td>TRY</td>\n",
       "      <td>ETH</td>\n",
       "    </tr>\n",
       "    <tr>\n",
       "      <th>4007</th>\n",
       "      <td>0.001085</td>\n",
       "      <td>0.554424</td>\n",
       "      <td>BUSD/TRY -&gt; ONT/TRY -&gt; ONT/BUSD</td>\n",
       "      <td>BUSD/TRY</td>\n",
       "      <td>BUSD -&gt; TRY -&gt; ONT -&gt; BUSD</td>\n",
       "      <td>1620677376493</td>\n",
       "      <td>ONT/BUSD</td>\n",
       "      <td>BUSD</td>\n",
       "      <td>TRY</td>\n",
       "      <td>ONT</td>\n",
       "    </tr>\n",
       "    <tr>\n",
       "      <th>4008</th>\n",
       "      <td>0.001389</td>\n",
       "      <td>0.633680</td>\n",
       "      <td>BUSD/TRY -&gt; ONT/TRY -&gt; ONT/BUSD</td>\n",
       "      <td>BUSD/TRY</td>\n",
       "      <td>BUSD -&gt; TRY -&gt; ONT -&gt; BUSD</td>\n",
       "      <td>1620677442408</td>\n",
       "      <td>ONT/BUSD</td>\n",
       "      <td>BUSD</td>\n",
       "      <td>TRY</td>\n",
       "      <td>ONT</td>\n",
       "    </tr>\n",
       "    <tr>\n",
       "      <th>4009</th>\n",
       "      <td>0.000304</td>\n",
       "      <td>0.060102</td>\n",
       "      <td>BUSD/TRY -&gt; ONT/TRY -&gt; ONT/BUSD</td>\n",
       "      <td>BUSD/TRY</td>\n",
       "      <td>BUSD -&gt; TRY -&gt; ONT -&gt; BUSD</td>\n",
       "      <td>1620677443735</td>\n",
       "      <td>ONT/BUSD</td>\n",
       "      <td>BUSD</td>\n",
       "      <td>TRY</td>\n",
       "      <td>ONT</td>\n",
       "    </tr>\n",
       "  </tbody>\n",
       "</table>\n",
       "<p>4010 rows × 10 columns</p>\n",
       "</div>"
      ],
      "text/plain": [
       "           roi     profit                              market_path  \\\n",
       "0     0.000426   0.086666        ANT/BUSD -> ANT/USDT -> BUSD/USDT   \n",
       "1     0.000357   0.000947  AUCTION/BUSD -> BTC/BUSD -> AUCTION/BTC   \n",
       "2     0.001757   1.416367          EPS/BTC -> BTC/USDT -> EPS/USDT   \n",
       "3     0.002335   1.705195          HOT/BUSD -> BNB/BUSD -> HOT/BNB   \n",
       "4     0.009235  24.120210          HOT/BUSD -> BUSD/TRY -> HOT/TRY   \n",
       "...        ...        ...                                      ...   \n",
       "4005  0.005155   0.101908          BUSD/TRY -> HOT/TRY -> HOT/BUSD   \n",
       "4006  0.004173   3.028284          BUSD/TRY -> ETH/TRY -> ETH/BUSD   \n",
       "4007  0.001085   0.554424          BUSD/TRY -> ONT/TRY -> ONT/BUSD   \n",
       "4008  0.001389   0.633680          BUSD/TRY -> ONT/TRY -> ONT/BUSD   \n",
       "4009  0.000304   0.060102          BUSD/TRY -> ONT/TRY -> ONT/BUSD   \n",
       "\n",
       "            market                          coin_path         timems  \\\n",
       "0         ANT/BUSD        BUSD -> ANT -> USDT -> BUSD  1620771914072   \n",
       "1     AUCTION/BUSD  AUCTION -> BUSD -> BTC -> AUCTION  1620702298231   \n",
       "2          EPS/BTC          EPS -> BTC -> USDT -> EPS  1620561473483   \n",
       "3         HOT/BUSD          HOT -> BUSD -> BNB -> HOT  1620644621758   \n",
       "4         HOT/BUSD          HOT -> BUSD -> TRY -> HOT  1620644622511   \n",
       "...            ...                                ...            ...   \n",
       "4005      BUSD/TRY         BUSD -> TRY -> HOT -> BUSD  1620644624650   \n",
       "4006      BUSD/TRY         BUSD -> TRY -> ETH -> BUSD  1620677129160   \n",
       "4007      BUSD/TRY         BUSD -> TRY -> ONT -> BUSD  1620677376493   \n",
       "4008      BUSD/TRY         BUSD -> TRY -> ONT -> BUSD  1620677442408   \n",
       "4009      BUSD/TRY         BUSD -> TRY -> ONT -> BUSD  1620677443735   \n",
       "\n",
       "       end_market     coin coin_2 coin_3  \n",
       "0       BUSD/USDT     BUSD    ANT   USDT  \n",
       "1     AUCTION/BTC  AUCTION   BUSD    BTC  \n",
       "2        EPS/USDT      EPS    BTC   USDT  \n",
       "3         HOT/BNB      HOT   BUSD    BNB  \n",
       "4         HOT/TRY      HOT   BUSD    TRY  \n",
       "...           ...      ...    ...    ...  \n",
       "4005     HOT/BUSD     BUSD    TRY    HOT  \n",
       "4006     ETH/BUSD     BUSD    TRY    ETH  \n",
       "4007     ONT/BUSD     BUSD    TRY    ONT  \n",
       "4008     ONT/BUSD     BUSD    TRY    ONT  \n",
       "4009     ONT/BUSD     BUSD    TRY    ONT  \n",
       "\n",
       "[4010 rows x 10 columns]"
      ]
     },
     "execution_count": 23,
     "metadata": {},
     "output_type": "execute_result"
    }
   ],
   "source": [
    "df"
   ]
  },
  {
   "cell_type": "markdown",
   "metadata": {},
   "source": [
    "## Arbitrage windows length"
   ]
  },
  {
   "cell_type": "code",
   "execution_count": 299,
   "metadata": {},
   "outputs": [
    {
     "data": {
      "text/html": [
       "<div>\n",
       "<style scoped>\n",
       "    .dataframe tbody tr th:only-of-type {\n",
       "        vertical-align: middle;\n",
       "    }\n",
       "\n",
       "    .dataframe tbody tr th {\n",
       "        vertical-align: top;\n",
       "    }\n",
       "\n",
       "    .dataframe thead th {\n",
       "        text-align: right;\n",
       "    }\n",
       "</style>\n",
       "<table border=\"1\" class=\"dataframe\">\n",
       "  <thead>\n",
       "    <tr style=\"text-align: right;\">\n",
       "      <th></th>\n",
       "      <th>roi</th>\n",
       "      <th>profit</th>\n",
       "      <th>market_path</th>\n",
       "      <th>market</th>\n",
       "      <th>coin_path</th>\n",
       "      <th>timems</th>\n",
       "      <th>end_market</th>\n",
       "      <th>coin</th>\n",
       "      <th>coin_2</th>\n",
       "      <th>coin_3</th>\n",
       "      <th>price_usd</th>\n",
       "      <th>profit_usd</th>\n",
       "    </tr>\n",
       "  </thead>\n",
       "  <tbody>\n",
       "    <tr>\n",
       "      <th>60</th>\n",
       "      <td>0.018553</td>\n",
       "      <td>0.036806</td>\n",
       "      <td>ETH/USDT -&gt; EUR/USDT -&gt; ETH/EUR</td>\n",
       "      <td>ETH/USDT</td>\n",
       "      <td>ETH -&gt; USDT -&gt; EUR -&gt; ETH</td>\n",
       "      <td>1620677078304</td>\n",
       "      <td>ETH/EUR</td>\n",
       "      <td>ETH</td>\n",
       "      <td>USDT</td>\n",
       "      <td>EUR</td>\n",
       "      <td>3563.9500</td>\n",
       "      <td>131.174242</td>\n",
       "    </tr>\n",
       "    <tr>\n",
       "      <th>61</th>\n",
       "      <td>0.002335</td>\n",
       "      <td>0.005612</td>\n",
       "      <td>ETH/USDT -&gt; EUR/USDT -&gt; ETH/EUR</td>\n",
       "      <td>ETH/USDT</td>\n",
       "      <td>ETH -&gt; USDT -&gt; EUR -&gt; ETH</td>\n",
       "      <td>1620677092755</td>\n",
       "      <td>ETH/EUR</td>\n",
       "      <td>ETH</td>\n",
       "      <td>USDT</td>\n",
       "      <td>EUR</td>\n",
       "      <td>3563.9500</td>\n",
       "      <td>20.001865</td>\n",
       "    </tr>\n",
       "    <tr>\n",
       "      <th>368</th>\n",
       "      <td>0.019440</td>\n",
       "      <td>11.064170</td>\n",
       "      <td>EUR/BUSD -&gt; ETH/EUR -&gt; ETH/BUSD</td>\n",
       "      <td>EUR/BUSD</td>\n",
       "      <td>BUSD -&gt; EUR -&gt; ETH -&gt; BUSD</td>\n",
       "      <td>1620677078460</td>\n",
       "      <td>ETH/BUSD</td>\n",
       "      <td>BUSD</td>\n",
       "      <td>EUR</td>\n",
       "      <td>ETH</td>\n",
       "      <td>1.0000</td>\n",
       "      <td>11.064170</td>\n",
       "    </tr>\n",
       "    <tr>\n",
       "      <th>369</th>\n",
       "      <td>0.000897</td>\n",
       "      <td>0.335476</td>\n",
       "      <td>EUR/BUSD -&gt; ETH/EUR -&gt; ETH/BUSD</td>\n",
       "      <td>EUR/BUSD</td>\n",
       "      <td>BUSD -&gt; EUR -&gt; ETH -&gt; BUSD</td>\n",
       "      <td>1620677092905</td>\n",
       "      <td>ETH/BUSD</td>\n",
       "      <td>BUSD</td>\n",
       "      <td>EUR</td>\n",
       "      <td>ETH</td>\n",
       "      <td>1.0000</td>\n",
       "      <td>0.335476</td>\n",
       "    </tr>\n",
       "    <tr>\n",
       "      <th>403</th>\n",
       "      <td>0.018553</td>\n",
       "      <td>111.150015</td>\n",
       "      <td>ETH/EUR -&gt; ETH/USDT -&gt; EUR/USDT</td>\n",
       "      <td>ETH/EUR</td>\n",
       "      <td>EUR -&gt; ETH -&gt; USDT -&gt; EUR</td>\n",
       "      <td>1620677078494</td>\n",
       "      <td>EUR/USDT</td>\n",
       "      <td>EUR</td>\n",
       "      <td>ETH</td>\n",
       "      <td>USDT</td>\n",
       "      <td>1.2098</td>\n",
       "      <td>134.469288</td>\n",
       "    </tr>\n",
       "    <tr>\n",
       "      <th>405</th>\n",
       "      <td>0.000897</td>\n",
       "      <td>0.274921</td>\n",
       "      <td>ETH/EUR -&gt; ETH/BUSD -&gt; EUR/BUSD</td>\n",
       "      <td>ETH/EUR</td>\n",
       "      <td>EUR -&gt; ETH -&gt; BUSD -&gt; EUR</td>\n",
       "      <td>1620677092918</td>\n",
       "      <td>EUR/BUSD</td>\n",
       "      <td>EUR</td>\n",
       "      <td>ETH</td>\n",
       "      <td>BUSD</td>\n",
       "      <td>1.2098</td>\n",
       "      <td>0.332599</td>\n",
       "    </tr>\n",
       "    <tr>\n",
       "      <th>1033</th>\n",
       "      <td>0.020451</td>\n",
       "      <td>0.000013</td>\n",
       "      <td>BTC/EUR -&gt; ETH/EUR -&gt; ETH/BTC</td>\n",
       "      <td>BTC/EUR</td>\n",
       "      <td>BTC -&gt; EUR -&gt; ETH -&gt; BTC</td>\n",
       "      <td>1620677078345</td>\n",
       "      <td>ETH/BTC</td>\n",
       "      <td>BTC</td>\n",
       "      <td>EUR</td>\n",
       "      <td>ETH</td>\n",
       "      <td>58900.0000</td>\n",
       "      <td>0.795025</td>\n",
       "    </tr>\n",
       "    <tr>\n",
       "      <th>1034</th>\n",
       "      <td>0.003149</td>\n",
       "      <td>0.000033</td>\n",
       "      <td>BTC/EUR -&gt; ETH/EUR -&gt; ETH/BTC</td>\n",
       "      <td>BTC/EUR</td>\n",
       "      <td>BTC -&gt; EUR -&gt; ETH -&gt; BTC</td>\n",
       "      <td>1620677092785</td>\n",
       "      <td>ETH/BTC</td>\n",
       "      <td>BTC</td>\n",
       "      <td>EUR</td>\n",
       "      <td>ETH</td>\n",
       "      <td>58900.0000</td>\n",
       "      <td>1.949637</td>\n",
       "    </tr>\n",
       "    <tr>\n",
       "      <th>1736</th>\n",
       "      <td>0.018553</td>\n",
       "      <td>135.286351</td>\n",
       "      <td>EUR/USDT -&gt; ETH/EUR -&gt; ETH/USDT</td>\n",
       "      <td>EUR/USDT</td>\n",
       "      <td>USDT -&gt; EUR -&gt; ETH -&gt; USDT</td>\n",
       "      <td>1620677078379</td>\n",
       "      <td>ETH/USDT</td>\n",
       "      <td>USDT</td>\n",
       "      <td>EUR</td>\n",
       "      <td>ETH</td>\n",
       "      <td>1.0000</td>\n",
       "      <td>135.286351</td>\n",
       "    </tr>\n",
       "    <tr>\n",
       "      <th>1737</th>\n",
       "      <td>0.002335</td>\n",
       "      <td>20.953213</td>\n",
       "      <td>EUR/USDT -&gt; ETH/EUR -&gt; ETH/USDT</td>\n",
       "      <td>EUR/USDT</td>\n",
       "      <td>USDT -&gt; EUR -&gt; ETH -&gt; USDT</td>\n",
       "      <td>1620677092850</td>\n",
       "      <td>ETH/USDT</td>\n",
       "      <td>USDT</td>\n",
       "      <td>EUR</td>\n",
       "      <td>ETH</td>\n",
       "      <td>1.0000</td>\n",
       "      <td>20.953213</td>\n",
       "    </tr>\n",
       "    <tr>\n",
       "      <th>2424</th>\n",
       "      <td>0.019440</td>\n",
       "      <td>0.002947</td>\n",
       "      <td>ETH/BUSD -&gt; EUR/BUSD -&gt; ETH/EUR</td>\n",
       "      <td>ETH/BUSD</td>\n",
       "      <td>ETH -&gt; BUSD -&gt; EUR -&gt; ETH</td>\n",
       "      <td>1620677078318</td>\n",
       "      <td>ETH/EUR</td>\n",
       "      <td>ETH</td>\n",
       "      <td>BUSD</td>\n",
       "      <td>EUR</td>\n",
       "      <td>3563.9500</td>\n",
       "      <td>10.504504</td>\n",
       "    </tr>\n",
       "    <tr>\n",
       "      <th>2426</th>\n",
       "      <td>0.000897</td>\n",
       "      <td>0.000090</td>\n",
       "      <td>ETH/BUSD -&gt; EUR/BUSD -&gt; ETH/EUR</td>\n",
       "      <td>ETH/BUSD</td>\n",
       "      <td>ETH -&gt; BUSD -&gt; EUR -&gt; ETH</td>\n",
       "      <td>1620677092763</td>\n",
       "      <td>ETH/EUR</td>\n",
       "      <td>ETH</td>\n",
       "      <td>BUSD</td>\n",
       "      <td>EUR</td>\n",
       "      <td>3563.9500</td>\n",
       "      <td>0.319533</td>\n",
       "    </tr>\n",
       "    <tr>\n",
       "      <th>3659</th>\n",
       "      <td>0.020451</td>\n",
       "      <td>0.000197</td>\n",
       "      <td>ETH/BTC -&gt; BTC/EUR -&gt; ETH/EUR</td>\n",
       "      <td>ETH/BTC</td>\n",
       "      <td>ETH -&gt; BTC -&gt; EUR -&gt; ETH</td>\n",
       "      <td>1620677078303</td>\n",
       "      <td>ETH/EUR</td>\n",
       "      <td>ETH</td>\n",
       "      <td>BTC</td>\n",
       "      <td>EUR</td>\n",
       "      <td>3563.9500</td>\n",
       "      <td>0.702781</td>\n",
       "    </tr>\n",
       "    <tr>\n",
       "      <th>3660</th>\n",
       "      <td>0.003149</td>\n",
       "      <td>0.000484</td>\n",
       "      <td>ETH/BTC -&gt; BTC/EUR -&gt; ETH/EUR</td>\n",
       "      <td>ETH/BTC</td>\n",
       "      <td>ETH -&gt; BTC -&gt; EUR -&gt; ETH</td>\n",
       "      <td>1620677092753</td>\n",
       "      <td>ETH/EUR</td>\n",
       "      <td>ETH</td>\n",
       "      <td>BTC</td>\n",
       "      <td>EUR</td>\n",
       "      <td>3563.9500</td>\n",
       "      <td>1.725198</td>\n",
       "    </tr>\n",
       "  </tbody>\n",
       "</table>\n",
       "</div>"
      ],
      "text/plain": [
       "           roi      profit                      market_path    market  \\\n",
       "60    0.018553    0.036806  ETH/USDT -> EUR/USDT -> ETH/EUR  ETH/USDT   \n",
       "61    0.002335    0.005612  ETH/USDT -> EUR/USDT -> ETH/EUR  ETH/USDT   \n",
       "368   0.019440   11.064170  EUR/BUSD -> ETH/EUR -> ETH/BUSD  EUR/BUSD   \n",
       "369   0.000897    0.335476  EUR/BUSD -> ETH/EUR -> ETH/BUSD  EUR/BUSD   \n",
       "403   0.018553  111.150015  ETH/EUR -> ETH/USDT -> EUR/USDT   ETH/EUR   \n",
       "405   0.000897    0.274921  ETH/EUR -> ETH/BUSD -> EUR/BUSD   ETH/EUR   \n",
       "1033  0.020451    0.000013    BTC/EUR -> ETH/EUR -> ETH/BTC   BTC/EUR   \n",
       "1034  0.003149    0.000033    BTC/EUR -> ETH/EUR -> ETH/BTC   BTC/EUR   \n",
       "1736  0.018553  135.286351  EUR/USDT -> ETH/EUR -> ETH/USDT  EUR/USDT   \n",
       "1737  0.002335   20.953213  EUR/USDT -> ETH/EUR -> ETH/USDT  EUR/USDT   \n",
       "2424  0.019440    0.002947  ETH/BUSD -> EUR/BUSD -> ETH/EUR  ETH/BUSD   \n",
       "2426  0.000897    0.000090  ETH/BUSD -> EUR/BUSD -> ETH/EUR  ETH/BUSD   \n",
       "3659  0.020451    0.000197    ETH/BTC -> BTC/EUR -> ETH/EUR   ETH/BTC   \n",
       "3660  0.003149    0.000484    ETH/BTC -> BTC/EUR -> ETH/EUR   ETH/BTC   \n",
       "\n",
       "                       coin_path         timems end_market  coin coin_2  \\\n",
       "60     ETH -> USDT -> EUR -> ETH  1620677078304    ETH/EUR   ETH   USDT   \n",
       "61     ETH -> USDT -> EUR -> ETH  1620677092755    ETH/EUR   ETH   USDT   \n",
       "368   BUSD -> EUR -> ETH -> BUSD  1620677078460   ETH/BUSD  BUSD    EUR   \n",
       "369   BUSD -> EUR -> ETH -> BUSD  1620677092905   ETH/BUSD  BUSD    EUR   \n",
       "403    EUR -> ETH -> USDT -> EUR  1620677078494   EUR/USDT   EUR    ETH   \n",
       "405    EUR -> ETH -> BUSD -> EUR  1620677092918   EUR/BUSD   EUR    ETH   \n",
       "1033    BTC -> EUR -> ETH -> BTC  1620677078345    ETH/BTC   BTC    EUR   \n",
       "1034    BTC -> EUR -> ETH -> BTC  1620677092785    ETH/BTC   BTC    EUR   \n",
       "1736  USDT -> EUR -> ETH -> USDT  1620677078379   ETH/USDT  USDT    EUR   \n",
       "1737  USDT -> EUR -> ETH -> USDT  1620677092850   ETH/USDT  USDT    EUR   \n",
       "2424   ETH -> BUSD -> EUR -> ETH  1620677078318    ETH/EUR   ETH   BUSD   \n",
       "2426   ETH -> BUSD -> EUR -> ETH  1620677092763    ETH/EUR   ETH   BUSD   \n",
       "3659    ETH -> BTC -> EUR -> ETH  1620677078303    ETH/EUR   ETH    BTC   \n",
       "3660    ETH -> BTC -> EUR -> ETH  1620677092753    ETH/EUR   ETH    BTC   \n",
       "\n",
       "     coin_3   price_usd  profit_usd  \n",
       "60      EUR   3563.9500  131.174242  \n",
       "61      EUR   3563.9500   20.001865  \n",
       "368     ETH      1.0000   11.064170  \n",
       "369     ETH      1.0000    0.335476  \n",
       "403    USDT      1.2098  134.469288  \n",
       "405    BUSD      1.2098    0.332599  \n",
       "1033    ETH  58900.0000    0.795025  \n",
       "1034    ETH  58900.0000    1.949637  \n",
       "1736    ETH      1.0000  135.286351  \n",
       "1737    ETH      1.0000   20.953213  \n",
       "2424    EUR   3563.9500   10.504504  \n",
       "2426    EUR   3563.9500    0.319533  \n",
       "3659    EUR   3563.9500    0.702781  \n",
       "3660    EUR   3563.9500    1.725198  "
      ]
     },
     "execution_count": 299,
     "metadata": {},
     "output_type": "execute_result"
    }
   ],
   "source": [
    "filter_all_3_coins_in(df, [\"BTC\", \"ETH\", \"USDT\", \"BUSD\", \"USDC\", \"EUR\"])"
   ]
  },
  {
   "cell_type": "code",
   "execution_count": 316,
   "metadata": {},
   "outputs": [
    {
     "name": "stdout",
     "output_type": "stream",
     "text": [
      "TTL < 100 ms: 2487 (85.11%)\n"
     ]
    }
   ],
   "source": [
    "arbitrage_ttls = dict()\n",
    "df_counts = df.groupby([\"coin\", \"roi\"]).count().reset_index()\n",
    "# df_counts = filter_all_3_coins_in(df, set_of_top_profit_coins).groupby([\"coin\", \"roi\"]).count().reset_index()\n",
    "# df_counts = filter_all_3_coins_in(df, [\"BTC\", \"ETH\", \"USDT\", \"BUSD\", \"USDC\", \"EUR\"]).groupby([\"coin\", \"roi\"]).count().reset_index()\n",
    "total_grouped_arbitrage_counts = len(df_counts)\n",
    "\n",
    "short_ttl_count = len(df_counts[df_counts.profit == 1])\n",
    "arbitrage_ttls[0] = short_ttl_count\n",
    "print(f\"TTL < 100 ms: {short_ttl_count} ({round(100*short_ttl_count/total_grouped_arbitrage_counts, 2)}%)\")"
   ]
  },
  {
   "cell_type": "code",
   "execution_count": 317,
   "metadata": {
    "scrolled": true
   },
   "outputs": [
    {
     "name": "stdout",
     "output_type": "stream",
     "text": [
      "TTL > 100 ms: 435 (14.89%)\n",
      "TTL > 200 ms: 185 (6.33%)\n",
      "TTL > 300 ms: 119 (4.07%)\n",
      "TTL > 400 ms: 73 (2.5%)\n",
      "TTL > 500 ms: 45 (1.54%)\n",
      "TTL > 600 ms: 39 (1.33%)\n",
      "TTL > 700 ms: 39 (1.33%)\n",
      "TTL > 800 ms: 25 (0.86%)\n",
      "TTL > 900 ms: 25 (0.86%)\n",
      "TTL > 1000 ms: 22 (0.75%)\n",
      "TTL > 1100 ms: 22 (0.75%)\n",
      "TTL > 1200 ms: 13 (0.44%)\n",
      "TTL > 1300 ms: 11 (0.38%)\n",
      "TTL > 1400 ms: 6 (0.21%)\n",
      "TTL > 1500 ms: 6 (0.21%)\n",
      "TTL > 1600 ms: 6 (0.21%)\n",
      "TTL > 1700 ms: 6 (0.21%)\n",
      "TTL > 1800 ms: 3 (0.1%)\n",
      "TTL > 1900 ms: 3 (0.1%)\n",
      "TTL > 2000 ms: 3 (0.1%)\n",
      "TTL > 2100 ms: 2 (0.07%)\n",
      "TTL > 2200 ms: 0 (0.0%)\n",
      "TTL > 2300 ms: 0 (0.0%)\n",
      "TTL > 2400 ms: 0 (0.0%)\n"
     ]
    }
   ],
   "source": [
    "for i in range(1, 25):\n",
    "    long_ttl_count = len(df_counts[df_counts.profit > i])\n",
    "    arbitrage_ttls[100*i] = long_ttl_count\n",
    "    print(f\"TTL > {i}00 ms: {long_ttl_count} ({round(100*long_ttl_count/total_grouped_arbitrage_counts, 2)}%)\")"
   ]
  },
  {
   "cell_type": "markdown",
   "metadata": {},
   "source": [
    "## Convert prices to USD"
   ]
  },
  {
   "cell_type": "markdown",
   "metadata": {},
   "source": [
    "### Obtain prices"
   ]
  },
  {
   "cell_type": "code",
   "execution_count": 29,
   "metadata": {},
   "outputs": [],
   "source": [
    "# load tickers from S3\n",
    "s3 = boto3.client('s3')\n",
    "obj = s3.get_object(Bucket='goodit-patron-atrbitrage', Key='bidasks_20210508.json')\n",
    "df_prices = pd.read_json(obj['Body']).T"
   ]
  },
  {
   "cell_type": "code",
   "execution_count": 30,
   "metadata": {},
   "outputs": [],
   "source": [
    "df_prices_usd = df_prices.query(\"Market.str.contains('USDT') or Market.str.contains('BUSD') or Market.str.contains('USDC')\")"
   ]
  },
  {
   "cell_type": "code",
   "execution_count": 31,
   "metadata": {},
   "outputs": [],
   "source": [
    "def _get_coin_not_usdx(market: str) -> str:\n",
    "    coins = market.split(\"/\")\n",
    "    return coins[0] if \"USD\" in coins[1] else coins[1]"
   ]
  },
  {
   "cell_type": "code",
   "execution_count": 32,
   "metadata": {},
   "outputs": [],
   "source": [
    "def _get_coin_not_usdx_side(market: str) -> str:\n",
    "    coins = market.split(\"/\")\n",
    "    return \"BUY\" if \"USD\" in coins[1] else \"SELL\""
   ]
  },
  {
   "cell_type": "code",
   "execution_count": 33,
   "metadata": {
    "scrolled": true
   },
   "outputs": [
    {
     "name": "stderr",
     "output_type": "stream",
     "text": [
      "/Users/az/.pyenv/versions/3.7.7/lib/python3.7/site-packages/ipykernel_launcher.py:1: SettingWithCopyWarning: \n",
      "A value is trying to be set on a copy of a slice from a DataFrame.\n",
      "Try using .loc[row_indexer,col_indexer] = value instead\n",
      "\n",
      "See the caveats in the documentation: https://pandas.pydata.org/pandas-docs/stable/user_guide/indexing.html#returning-a-view-versus-a-copy\n",
      "  \"\"\"Entry point for launching an IPython kernel.\n"
     ]
    }
   ],
   "source": [
    "df_prices_usd[\"coin\"] = df_prices_usd[\"Market\"].apply(_get_coin_not_usdx)"
   ]
  },
  {
   "cell_type": "code",
   "execution_count": 34,
   "metadata": {
    "scrolled": false
   },
   "outputs": [
    {
     "name": "stderr",
     "output_type": "stream",
     "text": [
      "/Users/az/.pyenv/versions/3.7.7/lib/python3.7/site-packages/ipykernel_launcher.py:1: SettingWithCopyWarning: \n",
      "A value is trying to be set on a copy of a slice from a DataFrame.\n",
      "Try using .loc[row_indexer,col_indexer] = value instead\n",
      "\n",
      "See the caveats in the documentation: https://pandas.pydata.org/pandas-docs/stable/user_guide/indexing.html#returning-a-view-versus-a-copy\n",
      "  \"\"\"Entry point for launching an IPython kernel.\n"
     ]
    }
   ],
   "source": [
    "df_prices_usd[\"side\"] = df_prices_usd[\"Market\"].apply(_get_coin_not_usdx_side)"
   ]
  },
  {
   "cell_type": "code",
   "execution_count": 35,
   "metadata": {},
   "outputs": [],
   "source": [
    "def _get_price_in_usd(coin: str) -> float:\n",
    "    if \"USD\" in coin:\n",
    "        return 1\n",
    "    row_dicts = df_prices_usd[df_prices_usd.coin == coin].to_dict(orient='records')\n",
    "    if len(row_dicts) == 0:\n",
    "        print(f\"Didn't find for {coin}\")\n",
    "        return 0\n",
    "    row_dict = row_dicts[0]\n",
    "    if row_dict[\"side\"] == \"BUY\":\n",
    "        return float(row_dict[\"BestBid\"])\n",
    "    else:\n",
    "        return 1 / float(row_dict[\"BestAsk\"])"
   ]
  },
  {
   "cell_type": "markdown",
   "metadata": {},
   "source": [
    "### Apply USD prices"
   ]
  },
  {
   "cell_type": "code",
   "execution_count": 36,
   "metadata": {},
   "outputs": [
    {
     "name": "stdout",
     "output_type": "stream",
     "text": [
      "Didn't find for NAS\n",
      "Didn't find for NAS\n",
      "Didn't find for NAS\n",
      "Didn't find for NAS\n",
      "Didn't find for NAS\n",
      "Didn't find for NAS\n",
      "Didn't find for QLC\n",
      "Didn't find for QLC\n",
      "Didn't find for QLC\n",
      "Didn't find for QLC\n",
      "Didn't find for QLC\n",
      "Didn't find for QLC\n",
      "Didn't find for QLC\n",
      "Didn't find for QLC\n",
      "Didn't find for QLC\n",
      "Didn't find for QLC\n",
      "Didn't find for QLC\n",
      "Didn't find for ELF\n",
      "Didn't find for ELF\n",
      "Didn't find for ELF\n",
      "Didn't find for QSP\n",
      "Didn't find for QSP\n",
      "Didn't find for QSP\n",
      "Didn't find for QSP\n",
      "Didn't find for QSP\n",
      "Didn't find for QSP\n",
      "Didn't find for QSP\n",
      "Didn't find for QSP\n"
     ]
    }
   ],
   "source": [
    "df[\"price_usd\"] = df.coin.apply(_get_price_in_usd)"
   ]
  },
  {
   "cell_type": "code",
   "execution_count": 37,
   "metadata": {},
   "outputs": [],
   "source": [
    "df[\"profit_usd\"] = df.profit * df.price_usd"
   ]
  },
  {
   "cell_type": "markdown",
   "metadata": {},
   "source": [
    "## Total Profit"
   ]
  },
  {
   "cell_type": "code",
   "execution_count": 38,
   "metadata": {},
   "outputs": [],
   "source": [
    "df_by_coin = df[[\"profit\", \"profit_usd\", \"coin\"]].groupby(\"coin\").sum()"
   ]
  },
  {
   "cell_type": "code",
   "execution_count": 39,
   "metadata": {},
   "outputs": [],
   "source": [
    "# Averages\n",
    "df_avg_by_coin = df.groupby(\"coin\").mean()"
   ]
  },
  {
   "cell_type": "code",
   "execution_count": 40,
   "metadata": {},
   "outputs": [],
   "source": [
    "# Artbitrage number per coin\n",
    "df_counts_by_coin = df[[\"market\", \"coin\"]].groupby(\"coin\").count().rename(columns={\"market\": \"arbitrage_count\"})"
   ]
  },
  {
   "cell_type": "code",
   "execution_count": 41,
   "metadata": {},
   "outputs": [],
   "source": [
    "# Arbitrage living time\n",
    "# df_ttl_by_coin = df[[\"coin\", \"times\"]].groupby(\"coin\")"
   ]
  },
  {
   "cell_type": "code",
   "execution_count": 42,
   "metadata": {},
   "outputs": [],
   "source": [
    "df_by_coin = df_by_coin.merge(df_avg_by_coin, how=\"inner\", on=\"coin\", suffixes=[\"_total\", \"_avg\"])"
   ]
  },
  {
   "cell_type": "code",
   "execution_count": 43,
   "metadata": {},
   "outputs": [],
   "source": [
    "df_by_coin = df_by_coin.merge(df_counts_by_coin, how=\"inner\", on=\"coin\").reset_index()"
   ]
  },
  {
   "cell_type": "code",
   "execution_count": 44,
   "metadata": {},
   "outputs": [
    {
     "data": {
      "text/html": [
       "<div>\n",
       "<style scoped>\n",
       "    .dataframe tbody tr th:only-of-type {\n",
       "        vertical-align: middle;\n",
       "    }\n",
       "\n",
       "    .dataframe tbody tr th {\n",
       "        vertical-align: top;\n",
       "    }\n",
       "\n",
       "    .dataframe thead th {\n",
       "        text-align: right;\n",
       "    }\n",
       "</style>\n",
       "<table border=\"1\" class=\"dataframe\">\n",
       "  <thead>\n",
       "    <tr style=\"text-align: right;\">\n",
       "      <th></th>\n",
       "      <th>coin</th>\n",
       "      <th>profit_total</th>\n",
       "      <th>profit_usd_total</th>\n",
       "      <th>roi</th>\n",
       "      <th>profit_avg</th>\n",
       "      <th>price_usd</th>\n",
       "      <th>profit_usd_avg</th>\n",
       "      <th>arbitrage_count</th>\n",
       "    </tr>\n",
       "  </thead>\n",
       "  <tbody>\n",
       "    <tr>\n",
       "      <th>0</th>\n",
       "      <td>1INCH</td>\n",
       "      <td>3.639619</td>\n",
       "      <td>26.325364</td>\n",
       "      <td>0.002571</td>\n",
       "      <td>0.202201</td>\n",
       "      <td>7.2330</td>\n",
       "      <td>1.462520</td>\n",
       "      <td>18</td>\n",
       "    </tr>\n",
       "    <tr>\n",
       "      <th>1</th>\n",
       "      <td>ACM</td>\n",
       "      <td>0.004385</td>\n",
       "      <td>0.045784</td>\n",
       "      <td>0.001861</td>\n",
       "      <td>0.002192</td>\n",
       "      <td>10.4420</td>\n",
       "      <td>0.022892</td>\n",
       "      <td>2</td>\n",
       "    </tr>\n",
       "    <tr>\n",
       "      <th>2</th>\n",
       "      <td>ADA</td>\n",
       "      <td>162.867913</td>\n",
       "      <td>260.718955</td>\n",
       "      <td>0.007616</td>\n",
       "      <td>2.544811</td>\n",
       "      <td>1.6008</td>\n",
       "      <td>4.073734</td>\n",
       "      <td>64</td>\n",
       "    </tr>\n",
       "    <tr>\n",
       "      <th>3</th>\n",
       "      <td>ALGO</td>\n",
       "      <td>12.776478</td>\n",
       "      <td>19.622115</td>\n",
       "      <td>0.001466</td>\n",
       "      <td>0.456303</td>\n",
       "      <td>1.5358</td>\n",
       "      <td>0.700790</td>\n",
       "      <td>28</td>\n",
       "    </tr>\n",
       "    <tr>\n",
       "      <th>4</th>\n",
       "      <td>ANT</td>\n",
       "      <td>0.008686</td>\n",
       "      <td>0.091495</td>\n",
       "      <td>0.000426</td>\n",
       "      <td>0.008686</td>\n",
       "      <td>10.5335</td>\n",
       "      <td>0.091495</td>\n",
       "      <td>1</td>\n",
       "    </tr>\n",
       "  </tbody>\n",
       "</table>\n",
       "</div>"
      ],
      "text/plain": [
       "    coin  profit_total  profit_usd_total       roi  profit_avg  price_usd  \\\n",
       "0  1INCH      3.639619         26.325364  0.002571    0.202201     7.2330   \n",
       "1    ACM      0.004385          0.045784  0.001861    0.002192    10.4420   \n",
       "2    ADA    162.867913        260.718955  0.007616    2.544811     1.6008   \n",
       "3   ALGO     12.776478         19.622115  0.001466    0.456303     1.5358   \n",
       "4    ANT      0.008686          0.091495  0.000426    0.008686    10.5335   \n",
       "\n",
       "   profit_usd_avg  arbitrage_count  \n",
       "0        1.462520               18  \n",
       "1        0.022892                2  \n",
       "2        4.073734               64  \n",
       "3        0.700790               28  \n",
       "4        0.091495                1  "
      ]
     },
     "execution_count": 44,
     "metadata": {},
     "output_type": "execute_result"
    }
   ],
   "source": [
    "df_by_coin.head()"
   ]
  },
  {
   "cell_type": "code",
   "execution_count": 45,
   "metadata": {},
   "outputs": [
    {
     "data": {
      "text/html": [
       "<div>\n",
       "<style scoped>\n",
       "    .dataframe tbody tr th:only-of-type {\n",
       "        vertical-align: middle;\n",
       "    }\n",
       "\n",
       "    .dataframe tbody tr th {\n",
       "        vertical-align: top;\n",
       "    }\n",
       "\n",
       "    .dataframe thead th {\n",
       "        text-align: right;\n",
       "    }\n",
       "</style>\n",
       "<table border=\"1\" class=\"dataframe\">\n",
       "  <thead>\n",
       "    <tr style=\"text-align: right;\">\n",
       "      <th></th>\n",
       "      <th>coin</th>\n",
       "      <th>profit_total</th>\n",
       "      <th>profit_usd_total</th>\n",
       "      <th>roi</th>\n",
       "      <th>profit_avg</th>\n",
       "      <th>price_usd</th>\n",
       "      <th>profit_usd_avg</th>\n",
       "      <th>arbitrage_count</th>\n",
       "    </tr>\n",
       "  </thead>\n",
       "  <tbody>\n",
       "    <tr>\n",
       "      <th>0</th>\n",
       "      <td>1INCH</td>\n",
       "      <td>3.639619</td>\n",
       "      <td>26.325364</td>\n",
       "      <td>0.002571</td>\n",
       "      <td>0.202201</td>\n",
       "      <td>7.2330</td>\n",
       "      <td>1.462520</td>\n",
       "      <td>18</td>\n",
       "    </tr>\n",
       "    <tr>\n",
       "      <th>1</th>\n",
       "      <td>ACM</td>\n",
       "      <td>0.004385</td>\n",
       "      <td>0.045784</td>\n",
       "      <td>0.001861</td>\n",
       "      <td>0.002192</td>\n",
       "      <td>10.4420</td>\n",
       "      <td>0.022892</td>\n",
       "      <td>2</td>\n",
       "    </tr>\n",
       "    <tr>\n",
       "      <th>2</th>\n",
       "      <td>ADA</td>\n",
       "      <td>162.867913</td>\n",
       "      <td>260.718955</td>\n",
       "      <td>0.007616</td>\n",
       "      <td>2.544811</td>\n",
       "      <td>1.6008</td>\n",
       "      <td>4.073734</td>\n",
       "      <td>64</td>\n",
       "    </tr>\n",
       "    <tr>\n",
       "      <th>3</th>\n",
       "      <td>ALGO</td>\n",
       "      <td>12.776478</td>\n",
       "      <td>19.622115</td>\n",
       "      <td>0.001466</td>\n",
       "      <td>0.456303</td>\n",
       "      <td>1.5358</td>\n",
       "      <td>0.700790</td>\n",
       "      <td>28</td>\n",
       "    </tr>\n",
       "    <tr>\n",
       "      <th>4</th>\n",
       "      <td>ANT</td>\n",
       "      <td>0.008686</td>\n",
       "      <td>0.091495</td>\n",
       "      <td>0.000426</td>\n",
       "      <td>0.008686</td>\n",
       "      <td>10.5335</td>\n",
       "      <td>0.091495</td>\n",
       "      <td>1</td>\n",
       "    </tr>\n",
       "  </tbody>\n",
       "</table>\n",
       "</div>"
      ],
      "text/plain": [
       "    coin  profit_total  profit_usd_total       roi  profit_avg  price_usd  \\\n",
       "0  1INCH      3.639619         26.325364  0.002571    0.202201     7.2330   \n",
       "1    ACM      0.004385          0.045784  0.001861    0.002192    10.4420   \n",
       "2    ADA    162.867913        260.718955  0.007616    2.544811     1.6008   \n",
       "3   ALGO     12.776478         19.622115  0.001466    0.456303     1.5358   \n",
       "4    ANT      0.008686          0.091495  0.000426    0.008686    10.5335   \n",
       "\n",
       "   profit_usd_avg  arbitrage_count  \n",
       "0        1.462520               18  \n",
       "1        0.022892                2  \n",
       "2        4.073734               64  \n",
       "3        0.700790               28  \n",
       "4        0.091495                1  "
      ]
     },
     "execution_count": 45,
     "metadata": {},
     "output_type": "execute_result"
    }
   ],
   "source": [
    "df_by_coin.head()"
   ]
  },
  {
   "cell_type": "code",
   "execution_count": 150,
   "metadata": {},
   "outputs": [
    {
     "data": {
      "text/html": [
       "<div>\n",
       "<style scoped>\n",
       "    .dataframe tbody tr th:only-of-type {\n",
       "        vertical-align: middle;\n",
       "    }\n",
       "\n",
       "    .dataframe tbody tr th {\n",
       "        vertical-align: top;\n",
       "    }\n",
       "\n",
       "    .dataframe thead th {\n",
       "        text-align: right;\n",
       "    }\n",
       "</style>\n",
       "<table border=\"1\" class=\"dataframe\">\n",
       "  <thead>\n",
       "    <tr style=\"text-align: right;\">\n",
       "      <th></th>\n",
       "      <th>coin</th>\n",
       "      <th>profit_total</th>\n",
       "      <th>profit_usd_total</th>\n",
       "      <th>roi</th>\n",
       "      <th>profit_avg</th>\n",
       "      <th>price_usd</th>\n",
       "      <th>profit_usd_avg</th>\n",
       "      <th>arbitrage_count</th>\n",
       "    </tr>\n",
       "  </thead>\n",
       "  <tbody>\n",
       "    <tr>\n",
       "      <th>27</th>\n",
       "      <td>DOGE</td>\n",
       "      <td>8855.698186</td>\n",
       "      <td>6379.467859</td>\n",
       "      <td>0.008779</td>\n",
       "      <td>17.854230</td>\n",
       "      <td>0.720380</td>\n",
       "      <td>12.861830</td>\n",
       "      <td>496</td>\n",
       "    </tr>\n",
       "    <tr>\n",
       "      <th>83</th>\n",
       "      <td>USDT</td>\n",
       "      <td>5096.575253</td>\n",
       "      <td>5096.575253</td>\n",
       "      <td>0.008908</td>\n",
       "      <td>8.609080</td>\n",
       "      <td>1.000000</td>\n",
       "      <td>8.609080</td>\n",
       "      <td>592</td>\n",
       "    </tr>\n",
       "    <tr>\n",
       "      <th>18</th>\n",
       "      <td>BTC</td>\n",
       "      <td>0.048768</td>\n",
       "      <td>2872.448410</td>\n",
       "      <td>0.008724</td>\n",
       "      <td>0.000101</td>\n",
       "      <td>58900.000000</td>\n",
       "      <td>5.971826</td>\n",
       "      <td>481</td>\n",
       "    </tr>\n",
       "    <tr>\n",
       "      <th>19</th>\n",
       "      <td>BUSD</td>\n",
       "      <td>1778.408335</td>\n",
       "      <td>1778.408335</td>\n",
       "      <td>0.008574</td>\n",
       "      <td>3.978542</td>\n",
       "      <td>1.000000</td>\n",
       "      <td>3.978542</td>\n",
       "      <td>447</td>\n",
       "    </tr>\n",
       "    <tr>\n",
       "      <th>34</th>\n",
       "      <td>EUR</td>\n",
       "      <td>1333.245801</td>\n",
       "      <td>1612.960771</td>\n",
       "      <td>0.010261</td>\n",
       "      <td>9.323397</td>\n",
       "      <td>1.209800</td>\n",
       "      <td>11.279446</td>\n",
       "      <td>143</td>\n",
       "    </tr>\n",
       "    <tr>\n",
       "      <th>8</th>\n",
       "      <td>AUD</td>\n",
       "      <td>1641.126708</td>\n",
       "      <td>1273.350212</td>\n",
       "      <td>0.007091</td>\n",
       "      <td>19.772611</td>\n",
       "      <td>0.775900</td>\n",
       "      <td>15.341569</td>\n",
       "      <td>83</td>\n",
       "    </tr>\n",
       "    <tr>\n",
       "      <th>33</th>\n",
       "      <td>ETH</td>\n",
       "      <td>0.323759</td>\n",
       "      <td>1153.859397</td>\n",
       "      <td>0.008305</td>\n",
       "      <td>0.000873</td>\n",
       "      <td>3563.950000</td>\n",
       "      <td>3.110133</td>\n",
       "      <td>371</td>\n",
       "    </tr>\n",
       "    <tr>\n",
       "      <th>16</th>\n",
       "      <td>BNB</td>\n",
       "      <td>1.703000</td>\n",
       "      <td>1074.643977</td>\n",
       "      <td>0.011871</td>\n",
       "      <td>0.012902</td>\n",
       "      <td>631.030000</td>\n",
       "      <td>8.141242</td>\n",
       "      <td>132</td>\n",
       "    </tr>\n",
       "    <tr>\n",
       "      <th>77</th>\n",
       "      <td>TRY</td>\n",
       "      <td>8754.012476</td>\n",
       "      <td>1056.227374</td>\n",
       "      <td>0.007388</td>\n",
       "      <td>51.193055</td>\n",
       "      <td>0.120656</td>\n",
       "      <td>6.176768</td>\n",
       "      <td>171</td>\n",
       "    </tr>\n",
       "    <tr>\n",
       "      <th>35</th>\n",
       "      <td>FET</td>\n",
       "      <td>1593.331098</td>\n",
       "      <td>909.409658</td>\n",
       "      <td>0.023599</td>\n",
       "      <td>93.725359</td>\n",
       "      <td>0.570760</td>\n",
       "      <td>53.494686</td>\n",
       "      <td>17</td>\n",
       "    </tr>\n",
       "  </tbody>\n",
       "</table>\n",
       "</div>"
      ],
      "text/plain": [
       "    coin  profit_total  profit_usd_total       roi  profit_avg     price_usd  \\\n",
       "27  DOGE   8855.698186       6379.467859  0.008779   17.854230      0.720380   \n",
       "83  USDT   5096.575253       5096.575253  0.008908    8.609080      1.000000   \n",
       "18   BTC      0.048768       2872.448410  0.008724    0.000101  58900.000000   \n",
       "19  BUSD   1778.408335       1778.408335  0.008574    3.978542      1.000000   \n",
       "34   EUR   1333.245801       1612.960771  0.010261    9.323397      1.209800   \n",
       "8    AUD   1641.126708       1273.350212  0.007091   19.772611      0.775900   \n",
       "33   ETH      0.323759       1153.859397  0.008305    0.000873   3563.950000   \n",
       "16   BNB      1.703000       1074.643977  0.011871    0.012902    631.030000   \n",
       "77   TRY   8754.012476       1056.227374  0.007388   51.193055      0.120656   \n",
       "35   FET   1593.331098        909.409658  0.023599   93.725359      0.570760   \n",
       "\n",
       "    profit_usd_avg  arbitrage_count  \n",
       "27       12.861830              496  \n",
       "83        8.609080              592  \n",
       "18        5.971826              481  \n",
       "19        3.978542              447  \n",
       "34       11.279446              143  \n",
       "8        15.341569               83  \n",
       "33        3.110133              371  \n",
       "16        8.141242              132  \n",
       "77        6.176768              171  \n",
       "35       53.494686               17  "
      ]
     },
     "execution_count": 150,
     "metadata": {},
     "output_type": "execute_result"
    }
   ],
   "source": [
    "df_by_coin_top10 = df_by_coin.sort_values(\"profit_usd_total\", ascending=False)[:10]\n",
    "df_by_coin_top10\\"
   ]
  },
  {
   "cell_type": "code",
   "execution_count": 151,
   "metadata": {},
   "outputs": [
    {
     "data": {
      "text/plain": [
       "26734.57197412531"
      ]
     },
     "execution_count": 151,
     "metadata": {},
     "output_type": "execute_result"
    }
   ],
   "source": [
    "all_coins_total_profit = sum(df_by_coin.profit_usd_total)\n",
    "all_coins_total_profit"
   ]
  },
  {
   "cell_type": "code",
   "execution_count": 152,
   "metadata": {},
   "outputs": [
    {
     "data": {
      "text/plain": [
       "23207.35124544496"
      ]
     },
     "execution_count": 152,
     "metadata": {},
     "output_type": "execute_result"
    }
   ],
   "source": [
    "top10_coins_total_profit = sum(df_by_coin_top10.profit_usd_total)\n",
    "top10_coins_total_profit"
   ]
  },
  {
   "cell_type": "code",
   "execution_count": 49,
   "metadata": {},
   "outputs": [
    {
     "data": {
      "text/plain": [
       "<AxesSubplot:ylabel='profit_usd_total'>"
      ]
     },
     "execution_count": 49,
     "metadata": {},
     "output_type": "execute_result"
    },
    {
     "data": {
      "image/png": "[encoded data removed]",
      "text/plain": [
       "<Figure size 576x396 with 1 Axes>"
      ]
     },
     "metadata": {},
     "output_type": "display_data"
    }
   ],
   "source": [
    "df_by_coin_top10.set_index(\"coin\").plot.pie(y=\"profit_usd_total\")"
   ]
  },
  {
   "cell_type": "markdown",
   "metadata": {},
   "source": [
    "## Stable Coins Profit"
   ]
  },
  {
   "cell_type": "code",
   "execution_count": 50,
   "metadata": {},
   "outputs": [],
   "source": [
    "STABLE_COIN_QUERY = \"coin.str.contains(' BTC') or coin.str.contains('ETH') or coin.str.contains('EUR') or coin.str.contains('RUB') or coin.str.contains('USD')\""
   ]
  },
  {
   "cell_type": "code",
   "execution_count": 51,
   "metadata": {},
   "outputs": [],
   "source": [
    "df_by_coin_stable = df_by_coin.query(STABLE_COIN_QUERY)"
   ]
  },
  {
   "cell_type": "code",
   "execution_count": 52,
   "metadata": {},
   "outputs": [
    {
     "data": {
      "text/html": [
       "<div>\n",
       "<style scoped>\n",
       "    .dataframe tbody tr th:only-of-type {\n",
       "        vertical-align: middle;\n",
       "    }\n",
       "\n",
       "    .dataframe tbody tr th {\n",
       "        vertical-align: top;\n",
       "    }\n",
       "\n",
       "    .dataframe thead th {\n",
       "        text-align: right;\n",
       "    }\n",
       "</style>\n",
       "<table border=\"1\" class=\"dataframe\">\n",
       "  <thead>\n",
       "    <tr style=\"text-align: right;\">\n",
       "      <th></th>\n",
       "      <th>coin</th>\n",
       "      <th>profit_total</th>\n",
       "      <th>profit_usd_total</th>\n",
       "      <th>roi</th>\n",
       "      <th>profit_avg</th>\n",
       "      <th>price_usd</th>\n",
       "      <th>profit_usd_avg</th>\n",
       "      <th>arbitrage_count</th>\n",
       "    </tr>\n",
       "  </thead>\n",
       "  <tbody>\n",
       "    <tr>\n",
       "      <th>83</th>\n",
       "      <td>USDT</td>\n",
       "      <td>5096.575253</td>\n",
       "      <td>5096.575253</td>\n",
       "      <td>0.008908</td>\n",
       "      <td>8.609080</td>\n",
       "      <td>1.000000</td>\n",
       "      <td>8.609080</td>\n",
       "      <td>592</td>\n",
       "    </tr>\n",
       "    <tr>\n",
       "      <th>19</th>\n",
       "      <td>BUSD</td>\n",
       "      <td>1778.408335</td>\n",
       "      <td>1778.408335</td>\n",
       "      <td>0.008574</td>\n",
       "      <td>3.978542</td>\n",
       "      <td>1.000000</td>\n",
       "      <td>3.978542</td>\n",
       "      <td>447</td>\n",
       "    </tr>\n",
       "    <tr>\n",
       "      <th>34</th>\n",
       "      <td>EUR</td>\n",
       "      <td>1333.245801</td>\n",
       "      <td>1612.960771</td>\n",
       "      <td>0.010261</td>\n",
       "      <td>9.323397</td>\n",
       "      <td>1.209800</td>\n",
       "      <td>11.279446</td>\n",
       "      <td>143</td>\n",
       "    </tr>\n",
       "    <tr>\n",
       "      <th>33</th>\n",
       "      <td>ETH</td>\n",
       "      <td>0.323759</td>\n",
       "      <td>1153.859397</td>\n",
       "      <td>0.008305</td>\n",
       "      <td>0.000873</td>\n",
       "      <td>3563.950000</td>\n",
       "      <td>3.110133</td>\n",
       "      <td>371</td>\n",
       "    </tr>\n",
       "    <tr>\n",
       "      <th>68</th>\n",
       "      <td>RUB</td>\n",
       "      <td>14226.312371</td>\n",
       "      <td>191.757705</td>\n",
       "      <td>0.005079</td>\n",
       "      <td>169.360862</td>\n",
       "      <td>0.013479</td>\n",
       "      <td>2.282830</td>\n",
       "      <td>84</td>\n",
       "    </tr>\n",
       "    <tr>\n",
       "      <th>82</th>\n",
       "      <td>USDC</td>\n",
       "      <td>36.742205</td>\n",
       "      <td>36.742205</td>\n",
       "      <td>0.008214</td>\n",
       "      <td>3.674220</td>\n",
       "      <td>1.000000</td>\n",
       "      <td>3.674220</td>\n",
       "      <td>10</td>\n",
       "    </tr>\n",
       "    <tr>\n",
       "      <th>78</th>\n",
       "      <td>TUSD</td>\n",
       "      <td>3.096637</td>\n",
       "      <td>3.096637</td>\n",
       "      <td>0.003757</td>\n",
       "      <td>0.774159</td>\n",
       "      <td>1.000000</td>\n",
       "      <td>0.774159</td>\n",
       "      <td>4</td>\n",
       "    </tr>\n",
       "  </tbody>\n",
       "</table>\n",
       "</div>"
      ],
      "text/plain": [
       "    coin  profit_total  profit_usd_total       roi  profit_avg    price_usd  \\\n",
       "83  USDT   5096.575253       5096.575253  0.008908    8.609080     1.000000   \n",
       "19  BUSD   1778.408335       1778.408335  0.008574    3.978542     1.000000   \n",
       "34   EUR   1333.245801       1612.960771  0.010261    9.323397     1.209800   \n",
       "33   ETH      0.323759       1153.859397  0.008305    0.000873  3563.950000   \n",
       "68   RUB  14226.312371        191.757705  0.005079  169.360862     0.013479   \n",
       "82  USDC     36.742205         36.742205  0.008214    3.674220     1.000000   \n",
       "78  TUSD      3.096637          3.096637  0.003757    0.774159     1.000000   \n",
       "\n",
       "    profit_usd_avg  arbitrage_count  \n",
       "83        8.609080              592  \n",
       "19        3.978542              447  \n",
       "34       11.279446              143  \n",
       "33        3.110133              371  \n",
       "68        2.282830               84  \n",
       "82        3.674220               10  \n",
       "78        0.774159                4  "
      ]
     },
     "execution_count": 52,
     "metadata": {},
     "output_type": "execute_result"
    }
   ],
   "source": [
    "df_by_coin_stable = df_by_coin_stable.sort_values(\"profit_usd_total\", ascending=False)\n",
    "df_by_coin_stable"
   ]
  },
  {
   "cell_type": "code",
   "execution_count": 53,
   "metadata": {},
   "outputs": [
    {
     "data": {
      "text/plain": [
       "9873.400301907692"
      ]
     },
     "execution_count": 53,
     "metadata": {},
     "output_type": "execute_result"
    }
   ],
   "source": [
    "stable_coints_total_profit = sum(df_by_coin_stable.profit_usd_total)\n",
    "stable_coints_total_profit"
   ]
  },
  {
   "cell_type": "code",
   "execution_count": 54,
   "metadata": {
    "scrolled": true
   },
   "outputs": [
    {
     "data": {
      "text/plain": [
       "<AxesSubplot:ylabel='profit_usd_total'>"
      ]
     },
     "execution_count": 54,
     "metadata": {},
     "output_type": "execute_result"
    },
    {
     "data": {
      "image/png": "[encoded data removed]",
      "text/plain": [
       "<Figure size 576x396 with 1 Axes>"
      ]
     },
     "metadata": {},
     "output_type": "display_data"
    }
   ],
   "source": [
    "df_by_coin_stable.set_index(\"coin\").plot.pie(y=\"profit_usd_total\")"
   ]
  },
  {
   "cell_type": "markdown",
   "metadata": {},
   "source": [
    "### Profit by second and thirds coins in the chain"
   ]
  },
  {
   "cell_type": "code",
   "execution_count": 211,
   "metadata": {},
   "outputs": [],
   "source": [
    "topN = 20"
   ]
  },
  {
   "cell_type": "code",
   "execution_count": 212,
   "metadata": {},
   "outputs": [],
   "source": [
    "# df_stable = df.query(STABLE_COIN_QUERY)\n",
    "df_stable = df"
   ]
  },
  {
   "cell_type": "code",
   "execution_count": 213,
   "metadata": {},
   "outputs": [
    {
     "data": {
      "text/html": [
       "<div>\n",
       "<style scoped>\n",
       "    .dataframe tbody tr th:only-of-type {\n",
       "        vertical-align: middle;\n",
       "    }\n",
       "\n",
       "    .dataframe tbody tr th {\n",
       "        vertical-align: top;\n",
       "    }\n",
       "\n",
       "    .dataframe thead th {\n",
       "        text-align: right;\n",
       "    }\n",
       "</style>\n",
       "<table border=\"1\" class=\"dataframe\">\n",
       "  <thead>\n",
       "    <tr style=\"text-align: right;\">\n",
       "      <th></th>\n",
       "      <th>coin</th>\n",
       "      <th>roi</th>\n",
       "      <th>profit</th>\n",
       "      <th>price_usd</th>\n",
       "      <th>profit_usd</th>\n",
       "    </tr>\n",
       "  </thead>\n",
       "  <tbody>\n",
       "    <tr>\n",
       "      <th>0</th>\n",
       "      <td>DOGE</td>\n",
       "      <td>4.354518</td>\n",
       "      <td>8855.698186</td>\n",
       "      <td>3.573085e+02</td>\n",
       "      <td>6379.467859</td>\n",
       "    </tr>\n",
       "    <tr>\n",
       "      <th>1</th>\n",
       "      <td>USDT</td>\n",
       "      <td>5.273372</td>\n",
       "      <td>5096.575253</td>\n",
       "      <td>5.920000e+02</td>\n",
       "      <td>5096.575253</td>\n",
       "    </tr>\n",
       "    <tr>\n",
       "      <th>2</th>\n",
       "      <td>BTC</td>\n",
       "      <td>4.196437</td>\n",
       "      <td>0.048768</td>\n",
       "      <td>2.833090e+07</td>\n",
       "      <td>2872.448410</td>\n",
       "    </tr>\n",
       "    <tr>\n",
       "      <th>3</th>\n",
       "      <td>BUSD</td>\n",
       "      <td>3.832363</td>\n",
       "      <td>1778.408335</td>\n",
       "      <td>4.470000e+02</td>\n",
       "      <td>1778.408335</td>\n",
       "    </tr>\n",
       "    <tr>\n",
       "      <th>4</th>\n",
       "      <td>EUR</td>\n",
       "      <td>1.467375</td>\n",
       "      <td>1333.245801</td>\n",
       "      <td>1.730014e+02</td>\n",
       "      <td>1612.960771</td>\n",
       "    </tr>\n",
       "    <tr>\n",
       "      <th>5</th>\n",
       "      <td>AUD</td>\n",
       "      <td>0.588567</td>\n",
       "      <td>1641.126708</td>\n",
       "      <td>6.439970e+01</td>\n",
       "      <td>1273.350212</td>\n",
       "    </tr>\n",
       "    <tr>\n",
       "      <th>6</th>\n",
       "      <td>ETH</td>\n",
       "      <td>3.081307</td>\n",
       "      <td>0.323759</td>\n",
       "      <td>1.322225e+06</td>\n",
       "      <td>1153.859397</td>\n",
       "    </tr>\n",
       "    <tr>\n",
       "      <th>7</th>\n",
       "      <td>BNB</td>\n",
       "      <td>1.566945</td>\n",
       "      <td>1.703000</td>\n",
       "      <td>8.329596e+04</td>\n",
       "      <td>1074.643977</td>\n",
       "    </tr>\n",
       "    <tr>\n",
       "      <th>8</th>\n",
       "      <td>TRY</td>\n",
       "      <td>1.263308</td>\n",
       "      <td>8754.012476</td>\n",
       "      <td>2.063224e+01</td>\n",
       "      <td>1056.227374</td>\n",
       "    </tr>\n",
       "    <tr>\n",
       "      <th>9</th>\n",
       "      <td>FET</td>\n",
       "      <td>0.401189</td>\n",
       "      <td>1593.331098</td>\n",
       "      <td>9.702920e+00</td>\n",
       "      <td>909.409658</td>\n",
       "    </tr>\n",
       "    <tr>\n",
       "      <th>10</th>\n",
       "      <td>RVN</td>\n",
       "      <td>0.108375</td>\n",
       "      <td>4850.286753</td>\n",
       "      <td>1.056600e+00</td>\n",
       "      <td>854.135497</td>\n",
       "    </tr>\n",
       "    <tr>\n",
       "      <th>11</th>\n",
       "      <td>GBP</td>\n",
       "      <td>0.750623</td>\n",
       "      <td>349.655902</td>\n",
       "      <td>1.179120e+02</td>\n",
       "      <td>485.042667</td>\n",
       "    </tr>\n",
       "    <tr>\n",
       "      <th>12</th>\n",
       "      <td>GXS</td>\n",
       "      <td>0.499117</td>\n",
       "      <td>348.020518</td>\n",
       "      <td>1.023000e+02</td>\n",
       "      <td>404.573852</td>\n",
       "    </tr>\n",
       "    <tr>\n",
       "      <th>13</th>\n",
       "      <td>ADA</td>\n",
       "      <td>0.487405</td>\n",
       "      <td>162.867913</td>\n",
       "      <td>1.024512e+02</td>\n",
       "      <td>260.718955</td>\n",
       "    </tr>\n",
       "    <tr>\n",
       "      <th>14</th>\n",
       "      <td>RUB</td>\n",
       "      <td>0.426662</td>\n",
       "      <td>14226.312371</td>\n",
       "      <td>1.132243e+00</td>\n",
       "      <td>191.757705</td>\n",
       "    </tr>\n",
       "    <tr>\n",
       "      <th>15</th>\n",
       "      <td>BRL</td>\n",
       "      <td>0.897842</td>\n",
       "      <td>1002.907897</td>\n",
       "      <td>1.583113e+01</td>\n",
       "      <td>189.013927</td>\n",
       "    </tr>\n",
       "    <tr>\n",
       "      <th>16</th>\n",
       "      <td>ONT</td>\n",
       "      <td>0.099429</td>\n",
       "      <td>60.832740</td>\n",
       "      <td>1.553856e+02</td>\n",
       "      <td>147.695809</td>\n",
       "    </tr>\n",
       "    <tr>\n",
       "      <th>17</th>\n",
       "      <td>JST</td>\n",
       "      <td>0.549888</td>\n",
       "      <td>792.398656</td>\n",
       "      <td>4.302900e-01</td>\n",
       "      <td>113.653739</td>\n",
       "    </tr>\n",
       "    <tr>\n",
       "      <th>18</th>\n",
       "      <td>RLC</td>\n",
       "      <td>0.199425</td>\n",
       "      <td>23.414528</td>\n",
       "      <td>1.587115e+02</td>\n",
       "      <td>100.436618</td>\n",
       "    </tr>\n",
       "    <tr>\n",
       "      <th>19</th>\n",
       "      <td>STRAX</td>\n",
       "      <td>0.114068</td>\n",
       "      <td>28.319429</td>\n",
       "      <td>5.921820e+01</td>\n",
       "      <td>93.168090</td>\n",
       "    </tr>\n",
       "  </tbody>\n",
       "</table>\n",
       "</div>"
      ],
      "text/plain": [
       "     coin       roi        profit     price_usd   profit_usd\n",
       "0    DOGE  4.354518   8855.698186  3.573085e+02  6379.467859\n",
       "1    USDT  5.273372   5096.575253  5.920000e+02  5096.575253\n",
       "2     BTC  4.196437      0.048768  2.833090e+07  2872.448410\n",
       "3    BUSD  3.832363   1778.408335  4.470000e+02  1778.408335\n",
       "4     EUR  1.467375   1333.245801  1.730014e+02  1612.960771\n",
       "5     AUD  0.588567   1641.126708  6.439970e+01  1273.350212\n",
       "6     ETH  3.081307      0.323759  1.322225e+06  1153.859397\n",
       "7     BNB  1.566945      1.703000  8.329596e+04  1074.643977\n",
       "8     TRY  1.263308   8754.012476  2.063224e+01  1056.227374\n",
       "9     FET  0.401189   1593.331098  9.702920e+00   909.409658\n",
       "10    RVN  0.108375   4850.286753  1.056600e+00   854.135497\n",
       "11    GBP  0.750623    349.655902  1.179120e+02   485.042667\n",
       "12    GXS  0.499117    348.020518  1.023000e+02   404.573852\n",
       "13    ADA  0.487405    162.867913  1.024512e+02   260.718955\n",
       "14    RUB  0.426662  14226.312371  1.132243e+00   191.757705\n",
       "15    BRL  0.897842   1002.907897  1.583113e+01   189.013927\n",
       "16    ONT  0.099429     60.832740  1.553856e+02   147.695809\n",
       "17    JST  0.549888    792.398656  4.302900e-01   113.653739\n",
       "18    RLC  0.199425     23.414528  1.587115e+02   100.436618\n",
       "19  STRAX  0.114068     28.319429  5.921820e+01    93.168090"
      ]
     },
     "execution_count": 213,
     "metadata": {},
     "output_type": "execute_result"
    }
   ],
   "source": [
    "df_stable_coin1 = df_stable.groupby(\"coin\").sum()\n",
    "top10_stable_by_coin1 = df_stable_coin1.sort_values(\"profit_usd\", ascending=False)[:topN].reset_index()\n",
    "top10_stable_by_coin1"
   ]
  },
  {
   "cell_type": "code",
   "execution_count": 214,
   "metadata": {},
   "outputs": [],
   "source": [
    "df_stable_coin2 = df_stable.groupby(\"coin_2\").sum()"
   ]
  },
  {
   "cell_type": "code",
   "execution_count": 215,
   "metadata": {
    "scrolled": true
   },
   "outputs": [
    {
     "data": {
      "text/html": [
       "<div>\n",
       "<style scoped>\n",
       "    .dataframe tbody tr th:only-of-type {\n",
       "        vertical-align: middle;\n",
       "    }\n",
       "\n",
       "    .dataframe tbody tr th {\n",
       "        vertical-align: top;\n",
       "    }\n",
       "\n",
       "    .dataframe thead th {\n",
       "        text-align: right;\n",
       "    }\n",
       "</style>\n",
       "<table border=\"1\" class=\"dataframe\">\n",
       "  <thead>\n",
       "    <tr style=\"text-align: right;\">\n",
       "      <th></th>\n",
       "      <th>coin_2</th>\n",
       "      <th>roi</th>\n",
       "      <th>profit</th>\n",
       "      <th>price_usd</th>\n",
       "      <th>profit_usd</th>\n",
       "    </tr>\n",
       "  </thead>\n",
       "  <tbody>\n",
       "    <tr>\n",
       "      <th>0</th>\n",
       "      <td>USDT</td>\n",
       "      <td>5.302737</td>\n",
       "      <td>15172.994420</td>\n",
       "      <td>6.531040e+06</td>\n",
       "      <td>6941.126955</td>\n",
       "    </tr>\n",
       "    <tr>\n",
       "      <th>1</th>\n",
       "      <td>BTC</td>\n",
       "      <td>5.779419</td>\n",
       "      <td>22247.610407</td>\n",
       "      <td>1.270441e+05</td>\n",
       "      <td>3676.367445</td>\n",
       "    </tr>\n",
       "    <tr>\n",
       "      <th>2</th>\n",
       "      <td>EUR</td>\n",
       "      <td>1.500979</td>\n",
       "      <td>3261.356400</td>\n",
       "      <td>1.239496e+06</td>\n",
       "      <td>2954.255579</td>\n",
       "    </tr>\n",
       "    <tr>\n",
       "      <th>3</th>\n",
       "      <td>BUSD</td>\n",
       "      <td>4.420715</td>\n",
       "      <td>4993.205061</td>\n",
       "      <td>1.928260e+06</td>\n",
       "      <td>2608.332620</td>\n",
       "    </tr>\n",
       "    <tr>\n",
       "      <th>4</th>\n",
       "      <td>TRY</td>\n",
       "      <td>2.127471</td>\n",
       "      <td>3502.969206</td>\n",
       "      <td>1.590607e+06</td>\n",
       "      <td>1545.710532</td>\n",
       "    </tr>\n",
       "    <tr>\n",
       "      <th>5</th>\n",
       "      <td>DOGE</td>\n",
       "      <td>1.540126</td>\n",
       "      <td>2908.405156</td>\n",
       "      <td>5.065533e+06</td>\n",
       "      <td>1308.189948</td>\n",
       "    </tr>\n",
       "    <tr>\n",
       "      <th>6</th>\n",
       "      <td>ETH</td>\n",
       "      <td>2.579236</td>\n",
       "      <td>1088.050018</td>\n",
       "      <td>2.651529e+06</td>\n",
       "      <td>1295.650395</td>\n",
       "    </tr>\n",
       "    <tr>\n",
       "      <th>7</th>\n",
       "      <td>BNB</td>\n",
       "      <td>1.817329</td>\n",
       "      <td>637.867026</td>\n",
       "      <td>7.977673e+05</td>\n",
       "      <td>1250.581375</td>\n",
       "    </tr>\n",
       "    <tr>\n",
       "      <th>8</th>\n",
       "      <td>AUD</td>\n",
       "      <td>0.499482</td>\n",
       "      <td>1386.647331</td>\n",
       "      <td>5.890590e+05</td>\n",
       "      <td>1066.473851</td>\n",
       "    </tr>\n",
       "    <tr>\n",
       "      <th>9</th>\n",
       "      <td>FET</td>\n",
       "      <td>0.229159</td>\n",
       "      <td>1.246381</td>\n",
       "      <td>6.457927e+04</td>\n",
       "      <td>786.773808</td>\n",
       "    </tr>\n",
       "    <tr>\n",
       "      <th>10</th>\n",
       "      <td>GXS</td>\n",
       "      <td>0.799932</td>\n",
       "      <td>55.071786</td>\n",
       "      <td>2.123810e+06</td>\n",
       "      <td>570.732442</td>\n",
       "    </tr>\n",
       "    <tr>\n",
       "      <th>11</th>\n",
       "      <td>RVN</td>\n",
       "      <td>0.047570</td>\n",
       "      <td>535.208636</td>\n",
       "      <td>3.000000e+00</td>\n",
       "      <td>535.208636</td>\n",
       "    </tr>\n",
       "    <tr>\n",
       "      <th>12</th>\n",
       "      <td>GBP</td>\n",
       "      <td>0.472090</td>\n",
       "      <td>646.067157</td>\n",
       "      <td>2.945517e+05</td>\n",
       "      <td>474.721685</td>\n",
       "    </tr>\n",
       "    <tr>\n",
       "      <th>13</th>\n",
       "      <td>RLC</td>\n",
       "      <td>0.264614</td>\n",
       "      <td>82.858624</td>\n",
       "      <td>1.199399e+06</td>\n",
       "      <td>243.923313</td>\n",
       "    </tr>\n",
       "    <tr>\n",
       "      <th>14</th>\n",
       "      <td>USDC</td>\n",
       "      <td>0.194627</td>\n",
       "      <td>33.086765</td>\n",
       "      <td>1.262289e+05</td>\n",
       "      <td>192.857851</td>\n",
       "    </tr>\n",
       "    <tr>\n",
       "      <th>15</th>\n",
       "      <td>BRL</td>\n",
       "      <td>2.036812</td>\n",
       "      <td>204.986938</td>\n",
       "      <td>4.922399e+05</td>\n",
       "      <td>183.287213</td>\n",
       "    </tr>\n",
       "    <tr>\n",
       "      <th>16</th>\n",
       "      <td>CKB</td>\n",
       "      <td>0.107780</td>\n",
       "      <td>102.463323</td>\n",
       "      <td>1.178060e+05</td>\n",
       "      <td>105.671550</td>\n",
       "    </tr>\n",
       "    <tr>\n",
       "      <th>17</th>\n",
       "      <td>ONT</td>\n",
       "      <td>0.072248</td>\n",
       "      <td>810.256213</td>\n",
       "      <td>6.515444e+00</td>\n",
       "      <td>97.762574</td>\n",
       "    </tr>\n",
       "    <tr>\n",
       "      <th>18</th>\n",
       "      <td>STRAX</td>\n",
       "      <td>0.167677</td>\n",
       "      <td>3.871075</td>\n",
       "      <td>2.016596e+05</td>\n",
       "      <td>91.713081</td>\n",
       "    </tr>\n",
       "    <tr>\n",
       "      <th>19</th>\n",
       "      <td>AXS</td>\n",
       "      <td>0.069239</td>\n",
       "      <td>13.413801</td>\n",
       "      <td>6.016306e+04</td>\n",
       "      <td>86.465363</td>\n",
       "    </tr>\n",
       "  </tbody>\n",
       "</table>\n",
       "</div>"
      ],
      "text/plain": [
       "   coin_2       roi        profit     price_usd   profit_usd\n",
       "0    USDT  5.302737  15172.994420  6.531040e+06  6941.126955\n",
       "1     BTC  5.779419  22247.610407  1.270441e+05  3676.367445\n",
       "2     EUR  1.500979   3261.356400  1.239496e+06  2954.255579\n",
       "3    BUSD  4.420715   4993.205061  1.928260e+06  2608.332620\n",
       "4     TRY  2.127471   3502.969206  1.590607e+06  1545.710532\n",
       "5    DOGE  1.540126   2908.405156  5.065533e+06  1308.189948\n",
       "6     ETH  2.579236   1088.050018  2.651529e+06  1295.650395\n",
       "7     BNB  1.817329    637.867026  7.977673e+05  1250.581375\n",
       "8     AUD  0.499482   1386.647331  5.890590e+05  1066.473851\n",
       "9     FET  0.229159      1.246381  6.457927e+04   786.773808\n",
       "10    GXS  0.799932     55.071786  2.123810e+06   570.732442\n",
       "11    RVN  0.047570    535.208636  3.000000e+00   535.208636\n",
       "12    GBP  0.472090    646.067157  2.945517e+05   474.721685\n",
       "13    RLC  0.264614     82.858624  1.199399e+06   243.923313\n",
       "14   USDC  0.194627     33.086765  1.262289e+05   192.857851\n",
       "15    BRL  2.036812    204.986938  4.922399e+05   183.287213\n",
       "16    CKB  0.107780    102.463323  1.178060e+05   105.671550\n",
       "17    ONT  0.072248    810.256213  6.515444e+00    97.762574\n",
       "18  STRAX  0.167677      3.871075  2.016596e+05    91.713081\n",
       "19    AXS  0.069239     13.413801  6.016306e+04    86.465363"
      ]
     },
     "execution_count": 215,
     "metadata": {},
     "output_type": "execute_result"
    }
   ],
   "source": [
    "top10_stable_by_coin2 = df_stable_coin2.sort_values(\"profit_usd\", ascending=False)[:topN].reset_index()\n",
    "top10_stable_by_coin2"
   ]
  },
  {
   "cell_type": "code",
   "execution_count": 216,
   "metadata": {},
   "outputs": [],
   "source": [
    "df_stable_coin3 = df_stable.groupby(\"coin_3\").sum()"
   ]
  },
  {
   "cell_type": "code",
   "execution_count": 217,
   "metadata": {
    "scrolled": true
   },
   "outputs": [
    {
     "data": {
      "text/html": [
       "<div>\n",
       "<style scoped>\n",
       "    .dataframe tbody tr th:only-of-type {\n",
       "        vertical-align: middle;\n",
       "    }\n",
       "\n",
       "    .dataframe tbody tr th {\n",
       "        vertical-align: top;\n",
       "    }\n",
       "\n",
       "    .dataframe thead th {\n",
       "        text-align: right;\n",
       "    }\n",
       "</style>\n",
       "<table border=\"1\" class=\"dataframe\">\n",
       "  <thead>\n",
       "    <tr style=\"text-align: right;\">\n",
       "      <th></th>\n",
       "      <th>coin_3</th>\n",
       "      <th>roi</th>\n",
       "      <th>profit</th>\n",
       "      <th>price_usd</th>\n",
       "      <th>profit_usd</th>\n",
       "    </tr>\n",
       "  </thead>\n",
       "  <tbody>\n",
       "    <tr>\n",
       "      <th>0</th>\n",
       "      <td>DOGE</td>\n",
       "      <td>6.346498</td>\n",
       "      <td>23951.275216</td>\n",
       "      <td>4.300175e+06</td>\n",
       "      <td>7737.257876</td>\n",
       "    </tr>\n",
       "    <tr>\n",
       "      <th>1</th>\n",
       "      <td>USDT</td>\n",
       "      <td>3.529377</td>\n",
       "      <td>303211.682856</td>\n",
       "      <td>4.694469e+06</td>\n",
       "      <td>4600.345766</td>\n",
       "    </tr>\n",
       "    <tr>\n",
       "      <th>2</th>\n",
       "      <td>EUR</td>\n",
       "      <td>1.510579</td>\n",
       "      <td>3713.875353</td>\n",
       "      <td>1.415357e+06</td>\n",
       "      <td>3034.407127</td>\n",
       "    </tr>\n",
       "    <tr>\n",
       "      <th>3</th>\n",
       "      <td>BTC</td>\n",
       "      <td>3.823243</td>\n",
       "      <td>2639.555523</td>\n",
       "      <td>1.496788e+05</td>\n",
       "      <td>2440.488745</td>\n",
       "    </tr>\n",
       "    <tr>\n",
       "      <th>4</th>\n",
       "      <td>BUSD</td>\n",
       "      <td>3.414800</td>\n",
       "      <td>344245.097604</td>\n",
       "      <td>2.334453e+06</td>\n",
       "      <td>1268.305448</td>\n",
       "    </tr>\n",
       "    <tr>\n",
       "      <th>5</th>\n",
       "      <td>BNB</td>\n",
       "      <td>0.935308</td>\n",
       "      <td>1666.911004</td>\n",
       "      <td>4.770117e+03</td>\n",
       "      <td>1023.792245</td>\n",
       "    </tr>\n",
       "    <tr>\n",
       "      <th>6</th>\n",
       "      <td>ETH</td>\n",
       "      <td>2.287081</td>\n",
       "      <td>2863.967627</td>\n",
       "      <td>1.946273e+06</td>\n",
       "      <td>973.912429</td>\n",
       "    </tr>\n",
       "    <tr>\n",
       "      <th>7</th>\n",
       "      <td>FET</td>\n",
       "      <td>0.428265</td>\n",
       "      <td>22.203661</td>\n",
       "      <td>4.712100e+05</td>\n",
       "      <td>898.475054</td>\n",
       "    </tr>\n",
       "    <tr>\n",
       "      <th>8</th>\n",
       "      <td>TRY</td>\n",
       "      <td>1.654712</td>\n",
       "      <td>953.077382</td>\n",
       "      <td>2.642982e+05</td>\n",
       "      <td>897.988611</td>\n",
       "    </tr>\n",
       "    <tr>\n",
       "      <th>9</th>\n",
       "      <td>RVN</td>\n",
       "      <td>0.108375</td>\n",
       "      <td>3495.812936</td>\n",
       "      <td>1.184323e+05</td>\n",
       "      <td>817.488770</td>\n",
       "    </tr>\n",
       "    <tr>\n",
       "      <th>10</th>\n",
       "      <td>GXS</td>\n",
       "      <td>0.886175</td>\n",
       "      <td>592.641373</td>\n",
       "      <td>2.323786e+06</td>\n",
       "      <td>737.242377</td>\n",
       "    </tr>\n",
       "    <tr>\n",
       "      <th>11</th>\n",
       "      <td>RLC</td>\n",
       "      <td>0.320168</td>\n",
       "      <td>19.397245</td>\n",
       "      <td>8.065996e+05</td>\n",
       "      <td>305.411574</td>\n",
       "    </tr>\n",
       "    <tr>\n",
       "      <th>12</th>\n",
       "      <td>ADA</td>\n",
       "      <td>0.578888</td>\n",
       "      <td>351.111370</td>\n",
       "      <td>3.786215e+05</td>\n",
       "      <td>240.019724</td>\n",
       "    </tr>\n",
       "    <tr>\n",
       "      <th>13</th>\n",
       "      <td>USDC</td>\n",
       "      <td>0.211344</td>\n",
       "      <td>120.700626</td>\n",
       "      <td>5.954904e+04</td>\n",
       "      <td>192.515311</td>\n",
       "    </tr>\n",
       "    <tr>\n",
       "      <th>14</th>\n",
       "      <td>AXS</td>\n",
       "      <td>0.105840</td>\n",
       "      <td>126.744859</td>\n",
       "      <td>5.890500e+04</td>\n",
       "      <td>146.244821</td>\n",
       "    </tr>\n",
       "    <tr>\n",
       "      <th>15</th>\n",
       "      <td>ONT</td>\n",
       "      <td>0.099429</td>\n",
       "      <td>127.466114</td>\n",
       "      <td>7.068520e+05</td>\n",
       "      <td>133.617710</td>\n",
       "    </tr>\n",
       "    <tr>\n",
       "      <th>16</th>\n",
       "      <td>AUD</td>\n",
       "      <td>0.238507</td>\n",
       "      <td>124.108749</td>\n",
       "      <td>5.890214e+05</td>\n",
       "      <td>117.940496</td>\n",
       "    </tr>\n",
       "    <tr>\n",
       "      <th>17</th>\n",
       "      <td>CKB</td>\n",
       "      <td>0.107780</td>\n",
       "      <td>3.201718</td>\n",
       "      <td>3.534020e+05</td>\n",
       "      <td>108.133261</td>\n",
       "    </tr>\n",
       "    <tr>\n",
       "      <th>18</th>\n",
       "      <td>LSK</td>\n",
       "      <td>0.319179</td>\n",
       "      <td>57.040797</td>\n",
       "      <td>3.158927e+05</td>\n",
       "      <td>106.558061</td>\n",
       "    </tr>\n",
       "    <tr>\n",
       "      <th>19</th>\n",
       "      <td>STRAX</td>\n",
       "      <td>0.279854</td>\n",
       "      <td>98.753107</td>\n",
       "      <td>5.479378e+05</td>\n",
       "      <td>105.138381</td>\n",
       "    </tr>\n",
       "  </tbody>\n",
       "</table>\n",
       "</div>"
      ],
      "text/plain": [
       "   coin_3       roi         profit     price_usd   profit_usd\n",
       "0    DOGE  6.346498   23951.275216  4.300175e+06  7737.257876\n",
       "1    USDT  3.529377  303211.682856  4.694469e+06  4600.345766\n",
       "2     EUR  1.510579    3713.875353  1.415357e+06  3034.407127\n",
       "3     BTC  3.823243    2639.555523  1.496788e+05  2440.488745\n",
       "4    BUSD  3.414800  344245.097604  2.334453e+06  1268.305448\n",
       "5     BNB  0.935308    1666.911004  4.770117e+03  1023.792245\n",
       "6     ETH  2.287081    2863.967627  1.946273e+06   973.912429\n",
       "7     FET  0.428265      22.203661  4.712100e+05   898.475054\n",
       "8     TRY  1.654712     953.077382  2.642982e+05   897.988611\n",
       "9     RVN  0.108375    3495.812936  1.184323e+05   817.488770\n",
       "10    GXS  0.886175     592.641373  2.323786e+06   737.242377\n",
       "11    RLC  0.320168      19.397245  8.065996e+05   305.411574\n",
       "12    ADA  0.578888     351.111370  3.786215e+05   240.019724\n",
       "13   USDC  0.211344     120.700626  5.954904e+04   192.515311\n",
       "14    AXS  0.105840     126.744859  5.890500e+04   146.244821\n",
       "15    ONT  0.099429     127.466114  7.068520e+05   133.617710\n",
       "16    AUD  0.238507     124.108749  5.890214e+05   117.940496\n",
       "17    CKB  0.107780       3.201718  3.534020e+05   108.133261\n",
       "18    LSK  0.319179      57.040797  3.158927e+05   106.558061\n",
       "19  STRAX  0.279854      98.753107  5.479378e+05   105.138381"
      ]
     },
     "execution_count": 217,
     "metadata": {},
     "output_type": "execute_result"
    }
   ],
   "source": [
    "top10_stable_by_coin3 = df_stable_coin3.sort_values(\"profit_usd\", ascending=False)[:topN].reset_index()\n",
    "top10_stable_by_coin3"
   ]
  },
  {
   "cell_type": "code",
   "execution_count": 235,
   "metadata": {
    "scrolled": true
   },
   "outputs": [
    {
     "data": {
      "text/plain": [
       "15"
      ]
     },
     "execution_count": 235,
     "metadata": {},
     "output_type": "execute_result"
    }
   ],
   "source": [
    "set_of_top_profit_coins = set(top10_stable_by_coin2.coin_2).intersection(set(top10_stable_by_coin3.coin_3))\n",
    "#set_of_top_profit_coins = set(list(set_of_top_profit_coins) + list(top10_stable_by_coin1.coin))\n",
    "set_of_top_profit_coins = set_of_top_profit_coins.intersection(top10_stable_by_coin1.coin)\n",
    "len(set_of_top_profit_coins)"
   ]
  },
  {
   "cell_type": "code",
   "execution_count": 236,
   "metadata": {},
   "outputs": [],
   "source": [
    "def filter_all_3_coins_in(_df, lst):\n",
    "    _df_tmp = _df[_df.coin.isin(lst)]\n",
    "    _df_tmp = _df_tmp[_df_tmp.coin_2.isin(lst)]\n",
    "    _df_tmp = _df_tmp[_df_tmp.coin_3.isin(lst)]\n",
    "    return _df_tmp"
   ]
  },
  {
   "cell_type": "code",
   "execution_count": 237,
   "metadata": {},
   "outputs": [
    {
     "data": {
      "text/html": [
       "<div>\n",
       "<style scoped>\n",
       "    .dataframe tbody tr th:only-of-type {\n",
       "        vertical-align: middle;\n",
       "    }\n",
       "\n",
       "    .dataframe tbody tr th {\n",
       "        vertical-align: top;\n",
       "    }\n",
       "\n",
       "    .dataframe thead th {\n",
       "        text-align: right;\n",
       "    }\n",
       "</style>\n",
       "<table border=\"1\" class=\"dataframe\">\n",
       "  <thead>\n",
       "    <tr style=\"text-align: right;\">\n",
       "      <th></th>\n",
       "      <th>roi</th>\n",
       "      <th>profit</th>\n",
       "      <th>market_path</th>\n",
       "      <th>market</th>\n",
       "      <th>coin_path</th>\n",
       "      <th>timems</th>\n",
       "      <th>end_market</th>\n",
       "      <th>coin</th>\n",
       "      <th>coin_2</th>\n",
       "      <th>coin_3</th>\n",
       "      <th>price_usd</th>\n",
       "      <th>profit_usd</th>\n",
       "    </tr>\n",
       "  </thead>\n",
       "  <tbody>\n",
       "    <tr>\n",
       "      <th>38</th>\n",
       "      <td>0.003157</td>\n",
       "      <td>0.845447</td>\n",
       "      <td>ETH/USDT -&gt; RLC/ETH -&gt; RLC/USDT</td>\n",
       "      <td>ETH/USDT</td>\n",
       "      <td>USDT -&gt; ETH -&gt; RLC -&gt; USDT</td>\n",
       "      <td>1620602662556</td>\n",
       "      <td>RLC/USDT</td>\n",
       "      <td>USDT</td>\n",
       "      <td>ETH</td>\n",
       "      <td>RLC</td>\n",
       "      <td>1.00</td>\n",
       "      <td>0.845447</td>\n",
       "    </tr>\n",
       "    <tr>\n",
       "      <th>39</th>\n",
       "      <td>0.003846</td>\n",
       "      <td>0.105428</td>\n",
       "      <td>ETH/USDT -&gt; RLC/ETH -&gt; RLC/USDT</td>\n",
       "      <td>ETH/USDT</td>\n",
       "      <td>USDT -&gt; ETH -&gt; RLC -&gt; USDT</td>\n",
       "      <td>1620602662864</td>\n",
       "      <td>RLC/USDT</td>\n",
       "      <td>USDT</td>\n",
       "      <td>ETH</td>\n",
       "      <td>RLC</td>\n",
       "      <td>1.00</td>\n",
       "      <td>0.105428</td>\n",
       "    </tr>\n",
       "    <tr>\n",
       "      <th>40</th>\n",
       "      <td>0.003889</td>\n",
       "      <td>15.950707</td>\n",
       "      <td>ETH/USDT -&gt; RLC/ETH -&gt; RLC/USDT</td>\n",
       "      <td>ETH/USDT</td>\n",
       "      <td>USDT -&gt; ETH -&gt; RLC -&gt; USDT</td>\n",
       "      <td>1620602663244</td>\n",
       "      <td>RLC/USDT</td>\n",
       "      <td>USDT</td>\n",
       "      <td>ETH</td>\n",
       "      <td>RLC</td>\n",
       "      <td>1.00</td>\n",
       "      <td>15.950707</td>\n",
       "    </tr>\n",
       "    <tr>\n",
       "      <th>41</th>\n",
       "      <td>0.005499</td>\n",
       "      <td>0.001096</td>\n",
       "      <td>ETH/USDT -&gt; RLC/USDT -&gt; RLC/ETH</td>\n",
       "      <td>ETH/USDT</td>\n",
       "      <td>ETH -&gt; USDT -&gt; RLC -&gt; ETH</td>\n",
       "      <td>1620602696006</td>\n",
       "      <td>RLC/ETH</td>\n",
       "      <td>ETH</td>\n",
       "      <td>USDT</td>\n",
       "      <td>RLC</td>\n",
       "      <td>3563.95</td>\n",
       "      <td>3.904930</td>\n",
       "    </tr>\n",
       "    <tr>\n",
       "      <th>42</th>\n",
       "      <td>0.006799</td>\n",
       "      <td>0.000875</td>\n",
       "      <td>ETH/USDT -&gt; RLC/USDT -&gt; RLC/ETH</td>\n",
       "      <td>ETH/USDT</td>\n",
       "      <td>ETH -&gt; USDT -&gt; RLC -&gt; ETH</td>\n",
       "      <td>1620602696329</td>\n",
       "      <td>RLC/ETH</td>\n",
       "      <td>ETH</td>\n",
       "      <td>USDT</td>\n",
       "      <td>RLC</td>\n",
       "      <td>3563.95</td>\n",
       "      <td>3.116840</td>\n",
       "    </tr>\n",
       "  </tbody>\n",
       "</table>\n",
       "</div>"
      ],
      "text/plain": [
       "         roi     profit                      market_path    market  \\\n",
       "38  0.003157   0.845447  ETH/USDT -> RLC/ETH -> RLC/USDT  ETH/USDT   \n",
       "39  0.003846   0.105428  ETH/USDT -> RLC/ETH -> RLC/USDT  ETH/USDT   \n",
       "40  0.003889  15.950707  ETH/USDT -> RLC/ETH -> RLC/USDT  ETH/USDT   \n",
       "41  0.005499   0.001096  ETH/USDT -> RLC/USDT -> RLC/ETH  ETH/USDT   \n",
       "42  0.006799   0.000875  ETH/USDT -> RLC/USDT -> RLC/ETH  ETH/USDT   \n",
       "\n",
       "                     coin_path         timems end_market  coin coin_2 coin_3  \\\n",
       "38  USDT -> ETH -> RLC -> USDT  1620602662556   RLC/USDT  USDT    ETH    RLC   \n",
       "39  USDT -> ETH -> RLC -> USDT  1620602662864   RLC/USDT  USDT    ETH    RLC   \n",
       "40  USDT -> ETH -> RLC -> USDT  1620602663244   RLC/USDT  USDT    ETH    RLC   \n",
       "41   ETH -> USDT -> RLC -> ETH  1620602696006    RLC/ETH   ETH   USDT    RLC   \n",
       "42   ETH -> USDT -> RLC -> ETH  1620602696329    RLC/ETH   ETH   USDT    RLC   \n",
       "\n",
       "    price_usd  profit_usd  \n",
       "38       1.00    0.845447  \n",
       "39       1.00    0.105428  \n",
       "40       1.00   15.950707  \n",
       "41    3563.95    3.904930  \n",
       "42    3563.95    3.116840  "
      ]
     },
     "execution_count": 237,
     "metadata": {},
     "output_type": "execute_result"
    }
   ],
   "source": [
    "df_top_coins_only = filter_all_3_coins_in(df, set_of_top_profit_coins)\n",
    "df_top_coins_only.head()"
   ]
  },
  {
   "cell_type": "code",
   "execution_count": 238,
   "metadata": {},
   "outputs": [
    {
     "data": {
      "text/plain": [
       "22084.553050971568"
      ]
     },
     "execution_count": 238,
     "metadata": {},
     "output_type": "execute_result"
    }
   ],
   "source": [
    "df_top_coins_only_sum = sum(df_top_coins_only.profit_usd)\n",
    "df_top_coins_only_sum"
   ]
  },
  {
   "cell_type": "code",
   "execution_count": 239,
   "metadata": {},
   "outputs": [
    {
     "data": {
      "text/html": [
       "<div>\n",
       "<style scoped>\n",
       "    .dataframe tbody tr th:only-of-type {\n",
       "        vertical-align: middle;\n",
       "    }\n",
       "\n",
       "    .dataframe tbody tr th {\n",
       "        vertical-align: top;\n",
       "    }\n",
       "\n",
       "    .dataframe thead th {\n",
       "        text-align: right;\n",
       "    }\n",
       "</style>\n",
       "<table border=\"1\" class=\"dataframe\">\n",
       "  <thead>\n",
       "    <tr style=\"text-align: right;\">\n",
       "      <th></th>\n",
       "      <th>roi</th>\n",
       "      <th>profit</th>\n",
       "      <th>price_usd</th>\n",
       "      <th>profit_usd</th>\n",
       "    </tr>\n",
       "    <tr>\n",
       "      <th>coin</th>\n",
       "      <th></th>\n",
       "      <th></th>\n",
       "      <th></th>\n",
       "      <th></th>\n",
       "    </tr>\n",
       "  </thead>\n",
       "  <tbody>\n",
       "    <tr>\n",
       "      <th>DOGE</th>\n",
       "      <td>3.381196</td>\n",
       "      <td>7898.555181</td>\n",
       "      <td>2.362846e+02</td>\n",
       "      <td>5689.961181</td>\n",
       "    </tr>\n",
       "    <tr>\n",
       "      <th>USDT</th>\n",
       "      <td>2.701638</td>\n",
       "      <td>4572.840489</td>\n",
       "      <td>3.260000e+02</td>\n",
       "      <td>4572.840489</td>\n",
       "    </tr>\n",
       "    <tr>\n",
       "      <th>BTC</th>\n",
       "      <td>2.073961</td>\n",
       "      <td>0.039051</td>\n",
       "      <td>1.496060e+07</td>\n",
       "      <td>2300.101699</td>\n",
       "    </tr>\n",
       "    <tr>\n",
       "      <th>EUR</th>\n",
       "      <td>0.834847</td>\n",
       "      <td>1290.322135</td>\n",
       "      <td>1.282388e+02</td>\n",
       "      <td>1561.031718</td>\n",
       "    </tr>\n",
       "    <tr>\n",
       "      <th>BUSD</th>\n",
       "      <td>1.300358</td>\n",
       "      <td>1442.603406</td>\n",
       "      <td>1.150000e+02</td>\n",
       "      <td>1442.603406</td>\n",
       "    </tr>\n",
       "    <tr>\n",
       "      <th>AUD</th>\n",
       "      <td>0.570213</td>\n",
       "      <td>1636.610175</td>\n",
       "      <td>6.052020e+01</td>\n",
       "      <td>1269.845834</td>\n",
       "    </tr>\n",
       "    <tr>\n",
       "      <th>TRY</th>\n",
       "      <td>1.216437</td>\n",
       "      <td>8697.186950</td>\n",
       "      <td>1.942568e+01</td>\n",
       "      <td>1049.371012</td>\n",
       "    </tr>\n",
       "    <tr>\n",
       "      <th>FET</th>\n",
       "      <td>0.401189</td>\n",
       "      <td>1593.331098</td>\n",
       "      <td>9.702920e+00</td>\n",
       "      <td>909.409658</td>\n",
       "    </tr>\n",
       "    <tr>\n",
       "      <th>ETH</th>\n",
       "      <td>0.808688</td>\n",
       "      <td>0.245904</td>\n",
       "      <td>4.098543e+05</td>\n",
       "      <td>876.388397</td>\n",
       "    </tr>\n",
       "    <tr>\n",
       "      <th>RVN</th>\n",
       "      <td>0.108375</td>\n",
       "      <td>4850.286753</td>\n",
       "      <td>1.056600e+00</td>\n",
       "      <td>854.135497</td>\n",
       "    </tr>\n",
       "    <tr>\n",
       "      <th>BNB</th>\n",
       "      <td>0.257764</td>\n",
       "      <td>1.288354</td>\n",
       "      <td>7.572360e+03</td>\n",
       "      <td>812.989788</td>\n",
       "    </tr>\n",
       "    <tr>\n",
       "      <th>GXS</th>\n",
       "      <td>0.499117</td>\n",
       "      <td>348.020518</td>\n",
       "      <td>1.023000e+02</td>\n",
       "      <td>404.573852</td>\n",
       "    </tr>\n",
       "    <tr>\n",
       "      <th>ONT</th>\n",
       "      <td>0.099429</td>\n",
       "      <td>60.832740</td>\n",
       "      <td>1.553856e+02</td>\n",
       "      <td>147.695809</td>\n",
       "    </tr>\n",
       "    <tr>\n",
       "      <th>RLC</th>\n",
       "      <td>0.199425</td>\n",
       "      <td>23.414528</td>\n",
       "      <td>1.587115e+02</td>\n",
       "      <td>100.436618</td>\n",
       "    </tr>\n",
       "    <tr>\n",
       "      <th>STRAX</th>\n",
       "      <td>0.114068</td>\n",
       "      <td>28.319429</td>\n",
       "      <td>5.921820e+01</td>\n",
       "      <td>93.168090</td>\n",
       "    </tr>\n",
       "  </tbody>\n",
       "</table>\n",
       "</div>"
      ],
      "text/plain": [
       "            roi       profit     price_usd   profit_usd\n",
       "coin                                                   \n",
       "DOGE   3.381196  7898.555181  2.362846e+02  5689.961181\n",
       "USDT   2.701638  4572.840489  3.260000e+02  4572.840489\n",
       "BTC    2.073961     0.039051  1.496060e+07  2300.101699\n",
       "EUR    0.834847  1290.322135  1.282388e+02  1561.031718\n",
       "BUSD   1.300358  1442.603406  1.150000e+02  1442.603406\n",
       "AUD    0.570213  1636.610175  6.052020e+01  1269.845834\n",
       "TRY    1.216437  8697.186950  1.942568e+01  1049.371012\n",
       "FET    0.401189  1593.331098  9.702920e+00   909.409658\n",
       "ETH    0.808688     0.245904  4.098543e+05   876.388397\n",
       "RVN    0.108375  4850.286753  1.056600e+00   854.135497\n",
       "BNB    0.257764     1.288354  7.572360e+03   812.989788\n",
       "GXS    0.499117   348.020518  1.023000e+02   404.573852\n",
       "ONT    0.099429    60.832740  1.553856e+02   147.695809\n",
       "RLC    0.199425    23.414528  1.587115e+02   100.436618\n",
       "STRAX  0.114068    28.319429  5.921820e+01    93.168090"
      ]
     },
     "execution_count": 239,
     "metadata": {},
     "output_type": "execute_result"
    }
   ],
   "source": [
    "df_top_coins_only.groupby(\"coin\").sum().sort_values(\"profit_usd\", ascending=False)"
   ]
  },
  {
   "cell_type": "code",
   "execution_count": 240,
   "metadata": {},
   "outputs": [],
   "source": [
    "coin_parts = dict()\n",
    "for coin in set_of_top_profit_coins:\n",
    "    truncated_set = set_of_top_profit_coins.copy()\n",
    "    truncated_set.remove(coin)\n",
    "    df_top_coins_only = filter_all_3_coins_in(df, truncated_set)\n",
    "    profit_usd_sum = df_top_coins_only_sum - sum(df_top_coins_only.profit_usd)\n",
    "    coin_parts[coin] = profit_usd_sum"
   ]
  },
  {
   "cell_type": "code",
   "execution_count": 241,
   "metadata": {},
   "outputs": [
    {
     "name": "stdout",
     "output_type": "stream",
     "text": [
      "Coin participation influeces:\n",
      "\n",
      "('USDT', 14974.750984865514)\n",
      "('DOGE', 13726.783284629884)\n",
      "('EUR', 7398.797007787169)\n",
      "('BTC', 7271.367979905495)\n",
      "('BUSD', 3779.201929151335)\n",
      "('TRY', 3454.912392251783)\n",
      "('ETH', 2718.577853193623)\n",
      "('BNB', 2645.386260738189)\n",
      "('FET', 2594.6585197710447)\n",
      "('AUD', 2450.9742158944136)\n",
      "('RVN', 2206.8329028807166)\n",
      "('GXS', 1712.5486711988815)\n",
      "('RLC', 649.771505230914)\n",
      "('ONT', 379.07609340959243)\n",
      "('STRAX', 290.0195520061825)\n"
     ]
    }
   ],
   "source": [
    "print(\"Coin participation influeces:\\n\")\n",
    "sorted_coin_parts = sorted(coin_parts.items(), key=lambda x: x[1], reverse=True)\n",
    "for el in sorted_coin_parts:\n",
    "    print(el)"
   ]
  },
  {
   "cell_type": "code",
   "execution_count": 271,
   "metadata": {},
   "outputs": [
    {
     "data": {
      "text/plain": [
       "<AxesSubplot:title={'center':'Отсносительный вклад участия разных монет в цепочке арбитража'}>"
      ]
     },
     "execution_count": 271,
     "metadata": {},
     "output_type": "execute_result"
    },
    {
     "data": {
      "image/png": "[encoded data removed]",
      "text/plain": [
       "<Figure size 576x396 with 1 Axes>"
      ]
     },
     "metadata": {},
     "output_type": "display_data"
    }
   ],
   "source": [
    "pd.DataFrame.from_dict(coin_parts, orient=\"index\").sort_values(0, ascending=False).plot.bar(title=\"Отсносительный вклад участия разных монет в цепочке арбитража\")\n"
   ]
  },
  {
   "cell_type": "markdown",
   "metadata": {},
   "source": [
    "## Результаты"
   ]
  },
  {
   "cell_type": "markdown",
   "metadata": {},
   "source": [
    "### Какие коины наиболее прибыльные, если стоят в начале цепочки"
   ]
  },
  {
   "cell_type": "code",
   "execution_count": 179,
   "metadata": {},
   "outputs": [
    {
     "data": {
      "text/html": [
       "<div>\n",
       "<style scoped>\n",
       "    .dataframe tbody tr th:only-of-type {\n",
       "        vertical-align: middle;\n",
       "    }\n",
       "\n",
       "    .dataframe tbody tr th {\n",
       "        vertical-align: top;\n",
       "    }\n",
       "\n",
       "    .dataframe thead th {\n",
       "        text-align: right;\n",
       "    }\n",
       "</style>\n",
       "<table border=\"1\" class=\"dataframe\">\n",
       "  <thead>\n",
       "    <tr style=\"text-align: right;\">\n",
       "      <th></th>\n",
       "      <th>coin</th>\n",
       "      <th>Всего профит</th>\n",
       "      <th>roi</th>\n",
       "      <th>Средний профит на сделку</th>\n",
       "      <th>Кол-во арбтиражей</th>\n",
       "    </tr>\n",
       "  </thead>\n",
       "  <tbody>\n",
       "    <tr>\n",
       "      <th>27</th>\n",
       "      <td>DOGE</td>\n",
       "      <td>$ 6379</td>\n",
       "      <td>0.88%</td>\n",
       "      <td>$ 12.86</td>\n",
       "      <td>496</td>\n",
       "    </tr>\n",
       "    <tr>\n",
       "      <th>83</th>\n",
       "      <td>USDT</td>\n",
       "      <td>$ 5097</td>\n",
       "      <td>0.89%</td>\n",
       "      <td>$ 8.61</td>\n",
       "      <td>592</td>\n",
       "    </tr>\n",
       "    <tr>\n",
       "      <th>18</th>\n",
       "      <td>BTC</td>\n",
       "      <td>$ 2872</td>\n",
       "      <td>0.87%</td>\n",
       "      <td>$ 5.97</td>\n",
       "      <td>481</td>\n",
       "    </tr>\n",
       "    <tr>\n",
       "      <th>19</th>\n",
       "      <td>BUSD</td>\n",
       "      <td>$ 1778</td>\n",
       "      <td>0.86%</td>\n",
       "      <td>$ 3.98</td>\n",
       "      <td>447</td>\n",
       "    </tr>\n",
       "    <tr>\n",
       "      <th>34</th>\n",
       "      <td>EUR</td>\n",
       "      <td>$ 1613</td>\n",
       "      <td>1.03%</td>\n",
       "      <td>$ 11.28</td>\n",
       "      <td>143</td>\n",
       "    </tr>\n",
       "    <tr>\n",
       "      <th>8</th>\n",
       "      <td>AUD</td>\n",
       "      <td>$ 1273</td>\n",
       "      <td>0.71%</td>\n",
       "      <td>$ 15.34</td>\n",
       "      <td>83</td>\n",
       "    </tr>\n",
       "    <tr>\n",
       "      <th>33</th>\n",
       "      <td>ETH</td>\n",
       "      <td>$ 1154</td>\n",
       "      <td>0.83%</td>\n",
       "      <td>$ 3.11</td>\n",
       "      <td>371</td>\n",
       "    </tr>\n",
       "    <tr>\n",
       "      <th>16</th>\n",
       "      <td>BNB</td>\n",
       "      <td>$ 1075</td>\n",
       "      <td>1.19%</td>\n",
       "      <td>$ 8.14</td>\n",
       "      <td>132</td>\n",
       "    </tr>\n",
       "    <tr>\n",
       "      <th>77</th>\n",
       "      <td>TRY</td>\n",
       "      <td>$ 1056</td>\n",
       "      <td>0.74%</td>\n",
       "      <td>$ 6.18</td>\n",
       "      <td>171</td>\n",
       "    </tr>\n",
       "    <tr>\n",
       "      <th>35</th>\n",
       "      <td>FET</td>\n",
       "      <td>$ 909</td>\n",
       "      <td>2.36%</td>\n",
       "      <td>$ 53.49</td>\n",
       "      <td>17</td>\n",
       "    </tr>\n",
       "  </tbody>\n",
       "</table>\n",
       "</div>"
      ],
      "text/plain": [
       "    coin Всего профит    roi Средний профит на сделку  Кол-во арбтиражей\n",
       "27  DOGE       $ 6379  0.88%                  $ 12.86                496\n",
       "83  USDT       $ 5097  0.89%                   $ 8.61                592\n",
       "18   BTC       $ 2872  0.87%                   $ 5.97                481\n",
       "19  BUSD       $ 1778  0.86%                   $ 3.98                447\n",
       "34   EUR       $ 1613  1.03%                  $ 11.28                143\n",
       "8    AUD       $ 1273  0.71%                  $ 15.34                 83\n",
       "33   ETH       $ 1154  0.83%                   $ 3.11                371\n",
       "16   BNB       $ 1075  1.19%                   $ 8.14                132\n",
       "77   TRY       $ 1056  0.74%                   $ 6.18                171\n",
       "35   FET        $ 909  2.36%                  $ 53.49                 17"
      ]
     },
     "execution_count": 179,
     "metadata": {},
     "output_type": "execute_result"
    }
   ],
   "source": [
    "df_tmp = df_by_coin_top10.copy()\n",
    "df_tmp.profit_usd_total = df_tmp.profit_usd_total.apply(lambda v: f\"$ {round(v)}\")\n",
    "df_tmp.roi = df_tmp.roi.apply(lambda v: f\"{round(100*v, 2)}%\")\n",
    "df_tmp.profit_usd_avg = df_tmp.profit_usd_avg.apply(lambda v: f\"$ {round(v, 2)}\")\n",
    "df_tmp = df_tmp[[\"coin\", \"profit_usd_total\", \"roi\", \"profit_usd_avg\", \"arbitrage_count\"]].rename(columns={\n",
    "    \"profit_usd_total\": \"Всего профит\", \"profit_usd_avg\": \"Средний профит на сделку\", \"arbitrage_count\": \"Кол-во арбтиражей\"\n",
    "})\n",
    "\n",
    "df_tmp"
   ]
  },
  {
   "cell_type": "code",
   "execution_count": 180,
   "metadata": {},
   "outputs": [
    {
     "data": {
      "image/png": "[encoded data removed]",
      "text/plain": [
       "<Figure size 576x396 with 1 Axes>"
      ]
     },
     "metadata": {},
     "output_type": "display_data"
    }
   ],
   "source": [
    "pie = df_by_coin_top10.set_index(\"coin\").plot.pie(y=\"profit_usd_total\", autopct='%1.1f%%', shadow=True, legend=False)"
   ]
  },
  {
   "cell_type": "markdown",
   "metadata": {},
   "source": [
    "### Наиболее прибыльные монеты (если мы составляем арбитраж только из них)"
   ]
  },
  {
   "cell_type": "code",
   "execution_count": 275,
   "metadata": {},
   "outputs": [
    {
     "name": "stdout",
     "output_type": "stream",
     "text": [
      "Наиболее прибыльная цепочка арбитража их трех монет в любой последовательности: \n",
      " ['USDT', 'DOGE', 'EUR'] => всего $ 5801\n"
     ]
    }
   ],
   "source": [
    "top3_coins = [v[0] for v in sorted_coin_parts][:3]\n",
    "top3_coins_profit = sum(filter_all_3_coins_in(df, top3_coins).profit_usd)\n",
    "print(f\"Наиболее прибыльная цепочка арбитража их трех монет в любой последовательности: \\n {top3_coins} => всего $ {round(top3_coins_profit)}\")"
   ]
  },
  {
   "cell_type": "code",
   "execution_count": 282,
   "metadata": {},
   "outputs": [
    {
     "name": "stdout",
     "output_type": "stream",
     "text": [
      "Как меняется прибыль, если мы добавляем по одной другие монеты, в порядке прибыльности\n",
      "\n",
      "+BTC => $ 6773\n",
      "+BUSD => $ 9398\n",
      "+TRY => $ 11275\n",
      "+ETH => $ 11753\n",
      "+BNB => $ 11800\n",
      "+FET => $ 14395\n",
      "+AUD => $ 16846\n",
      "+RVN => $ 19053\n",
      "+GXS => $ 20765\n",
      "+RLC => $ 21415\n",
      "+ONT => $ 21794\n",
      "+STRAX => $ 22084\n"
     ]
    }
   ],
   "source": [
    "net_profit_by_coins = dict()\n",
    "net_profit_by_coins[str(top3_coins)] = top3_coins_profit\n",
    "\n",
    "print(\"Как меняется прибыль, если мы добавляем по одной другие монеты, в порядке прибыльности\\n\")\n",
    "for i in range(4, len(sorted_coin_parts)+1):\n",
    "    extra_coin = sorted_coin_parts[i-1][0]\n",
    "    topN_coins = [v[0] for v in sorted_coin_parts][:i]\n",
    "    topN_coins_df = filter_all_3_coins_in(df, topN_coins)\n",
    "    topN_coins_profit = sum(topN_coins_df.profit_usd)\n",
    "    net_profit_by_coins[extra_coin] = topN_coins_profit\n",
    "    print(f\"+{extra_coin} => $ {int(topN_coins_profit)}\")"
   ]
  },
  {
   "cell_type": "code",
   "execution_count": 312,
   "metadata": {},
   "outputs": [
    {
     "name": "stderr",
     "output_type": "stream",
     "text": [
      "/Users/az/.pyenv/versions/3.7.7/lib/python3.7/site-packages/pandas/plotting/_matplotlib/core.py:1192: UserWarning: FixedFormatter should only be used together with FixedLocator\n",
      "  ax.set_xticklabels(xticklabels)\n"
     ]
    },
    {
     "data": {
      "text/plain": [
       "<AxesSubplot:title={'center':'График прибыли по цепочкам монет: начинаем с трех, добавляем по одной монете, и смотрим, как меняется прибыль (по данным выше)'}>"
      ]
     },
     "execution_count": 312,
     "metadata": {},
     "output_type": "execute_result"
    },
    {
     "data": {
      "image/png": "[encoded data removed]",
      "text/plain": [
       "<Figure size 576x396 with 1 Axes>"
      ]
     },
     "metadata": {},
     "output_type": "display_data"
    }
   ],
   "source": [
    "df_tmp = pd.DataFrame.from_dict(net_profit_by_coins, orient=\"index\")\n",
    "df_tmp.plot.line(\n",
    "    title=\"График прибыли по цепочкам монет: начинаем с трех, добавляем по одной монете, и смотрим, как меняется прибыль (по данным выше)\"\n",
    ")"
   ]
  },
  {
   "cell_type": "markdown",
   "metadata": {},
   "source": [
    "### Время жизни арбитража"
   ]
  },
  {
   "cell_type": "markdown",
   "metadata": {},
   "source": [
    "По текущей статистике, соотношения ниже почти не меняются при выборке из самых прибыльных монет (вместо \"всех монет\").\n",
    "\n",
    "Для стейблкоинов + BTC,ETH арбитражей крайне мало, и 100% уходят менее чем за 100 ms"
   ]
  },
  {
   "cell_type": "code",
   "execution_count": 318,
   "metadata": {},
   "outputs": [
    {
     "name": "stdout",
     "output_type": "stream",
     "text": [
      "Время жизни арбитражных сделок: \n",
      "Менее 0.1 сек: \t2487 (85.11%)\n",
      "Больше 0.1 сек: \t435 (14.89%)\n",
      "Больше 0.2 сек: \t185 (6.33%)\n",
      "Больше 0.3 сек: \t119 (4.07%)\n",
      "Больше 0.4 сек: \t73 (2.5%)\n",
      "Больше 0.5 сек: \t45 (1.54%)\n",
      "Больше 0.6 сек: \t39 (1.33%)\n",
      "Больше 0.7 сек: \t39 (1.33%)\n",
      "Больше 0.8 сек: \t25 (0.86%)\n",
      "Больше 0.9 сек: \t25 (0.86%)\n",
      "Больше 1.0 сек: \t22 (0.75%)\n",
      "Больше 1.1 сек: \t22 (0.75%)\n",
      "Больше 1.2 сек: \t13 (0.44%)\n",
      "Больше 1.3 сек: \t11 (0.38%)\n",
      "Больше 1.4 сек: \t6 (0.21%)\n",
      "Больше 1.5 сек: \t6 (0.21%)\n",
      "Больше 1.6 сек: \t6 (0.21%)\n",
      "Больше 1.7 сек: \t6 (0.21%)\n",
      "Больше 1.8 сек: \t3 (0.1%)\n",
      "Больше 1.9 сек: \t3 (0.1%)\n",
      "Больше 2.0 сек: \t3 (0.1%)\n",
      "Больше 2.1 сек: \t2 (0.07%)\n",
      "Больше 2.2 сек: \t0 (0.0%)\n",
      "Больше 2.3 сек: \t0 (0.0%)\n",
      "Больше 2.4 сек: \t0 (0.0%)\n"
     ]
    }
   ],
   "source": [
    "print(\"Время жизни арбитражных сделок: \")\n",
    "for k,v in arbitrage_ttls.items():\n",
    "    if k == 0:\n",
    "        print(f\"Менее 0.1 сек: \\t{v} ({round(100*v/total_grouped_arbitrage_counts, 2)}%)\")\n",
    "        continue\n",
    "    print(f\"Больше {round(k/1000,1)} сек: \\t{v} ({round(100*v/total_grouped_arbitrage_counts, 2)}%)\")"
   ]
  },
  {
   "cell_type": "code",
   "execution_count": 319,
   "metadata": {
    "scrolled": false
   },
   "outputs": [
    {
     "data": {
      "text/plain": [
       "<AxesSubplot:title={'center':'Количество сделок, живущих дольше чем Х милисекунд (1000 милисекунда = 1 секунда)'}>"
      ]
     },
     "execution_count": 319,
     "metadata": {},
     "output_type": "execute_result"
    },
    {
     "data": {
      "image/png": "[encoded data removed]",
      "text/plain": [
       "<Figure size 576x396 with 1 Axes>"
      ]
     },
     "metadata": {},
     "output_type": "display_data"
    }
   ],
   "source": [
    "df_tmp = pd.DataFrame.from_dict(ttls, orient=\"index\")\n",
    "df_tmp.plot.line(title=\"Количество сделок, живущих дольше чем Х милисекунд (1000 милисекунда = 1 секунда)\")"
   ]
  },
  {
   "cell_type": "markdown",
   "metadata": {},
   "source": [
    "### Еще немного статистики"
   ]
  },
  {
   "cell_type": "code",
   "execution_count": 289,
   "metadata": {},
   "outputs": [
    {
     "name": "stdout",
     "output_type": "stream",
     "text": [
      "\n",
      "    Total 91 coins, potential profit: \t$ 26735\n",
      "    Start with stable [*USD, BTC, ETH]:\t$ 9873\n",
      "    Start with Best Coin 'DOGE': \t$ 6379\n",
      "    Start with Best Stable 'USDT': \t$ 5097\n",
      "    If only ['USDT', 'DOGE', 'EUR']:\t$ 5801\n",
      "    If OLNY top15 coins: \t\t$ 22085\n",
      "    ----------------\n",
      "    First Arbitrage Found Time: \t2021-05-08 17:22:35.320000\n",
      "    Last Arbitrage Found Time: \t\t2021-05-12 16:39:10.708000\n",
      "\n"
     ]
    }
   ],
   "source": [
    "print(f\"\"\"\n",
    "    Total {len(df.coin.unique())} coins, potential profit: \\t$ {round(all_coins_total_profit)}\n",
    "    Start with stable [*USD, BTC, ETH]:\\t$ {round(stable_coints_total_profit)}\n",
    "    Start with Best Coin '{df_by_coin_top10.iloc[0].coin}': \\t$ {round(df_by_coin_top10.iloc[0].profit_usd_total)}\n",
    "    Start with Best Stable '{df_by_coin_stable.iloc[0].coin}': \\t$ {round(df_by_coin_stable.iloc[0].profit_usd_total)}\n",
    "    If only {top3_coins}:\\t$ {round(top3_coins_profit)}\n",
    "    If OLNY top{len(sorted_coin_parts)} coins: \\t\\t$ {round(df_top_coins_only_sum)}\n",
    "    ----------------\n",
    "    First Arbitrage Found Time: \\t{starttime}\n",
    "    Last Arbitrage Found Time: \\t\\t{endtime}\n",
    "\"\"\")"
   ]
  }
 ],
 "metadata": {
  "kernelspec": {
   "display_name": "Python 3",
   "language": "python",
   "name": "python3"
  },
  "language_info": {
   "codemirror_mode": {
    "name": "ipython",
    "version": 3
   },
   "file_extension": ".py",
   "mimetype": "text/x-python",
   "name": "python",
   "nbconvert_exporter": "python",
   "pygments_lexer": "ipython3",
   "version": "3.7.7"
  }
 },
 "nbformat": 4,
 "nbformat_minor": 1
}
